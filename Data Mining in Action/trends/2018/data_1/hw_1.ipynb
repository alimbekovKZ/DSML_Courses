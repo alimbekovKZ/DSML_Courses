{
 "cells": [
  {
   "cell_type": "markdown",
   "metadata": {},
   "source": [
    "# Hello, pytorch\n",
    "\n",
    "![img](https://s1.postimg.org/6fl45xnvnj/pytorch-logo-dark.png)\n",
    "\n",
    "Hello, github dweller!\n",
    "\n",
    "__This notebook__ will teach you to use pytorch low-level core. You can install it [here](http://pytorch.org/). For high-level interface see the next notebook.\n",
    "\n",
    "__Pytorch feels__ differently than tensorflow/theano in almost every level. TensorFlow makes your code live in two \"worlds\" simultaneously:  symbolic graphs and actual tensors. First you declare a symbolic \"recipe\" of how to get from inputs to outputs, then feed it with actual minibatches of data.  In pytorch, __there's only one world__: all tensors have a numeric value.\n",
    "\n",
    "You compute outputs on the fly without pre-declaring anything. The code looks exactly as in pure numpy with one exception: pytorch computes gradients for you. And can run stuff on GPU. And has a number of pre-implemented building blocks for your neural nets. [And a few more things.](https://medium.com/towards-data-science/pytorch-vs-tensorflow-spotting-the-difference-25c75777377b)\n",
    "\n",
    "And now we finally shut up and let pytorch do the talking."
   ]
  },
  {
   "cell_type": "code",
   "execution_count": 1,
   "metadata": {},
   "outputs": [
    {
     "name": "stdout",
     "output_type": "stream",
     "text": [
      "0.2.0_4\n"
     ]
    }
   ],
   "source": [
    "from __future__ import print_function\n",
    "import numpy as np\n",
    "import torch\n",
    "print(torch.__version__)"
   ]
  },
  {
   "cell_type": "code",
   "execution_count": 6,
   "metadata": {
    "scrolled": true
   },
   "outputs": [
    {
     "name": "stdout",
     "output_type": "stream",
     "text": [
      "X :\n",
      "[[ 0  1  2  3]\n",
      " [ 4  5  6  7]\n",
      " [ 8  9 10 11]\n",
      " [12 13 14 15]]\n",
      "add 5 :\n",
      "[[ 5  6  7  8]\n",
      " [ 9 10 11 12]\n",
      " [13 14 15 16]\n",
      " [17 18 19 20]]\n",
      "X*X^T  :\n",
      " [[ 14  38  62  86]\n",
      " [ 38 126 214 302]\n",
      " [ 62 214 366 518]\n",
      " [ 86 302 518 734]]\n",
      "mean over cols :\n",
      "[  1.5   5.5   9.5  13.5]\n",
      "cumsum of cols :\n",
      "[[ 0  1  2  3]\n",
      " [ 4  6  8 10]\n",
      " [12 15 18 21]\n",
      " [24 28 32 36]]\n"
     ]
    }
   ],
   "source": [
    "# numpy world\n",
    "\n",
    "x = np.arange(16).reshape(4,4)\n",
    "\n",
    "print (\"X :\\n%s\"%x)\n",
    "print (\"add 5 :\\n%s\"%(x + 5))\n",
    "print (\"X*X^T  :\\n\",np.dot(x,x.T))\n",
    "print (\"mean over cols :\\n%s\"%(x.mean(axis=-1)))\n",
    "print (\"cumsum of cols :\\n%s\"%(np.cumsum(x,axis=0)))"
   ]
  },
  {
   "cell_type": "code",
   "execution_count": 7,
   "metadata": {},
   "outputs": [
    {
     "name": "stdout",
     "output_type": "stream",
     "text": [
      "X :\n",
      "\n",
      "  0   1   2   3\n",
      "  4   5   6   7\n",
      "  8   9  10  11\n",
      " 12  13  14  15\n",
      "[torch.FloatTensor of size 4x4]\n",
      "\n",
      "add 5 :\n",
      " \n",
      "  5   6   7   8\n",
      "  9  10  11  12\n",
      " 13  14  15  16\n",
      " 17  18  19  20\n",
      "[torch.FloatTensor of size 4x4]\n",
      "\n",
      "X*X^T  :\n",
      " \n",
      "  14   38   62   86\n",
      "  38  126  214  302\n",
      "  62  214  366  518\n",
      "  86  302  518  734\n",
      "[torch.FloatTensor of size 4x4]\n",
      "\n",
      "mean over cols :\n",
      " \n",
      "  1.5000\n",
      "  5.5000\n",
      "  9.5000\n",
      " 13.5000\n",
      "[torch.FloatTensor of size 4]\n",
      "\n",
      "cumsum of cols :\n",
      " \n",
      "  0   1   2   3\n",
      "  4   6   8  10\n",
      " 12  15  18  21\n",
      " 24  28  32  36\n",
      "[torch.FloatTensor of size 4x4]\n",
      "\n"
     ]
    }
   ],
   "source": [
    "# pytorch world\n",
    "\n",
    "x = np.arange(16).reshape(4,4)\n",
    "\n",
    "x = torch.from_numpy(x).type(torch.FloatTensor) #or torch.arange(0,16).view(4,4)\n",
    "\n",
    "print (\"X :\\n%s\"%x)\n",
    "print (\"add 5 :\\n%s\"%(x+5))\n",
    "print (\"X*X^T  :\\n\",torch.matmul(x,x.transpose(1,0)))\n",
    "print (\"mean over cols :\\n\",torch.mean(x,dim=-1))\n",
    "print (\"cumsum of cols :\\n\",torch.cumsum(x,dim=0))"
   ]
  },
  {
   "cell_type": "markdown",
   "metadata": {},
   "source": [
    "## NumPy and Pytorch\n",
    "\n",
    "As you can notice, pytorch allows you to hack stuff much the same way you did with numpy. No graph declaration, no placeholders, no sessions. This means that you can _see the numeric value of any tensor at any moment of time_. Debugging such code can be done with by printing tensors or using any debug tool you want (e.g. [gdb](https://wiki.python.org/moin/DebuggingWithGdb)).\n",
    "\n",
    "You could also notice the a few new method names and a different API. So no, there's no compatibility with numpy [yet](https://github.com/pytorch/pytorch/issues/2228) and yes, you'll have to memorize all the names again. Cheers!\n",
    "\n",
    "![img](http://i0.kym-cdn.com/entries/icons/original/000/017/886/download.jpg)\n",
    "\n",
    "For example, \n",
    "* If something takes a list/tuple of axes in numpy, you can expect it to take *args in pytorch\n",
    " * `x.reshape([1,2,8]) -> x.view(1,2,8)`\n",
    "* You should swap _axis_ for _dim_ in operations like mean or cumsum\n",
    " * `x.sum(axis=-1) -> x.sum(dim=-1)`\n",
    "* most mathematical operations are the same, but types an shaping is different\n",
    " * `x.astype('int64') -> x.type(torch.LongTensor)`\n",
    "\n",
    "To help you acclimatize, there's a [table](https://github.com/torch/torch7/wiki/Torch-for-Numpy-users) covering most new things. There's also a neat [documentation page](http://pytorch.org/docs/master/).\n",
    "\n",
    "Finally, if you're stuck with a technical problem, we recommend searching [pytorch forumns](https://discuss.pytorch.org/). Or just googling, which usually works just as efficiently. \n",
    "\n",
    "If you feel like you almost give up, remember two things: __GPU__ an __free gradients__. Besides you can always jump back to numpy with x.numpy()"
   ]
  },
  {
   "cell_type": "code",
   "execution_count": null,
   "metadata": {
    "collapsed": true
   },
   "outputs": [],
   "source": [
    "x = torch.linspace(0,2*np.pi,16)\n",
    "\n",
    "#Mini-task: compute a vector of sin^2(x) + cos^2(x)\n",
    "out = <your code here>\n",
    "\n",
    "print(out.numpy())"
   ]
  },
  {
   "cell_type": "markdown",
   "metadata": {},
   "source": [
    "```\n",
    "\n",
    "```\n",
    "\n",
    "```\n",
    "\n",
    "```\n",
    "\n",
    "```\n",
    "\n",
    "```\n",
    "\n",
    "```\n",
    "\n",
    "```\n",
    "\n",
    "```\n",
    "\n",
    "```\n",
    "\n",
    "```\n",
    "\n",
    "```\n",
    "\n",
    "```\n",
    "\n",
    "```\n",
    "\n",
    "```\n",
    "\n",
    "```\n",
    "\n",
    "```\n",
    "\n",
    "```\n",
    "\n",
    "```\n",
    "\n",
    "```\n",
    "\n",
    "```\n",
    "\n",
    "```\n",
    "\n",
    "\n",
    "### Tensor vs Variable\n",
    "![img](https://s1.postimg.org/1i8tinij33/torch_tensor_variable.png)\n",
    "\n",
    "`    ` Tensor and Variable Weasley were identical and mischievous twin classes living in pytorch. Brilliant pranksters, they make sure your code never runs successfully from the first attempt.\n",
    "\n",
    "`    ` Seriously though, pytorch suddenly has 2 main abstractions:\n",
    "* Tensor, that we've just used\n",
    "* Variable, which extends tensor and allows for automatic gradients\n",
    "\n",
    "Ideally, you could wrap everything into Variable from the get-go an forget about Tensor. Hopefully you will once be able to do so [upvote [this](https://github.com/pytorch/pytorch/issues/2228)]. Right now you can't.\n",
    "\n",
    "\n",
    "Some operations only work on tensors (e.g. bitwise &|~), some functions require variables (torch.nn.functional.whatever).\n",
    "\n",
    "The good news is that you can always swap between the two seamlessly\n",
    "* tensor to variable: `Variable(x)`\n",
    "* variable to tensor: `x.data`\n"
   ]
  },
  {
   "cell_type": "code",
   "execution_count": null,
   "metadata": {
    "collapsed": true
   },
   "outputs": [],
   "source": [
    "from torch.autograd import Variable\n",
    "\n",
    "x = torch.arange(0,16).view(4,4).type(torch.IntTensor)\n",
    "x_var = Variable(x)\n",
    "\n",
    "print (\"Logical or (tensors):\\n\",(x==1) | (x%3==0))\n",
    "\n",
    "#will not work\n",
    "try:\n",
    "    print (\"Logical or (variables):\")\n",
    "    print ((x_var==1) | (x_var%3==0))\n",
    "except Exception as e:\n",
    "    print (e)\n",
    "#instead: (x_var.data==1) | (x_var.data%3==0)\n"
   ]
  },
  {
   "cell_type": "code",
   "execution_count": null,
   "metadata": {
    "collapsed": true
   },
   "outputs": [],
   "source": [
    "#works:\n",
    "sequence = torch.randn(1,8,10)\n",
    "filters = torch.randn(2,8,3)\n",
    "\n",
    "#will work:\n",
    "print(\"conv1d (variables):\\n\",torch.nn.functional.conv1d(Variable(sequence),Variable(filters)))\n",
    "\n",
    "#will not work:\n",
    "try:\n",
    "    print(\"conv1d (tensors):\")\n",
    "    print(torch.nn.functional.conv1d(sequence,filters))\n",
    "except Exception as e:\n",
    "    print (e)\n",
    "\n"
   ]
  },
  {
   "cell_type": "markdown",
   "metadata": {},
   "source": [
    "## Task I: the game of life\n",
    "\n",
    "Now it's time for you to make something more challenging. We'll implement Conway's [Game of Life](http://web.stanford.edu/~cdebs/GameOfLife/) in _pure pytorch_. \n",
    "\n",
    "While this is still a toy task, implementing game of life this way has one cool benefit: __you'll be able to run it on GPU! __ Indeed, what could be a better use of your gpu than simulating game of life on 1M/1M grids?\n",
    "\n",
    "![img](https://cdn.tutsplus.com/gamedev/authors/legacy/Stephane%20Beniak/2012/09/11/Preview_Image.png)\n",
    "If you've skipped the url above out of sloth, here's the game of life:\n",
    "* You have a 2D grid of cells, where each cell is \"alive\"(1) or \"dead\"(0)\n",
    "* Any living cell that has 2 or 3 neighbors survives, else it dies [0,1 or 4+ neighbors]\n",
    "* Any cell with exactly 3 neighbors becomes alive (if it was dead)\n",
    "\n",
    "For this task, you are given a reference numpy implementation that you must convert to pytorch.\n",
    "_[numpy code inspired by: https://github.com/rougier/numpy-100]_\n",
    "\n",
    "\n",
    "__Note:__ You can find convolution in `torch.nn.functional.conv2d(Z,filters)`. Note that it has a different input format. \n",
    "\n",
    "It's also convenient to `import torch.nn.functional as F`. \n"
   ]
  },
  {
   "cell_type": "code",
   "execution_count": null,
   "metadata": {
    "collapsed": true
   },
   "outputs": [],
   "source": [
    "import numpy as np\n",
    "from scipy.signal import convolve2d\n",
    "def np_update(Z):\n",
    "    # Count neighbours with convolution\n",
    "    filters = np.array([[1,1,1],\n",
    "                        [1,0,1],\n",
    "                        [1,1,1]])\n",
    "    \n",
    "    N = convolve2d(Z,filters,mode='same')\n",
    "    \n",
    "    # Apply rules\n",
    "    birth = (N==3) & (Z==0)\n",
    "    survive = ((N==2) | (N==3)) & (Z==1)\n",
    "    \n",
    "    Z[:] = birth | survive\n",
    "    return Z"
   ]
  },
  {
   "cell_type": "code",
   "execution_count": null,
   "metadata": {
    "collapsed": true
   },
   "outputs": [],
   "source": [
    "def torch_update(Z):\n",
    "    \"\"\"\n",
    "    Implement an update function that does to Z exactly the same as np_update.\n",
    "    :param Z: torch.FloatTensor of shape [height,width] containing 0s(dead) an 1s(alive)\n",
    "    :returns: torch.FloatTensor Z after updates.\n",
    "    \n",
    "    You can opt to create new tensor or change Z inplace.\n",
    "    \"\"\"\n",
    "    \n",
    "    #<Your code here!>\n",
    "    \n",
    "    return Z\n"
   ]
  },
  {
   "cell_type": "code",
   "execution_count": null,
   "metadata": {
    "collapsed": true
   },
   "outputs": [],
   "source": [
    "\n",
    "#initial frame\n",
    "Z_numpy = np.random.choice([0,1],p=(0.5,0.5),size=(100,100))\n",
    "Z = torch.from_numpy(Z_numpy).type(torch.FloatTensor)\n",
    "\n",
    "#your debug polygon :)\n",
    "Z_new = torch_update(Z.clone())\n",
    "\n",
    "#tests\n",
    "Z_reference = np_update(Z_numpy.copy())\n",
    "assert np.all(Z_new.numpy() == Z_reference), \"your pytorch implementation doesn't match np_update. Look into Z and np_update(ZZ) to investigate.\"\n",
    "print(\"Well done!\")"
   ]
  },
  {
   "cell_type": "code",
   "execution_count": null,
   "metadata": {
    "collapsed": true
   },
   "outputs": [],
   "source": [
    "import matplotlib.pyplot as plt\n",
    "%matplotlib notebook\n",
    "plt.ion()\n",
    "\n",
    "#initialize game field\n",
    "Z = np.random.choice([0,1],size=(100,100))\n",
    "Z = torch.from_numpy(Z).type(torch.FloatTensor)\n",
    "\n",
    "fig = plt.figure()\n",
    "ax = fig.add_subplot(111)\n",
    "fig.show()\n",
    "\n",
    "for _ in range(100):\n",
    "    \n",
    "    #update\n",
    "    Z = torch_update(Z)\n",
    "    \n",
    "    #re-draw image\n",
    "    ax.clear()\n",
    "    ax.imshow(Z.numpy(),cmap='gray')\n",
    "    fig.canvas.draw()\n"
   ]
  },
  {
   "cell_type": "code",
   "execution_count": null,
   "metadata": {
    "collapsed": true
   },
   "outputs": [],
   "source": [
    "#Some fun setups with GoL for your amusement\n",
    "\n",
    "#parallel stripes\n",
    "Z = np.arange(100)%2 + np.zeros([100,100])\n",
    "#with a small imperfection\n",
    "Z[48:52,50]=1\n",
    "\n",
    "Z = torch.from_numpy(Z).type(torch.FloatTensor)\n",
    "\n",
    "fig = plt.figure()\n",
    "ax = fig.add_subplot(111)\n",
    "fig.show()\n",
    "\n",
    "for _ in range(100):\n",
    "    Z = torch_update(Z)\n",
    "    ax.clear()\n",
    "    ax.imshow(Z.numpy(),cmap='gray')\n",
    "    fig.canvas.draw()"
   ]
  },
  {
   "cell_type": "markdown",
   "metadata": {},
   "source": [
    "More fun with Game of Life: [video](https://www.youtube.com/watch?v=C2vgICfQawE)"
   ]
  },
  {
   "cell_type": "markdown",
   "metadata": {},
   "source": [
    "## Automatic gradients\n",
    "\n",
    "Like most deep learning frameworks, pytorch can be persuaded to compute derivatives for you.\n",
    "\n",
    "The general pipeline looks like this:\n",
    "* You create ```a = Variable(...,requires_grad=True)```\n",
    "* You define some differentiable `loss = whatever(a)`\n",
    "* `loss.backward()`\n",
    "* Gradients are available as ```a.grads```\n",
    "\n",
    "Unlike theano or tensorflow, the loss function is defined dynamically on each minibatch, letting you change loss function on each step.\n",
    "\n",
    "Another difference is that gradients are always stored in `.grad` of a variable. If you compute gradient from multiple losses, this will cause gradients to add up at variables, therefore it's useful to __zero the gradients__ between computations.\n",
    "\n",
    "\n",
    "__Here's an example:__ fitting a linear regression the hard way"
   ]
  },
  {
   "cell_type": "code",
   "execution_count": null,
   "metadata": {
    "collapsed": true,
    "scrolled": true
   },
   "outputs": [],
   "source": [
    "from sklearn.datasets import load_boston\n",
    "x,y = load_boston(return_X_y=True)\n",
    "\n",
    "#select one column for simplicity. \n",
    "x = x[:,-1] / x[:,-1].std()\n",
    "y = y / y.std()\n",
    "\n",
    "%matplotlib inline\n",
    "plt.scatter(x,y)"
   ]
  },
  {
   "cell_type": "code",
   "execution_count": null,
   "metadata": {
    "collapsed": true
   },
   "outputs": [],
   "source": [
    "# model variables\n",
    "w = Variable(torch.zeros(1),requires_grad=True)\n",
    "b = Variable(torch.zeros(1),requires_grad=True)\n",
    "\n",
    "# data variables\n",
    "x = Variable(torch.from_numpy(x)).type(torch.FloatTensor)\n",
    "y = Variable(torch.from_numpy(y)).type(torch.FloatTensor)"
   ]
  },
  {
   "cell_type": "code",
   "execution_count": null,
   "metadata": {
    "collapsed": true
   },
   "outputs": [],
   "source": [
    "#try out gradients\n",
    "y_pred = w * x  + b\n",
    "loss = torch.mean((y_pred - y)**2)\n",
    "\n",
    "loss.backward()\n",
    "\n",
    "#now w.grad is a Variable containing gradient of L w.r.t. w\n",
    "\n",
    "print(\"dL/dw = \\n\",w.grad)\n",
    "print(\"dL/db = \\n\",b.grad)"
   ]
  },
  {
   "cell_type": "markdown",
   "metadata": {},
   "source": [
    "Now let's use it to __perform gradient descent__.\n",
    "\n",
    "This is as low-level a code as it can get for pytorch offers many pre-implemented learning methods. We'll delve into those methods in the next section."
   ]
  },
  {
   "cell_type": "code",
   "execution_count": null,
   "metadata": {
    "collapsed": true
   },
   "outputs": [],
   "source": [
    "from IPython.display import clear_output\n",
    "\n",
    "for i in range(100):\n",
    "    \n",
    "    #compute loss\n",
    "    y_pred = w * x  + b\n",
    "    loss = torch.mean((y_pred - y)**2)\n",
    "    \n",
    "    #gradient descent\n",
    "    loss.backward()\n",
    "\n",
    "    w.data -= 0.1*w.grad.data\n",
    "    b.data -= 0.1*b.grad.data\n",
    "    \n",
    "    #zero gradients\n",
    "    w.grad.data.zero_()\n",
    "    b.grad.data.zero_()\n",
    "    \n",
    "    #the rest of code is just bells and whistles\n",
    "    if (i+1)%5==0:\n",
    "        #draw linear regression prediction vs data\n",
    "        clear_output(True)\n",
    "        plt.axhline(0, color='gray')\n",
    "        plt.axvline(0, color='gray')\n",
    "        plt.scatter(x.data.numpy(),y.data.numpy())\n",
    "        plt.plot(x.data.numpy(),y_pred.data.numpy(),color='orange')\n",
    "        plt.show()\n",
    "\n",
    "        print(\"loss = \", loss.data.numpy()[0])\n",
    "        if loss.data.numpy()[0] < 0.5:\n",
    "            print(\"Done!\")\n",
    "            break\n",
    "    \n",
    "\n"
   ]
  },
  {
   "cell_type": "markdown",
   "metadata": {},
   "source": [
    "### Same, but simpler with `torch.optim`\n",
    "\n",
    "To avoid keeping track of every single variable, you could instead use a pre-defined optimizer from torch.optim"
   ]
  },
  {
   "cell_type": "code",
   "execution_count": null,
   "metadata": {
    "collapsed": true
   },
   "outputs": [],
   "source": [
    "# get data\n",
    "x,y = load_boston(return_X_y=True)\n",
    "x = x[:,-1] / x[:,-1].std()\n",
    "y = y / y.std()\n",
    "\n",
    "# data variables\n",
    "x = Variable(torch.from_numpy(x)).type(torch.FloatTensor)\n",
    "y = Variable(torch.from_numpy(y)).type(torch.FloatTensor)\n",
    "\n",
    "# model variables\n",
    "w = Variable(torch.zeros(1),requires_grad=True)\n",
    "b = Variable(torch.zeros(1),requires_grad=True)\n",
    "\n",
    "# define optimizer\n",
    "opt = torch.optim.RMSprop([w,b],lr=0.1)\n",
    "\n",
    "for i in range(100):\n",
    "    \n",
    "    #compute loss\n",
    "    y_pred = w * x  + b\n",
    "    loss = torch.mean((y_pred - y)**2)\n",
    "    \n",
    "    #gradient descent\n",
    "    loss.backward()\n",
    "    opt.step()\n",
    "    opt.zero_grad()\n",
    "    \n",
    "    #the rest of code is just bells and whistles\n",
    "    if (i+1)%5==0:\n",
    "        #draw linear regression prediction vs data\n",
    "        clear_output(True)\n",
    "        plt.axhline(0, color='gray')\n",
    "        plt.axvline(0, color='gray')\n",
    "        plt.scatter(x.data.numpy(),y.data.numpy())\n",
    "        plt.plot(x.data.numpy(),y_pred.data.numpy(),color='orange')\n",
    "        plt.show()\n",
    "\n",
    "        print(\"loss = \", loss.data.numpy()[0])\n",
    "        if loss.data.numpy()[0] < 0.5:\n",
    "            print(\"Done!\")\n",
    "            break"
   ]
  },
  {
   "cell_type": "markdown",
   "metadata": {},
   "source": [
    "### Task II: A vs B problem\n",
    "\n",
    "Once you've learned how to perform the gradient descent with PyTorch, it's time to put this knowledge to some use. We'll write logistic regression to classify letters.\n",
    "\n",
    "We want you to write your very own logistic regression to classify NotMnist characters. For this simplified task, we'll only consider two classes: __\"A\"__ vs __\"B\"__."
   ]
  },
  {
   "cell_type": "code",
   "execution_count": null,
   "metadata": {
    "collapsed": true
   },
   "outputs": [],
   "source": [
    "#notmnist small\n",
    "!curl http://yaroslavvb.com/upload/notMNIST/notMNIST_small.tar.gz > notMNIST_small.tar.gz\n",
    "!tar -zxvf notMNIST_small.tar.gz > untar_notmnist.log"
   ]
  },
  {
   "cell_type": "code",
   "execution_count": 3,
   "metadata": {
    "collapsed": true
   },
   "outputs": [],
   "source": [
    "import os\n",
    "import numpy as np\n",
    "from scipy.misc import imread,imresize\n",
    "from glob import glob\n",
    "def load_notmnist(path='./notMNIST_small',letters='ABCDEFGHIJ',img_shape = (28,28)):\n",
    "    data,labels = [],[]\n",
    "    print(\"Parsing...\")\n",
    "    for img_path in glob(os.path.join(path,'*/*')):\n",
    "        class_i = img_path.split('/')[-2]\n",
    "        if class_i not in letters: continue\n",
    "        try:\n",
    "            data.append(imresize(imread(img_path),img_shape))\n",
    "            labels.append(class_i,)\n",
    "        except:\n",
    "            print(\"found broken img: %s [it's ok if <10 images are broken]\"%img_path)\n",
    "        \n",
    "    data = np.stack(data)[:,None]\n",
    "    data = data.astype(np.float32)\n",
    "    data = (data - np.mean(data))/np.std(data)\n",
    "\n",
    "    #convert classes to ints\n",
    "    letter_to_i = {l:i for i,l in enumerate(letters)}\n",
    "    labels = np.array(list(map(letter_to_i.get, labels)))\n",
    "    return data,labels\n",
    "\n",
    "data,labels = load_notmnist(letters='AB')"
   ]
  },
  {
   "cell_type": "code",
   "execution_count": 5,
   "metadata": {},
   "outputs": [
    {
     "name": "stdout",
     "output_type": "stream",
     "text": [
      "Parsing...\n",
      "found broken img: ./notMNIST_small/A/RGVtb2NyYXRpY2FCb2xkT2xkc3R5bGUgQm9sZC50dGY=.png [it's ok if <10 images are broken]\n"
     ]
    },
    {
     "data": {
      "text/plain": [
       "<matplotlib.text.Text at 0x7f49c53de750>"
      ]
     },
     "execution_count": 5,
     "metadata": {},
     "output_type": "execute_result"
    },
    {
     "data": {
      "image/png": "[encoded data removed]",
      "text/plain": [
       "<matplotlib.figure.Figure at 0x7f49c9b09690>"
      ]
     },
     "metadata": {},
     "output_type": "display_data"
    }
   ],
   "source": [
    "import matplotlib.pyplot as plt\n",
    "%matplotlib inline\n",
    "\n",
    "plt.subplot(1,2,1)\n",
    "plt.imshow(data[0].reshape([28,28]))\n",
    "plt.title(str(labels[0]))\n",
    "plt.subplot(1,2,2)\n",
    "plt.imshow(data[-1].reshape([28,28]))\n",
    "plt.title(str(labels[-1]))"
   ]
  },
  {
   "cell_type": "code",
   "execution_count": 6,
   "metadata": {},
   "outputs": [
    {
     "name": "stdout",
     "output_type": "stream",
     "text": [
      "Train size = 3370, test_size = 375\n"
     ]
    }
   ],
   "source": [
    "from sklearn.model_selection import train_test_split\n",
    "X_train,X_test,y_train,y_test = train_test_split(data,labels,test_size=0.1)\n",
    "\n",
    "print(\"Train size = %i, test_size = %i\"%(len(X_train),len(X_test)))"
   ]
  },
  {
   "cell_type": "markdown",
   "metadata": {},
   "source": [
    "This is a binary classification problem, so please train a __Logistic Regression with sigmoid__, not softmax.\n",
    "\n",
    "You should use binary crossentropy (aka logloss) as your objective:\n",
    "$$ L = - {1 \\over N} \\underset{X_i,y_i} \\sum y_i \\cdot log P(y_i | X_i) + (1-y_i) \\cdot log (1-P(y_i | X_i))$$\n",
    "\n",
    "Where probabilities are outputs of a logistic regression model:\n",
    "\n",
    "$$P(y_i | X_i) = \\sigma(\\vec w \\cdot X_i + b) ={ 1 \\over {1+e^{- [\\vec w \\cdot X_i + b]}} }$$\n",
    "\n",
    "$$[\\vec w \\cdot X_i \\space denotes \\space dot \\space product]$$\n",
    "\n",
    "Your model therefore has two trainable variables:\n",
    "* $\\vec w$ - a vector with as many elements as there are features (pixels)\n",
    "* $b$ - a single number\n"
   ]
  },
  {
   "cell_type": "code",
   "execution_count": 7,
   "metadata": {
    "collapsed": true
   },
   "outputs": [],
   "source": [
    "# Create data variables\n",
    "# YOUR CODE HERE!\n",
    "\n",
    "# Create model variables\n",
    "# YOUR CODE HERE!\n",
    "\n",
    "# [optional] create optimizer from pytorch.optim\n"
   ]
  },
  {
   "cell_type": "code",
   "execution_count": null,
   "metadata": {
    "collapsed": true
   },
   "outputs": [],
   "source": [
    "for i in range(1000):\n",
    "    \n",
    "    # predict P(y_train|X_train)\n",
    "    \n",
    "    # compute loss\n",
    "    \n",
    "    # gradient descent\n",
    "    \n",
    "    # zero-out gradients\n",
    "    \n",
    "    # optional: plot learning curves"
   ]
  },
  {
   "cell_type": "code",
   "execution_count": null,
   "metadata": {
    "collapsed": true
   },
   "outputs": [],
   "source": [
    "from sklearn.metrics import accuracy_score\n",
    "\n",
    "#predict P(y|x) for X_test as a numpy array\n",
    "#hint: use .numpy() to get cast torch tensor into numpy array\n",
    "predicted_probabilities = <YOUR CODE HERE>\n",
    "\n",
    "accuracy = accuracy_score(y_test,predicted_probabilities)\n",
    "print(\"Accuracy: %.5f\"%)\n",
    "if accuracy > 0.95:\n",
    "    print(\"Well done! You've beaten the assignment.\")"
   ]
  },
  {
   "cell_type": "markdown",
   "metadata": {},
   "source": [
    "Debugging tips:\n",
    "* initialize w and b either with zeros or with __small__ numbers. Sampling w ~ N(0,1) isn't small enough.\n",
    "* make sure your model predicts probabilities correctly. Just print them and see what's inside.\n",
    "* don't forget _minus_ sign in the loss function! It's a mistake 99% ppl do.\n",
    "* In general, pytorch's error messages are quite helpful, read 'em before you google 'em.\n",
    "* if you see nan/inf, print what happens at each iteration to find our where exactly it occurs.\n",
    "* Don't forget to zero-out gradients after each step. Srsly:)"
   ]
  },
  {
   "cell_type": "markdown",
   "metadata": {},
   "source": [
    "```\n",
    "\n",
    "```\n",
    "\n",
    "```\n",
    "\n",
    "```\n",
    "\n",
    "```\n",
    "\n",
    "```\n",
    "\n",
    "```\n",
    "\n",
    "```\n",
    "\n",
    "```\n",
    "\n",
    "```\n",
    "<img src=\"http://download.gamezone.com/uploads/image/data/1190338/article_post_width_a88.jpg\" width=360>\n",
    "\n",
    "### Going deeper\n",
    "Your ultimate task for this week is to build your first neural network [almost] from scratch and pure torch.\n",
    "\n",
    "This time you will solve the same digit recognition problem, but at a greater scale\n",
    "* 10 different letters\n",
    "* 20k samples\n",
    "\n",
    "With 10 classes you will need to use softmax instead of sigmoid and a multiclass version log loss (see [here](https://www.kaggle.com/wiki/LogLoss)). You can also expect your logistic regression to be less accurate.\n",
    "\n",
    "Note that you are not required to build 152-layer monsters here. A 2-layer (one hidden, one output) NN should already give you an edge over logistic regression.\n",
    "\n",
    "__[bonus score]__\n",
    "If you've already beaten logistic regression with a two-layer net, but enthusiasm still ain't gone, you can try improving the test accuracy even further! It should be possible to reach 90% without convnets.\n",
    "\n",
    "__SPOILER!__\n",
    "At the end of the notebook you will find a few tips and frequently made mistakes. If you feel enough might to shoot yourself in the foot without external assistance, we encourage you to do so, but if you encounter any unsurpassable issues, please do look there before mailing us.\n",
    "\n"
   ]
  },
  {
   "cell_type": "code",
   "execution_count": 10,
   "metadata": {},
   "outputs": [
    {
     "name": "stdout",
     "output_type": "stream",
     "text": [
      "Parsing...\n",
      "found broken img: ./notMNIST_small/A/RGVtb2NyYXRpY2FCb2xkT2xkc3R5bGUgQm9sZC50dGY=.png [it's ok if <10 images are broken]\n",
      "found broken img: ./notMNIST_small/F/Q3Jvc3NvdmVyIEJvbGRPYmxpcXVlLnR0Zg==.png [it's ok if <10 images are broken]\n"
     ]
    }
   ],
   "source": [
    "data,labels = load_notmnist(letters='ABCDEFGHIJ')"
   ]
  },
  {
   "cell_type": "code",
   "execution_count": null,
   "metadata": {
    "collapsed": true
   },
   "outputs": [],
   "source": [
    "#< a whole lot of your code > "
   ]
  },
  {
   "cell_type": "code",
   "execution_count": null,
   "metadata": {
    "collapsed": true
   },
   "outputs": [],
   "source": []
  },
  {
   "cell_type": "markdown",
   "metadata": {},
   "source": [
    "```\n",
    "\n",
    "```\n",
    "\n",
    "```\n",
    "\n",
    "```\n",
    "\n",
    "```\n",
    "\n",
    "```\n",
    "\n",
    "```\n",
    "\n",
    "```\n",
    "\n",
    "```\n",
    "\n",
    "```\n",
    "\n",
    "```\n",
    "\n",
    "```\n",
    "\n",
    "```\n",
    "\n",
    "```\n",
    "\n",
    "```\n",
    "\n",
    "```\n",
    "\n",
    "```\n",
    "\n",
    "```\n",
    "\n",
    "```\n",
    "\n",
    "```\n",
    "\n",
    "```\n",
    "\n",
    "```\n",
    "\n",
    "```\n",
    "\n",
    "```\n",
    "\n",
    "```\n",
    "\n",
    "```\n",
    "\n",
    "```\n",
    "\n",
    "```\n",
    "\n",
    "```\n",
    "\n",
    "```\n",
    "\n",
    "\n",
    "# SPOILERS!\n",
    "\n",
    "Recommended pipeline\n",
    "\n",
    "* Adapt logistic regression from previous assignment to classify some number against others (e.g. zero vs nonzero)\n",
    "* Generalize it to multiclass logistic regression.\n",
    "  - Either try to remember lecture 0 or google it.\n",
    "  - Instead of weight vector you'll have to use matrix (feature_id x class_id)\n",
    "  - softmax (exp over sum of exps) can implemented manually or as T.nnet.softmax (stable)\n",
    "  - probably better to use STOCHASTIC gradient descent (minibatch) for greater speed\n",
    "    - you can also try momentum/rmsprop/adawhatever\n",
    "    - in which case sample should probably be shuffled (or use random subsamples on each iteration)\n",
    "* Add a hidden layer. Now your logistic regression uses hidden neurons instead of inputs.\n",
    "  - Hidden layer uses the same math as output layer (ex-logistic regression), but uses some nonlinearity (e.g. sigmoid) instead of softmax\n",
    "  - You need to train both layers, not just output layer :)\n",
    "  - __Do not initialize weights with zeros__ (due to symmetry effects). A gaussian noize with small variance will do.\n",
    "  - 50 hidden neurons and a sigmoid nonlinearity will do for a start. Many ways to improve. \n",
    "  - In ideal casae this totals to 2 .dot's, 1 softmax and 1 sigmoid\n",
    "  - __make sure this neural network works better than logistic regression__\n",
    "  \n",
    "* Now's the time to try improving the network. Consider layers (size, neuron count),  nonlinearities, optimization methods, initialization - whatever you want, but please avoid convolutions for now.\n",
    "  \n",
    "\n",
    "### Coming next\n",
    "\n",
    "So far we have only used the low level interface of PyTorch. In the next notebook, we'll cover how to train models more conveniently with high level PyTorch API: namely, the __torch.nn__."
   ]
  },
  {
   "cell_type": "markdown",
   "metadata": {},
   "source": [
    "## More links:\n",
    "* Using torch on GPU and multi-GPU - [link](http://pytorch.org/docs/master/notes/cuda.html)\n",
    "* More tutorials on pytorch - [link](http://pytorch.org/tutorials/beginner/deep_learning_60min_blitz.html)\n",
    "* Pytorch examples - a repo that implements many cool DL models in pytorch - [link](https://github.com/pytorch/examples)\n",
    "* Practical pytorch - a repo that implements some... other cool DL models... yes, in pytorch - [link](https://github.com/spro/practical-pytorch)\n",
    "* And some more - [link](https://www.reddit.com/r/pytorch/comments/6z0yeo/pytorch_and_pytorch_tricks_for_kaggle/)"
   ]
  }
 ],
 "metadata": {
  "kernelspec": {
   "display_name": "Python 3",
   "language": "python",
   "name": "python3"
  },
  "language_info": {
   "codemirror_mode": {
    "name": "ipython",
    "version": 3
   },
   "file_extension": ".py",
   "mimetype": "text/x-python",
   "name": "python",
   "nbconvert_exporter": "python",
   "pygments_lexer": "ipython3",
   "version": "3.6.2"
  }
 },
 "nbformat": 4,
 "nbformat_minor": 2
}
