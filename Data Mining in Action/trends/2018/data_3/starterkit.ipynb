{
 "cells": [
  {
   "cell_type": "code",
   "execution_count": 1,
   "metadata": {},
   "outputs": [],
   "source": [
    "import pandas as pd\n",
    "import numpy as np\n",
    "\n",
    "from tqdm import tqdm_notebook\n",
    "\n",
    "import cv2\n",
    "import os\n",
    "\n",
    "import torch\n",
    "from torch import nn\n",
    "import torch.nn.functional as F\n",
    "from torch.autograd import Variable\n",
    "from torch.optim import Adam\n",
    "\n",
    "import matplotlib.pyplot as plt\n",
    "%matplotlib inline"
   ]
  },
  {
   "cell_type": "code",
   "execution_count": 2,
   "metadata": {},
   "outputs": [],
   "source": [
    "TRAIN_DIR = './input/stage1_train/'\n",
    "\n",
    "train_ids = os.listdir(TRAIN_DIR)\n",
    "train_images = [os.path.join(TRAIN_DIR, train_id, 'images', train_id + '.png') \n",
    "                for train_id in train_ids]\n",
    "train_masks = {train_id: [os.path.join(TRAIN_DIR, train_id, 'masks', img_name) \n",
    "                          for img_name in os.listdir(os.path.join(TRAIN_DIR, train_id, 'masks'))]\n",
    "               for train_id in train_ids}"
   ]
  },
  {
   "cell_type": "code",
   "execution_count": 3,
   "metadata": {},
   "outputs": [],
   "source": [
    "X = {train_ids[i]: cv2.imread(train_images[i]) for i in range(len(train_images))}\n",
    "\n",
    "Y = {train_id: sum((cv2.imread(train_mask)[..., 0]\n",
    "                    for train_mask in train_masks[train_id]))\n",
    "     for train_id in train_ids}"
   ]
  },
  {
   "cell_type": "code",
   "execution_count": 5,
   "metadata": {},
   "outputs": [],
   "source": [
    "model = nn.Sequential(nn.Conv2d(3, 16, (11, 11), padding=5),\n",
    "                      nn.ReLU(),\n",
    "                      nn.Conv2d(16, 16, (5, 5), padding=2),\n",
    "                      nn.ReLU(),\n",
    "                      nn.Conv2d(16, 1, (5, 5), padding=2),\n",
    "                      nn.Sigmoid())"
   ]
  },
  {
   "cell_type": "code",
   "execution_count": 6,
   "metadata": {},
   "outputs": [
    {
     "data": {
      "application/vnd.jupyter.widget-view+json": {
       "model_id": "c7d7c4c7ed83483d96b160a3218d6f9c",
       "version_major": 2,
       "version_minor": 0
      },
      "text/html": [
       "<p>Failed to display Jupyter Widget of type <code>HBox</code>.</p>\n",
       "<p>\n",
       "  If you're reading this message in the Jupyter Notebook or JupyterLab Notebook, it may mean\n",
       "  that the widgets JavaScript is still loading. If this message persists, it\n",
       "  likely means that the widgets JavaScript library is either not installed or\n",
       "  not enabled. See the <a href=\"https://ipywidgets.readthedocs.io/en/stable/user_install.html\">Jupyter\n",
       "  Widgets Documentation</a> for setup instructions.\n",
       "</p>\n",
       "<p>\n",
       "  If you're reading this message in another frontend (for example, a static\n",
       "  rendering on GitHub or <a href=\"https://nbviewer.jupyter.org/\">NBViewer</a>),\n",
       "  it may mean that your frontend doesn't currently support widgets.\n",
       "</p>\n"
      ],
      "text/plain": [
       "HBox(children=(IntProgress(value=0, max=670), HTML(value='')))"
      ]
     },
     "metadata": {},
     "output_type": "display_data"
    },
    {
     "name": "stdout",
     "output_type": "stream",
     "text": [
      "0.33649299177419645\n",
      "0.34527859320100657\n",
      "0.34303715523959216\n",
      "0.34575391509940134\n",
      "0.34070421815459306\n",
      "0.3319864692918182\n",
      "0.30075458865610166\n",
      "0.3310741563929824\n",
      "0.3263619389966045\n",
      "0.2935727722608237\n",
      "0.3631558761022554\n",
      "0.35533498400739644\n",
      "0.3130450306167215\n",
      "0.25869480742549134\n",
      "0.3015571986291396\n",
      "0.30963385482259936\n",
      "0.32305473692575126\n",
      "0.3194843171350899\n",
      "0.2830606774992771\n",
      "0.24206425109204419\n",
      "0.24186673388287167\n",
      "0.2813719182330518\n",
      "0.3190010611011181\n",
      "0.26500429445333473\n",
      "0.2593272992581935\n",
      "0.2643933605692287\n",
      "0.26160719953431394\n",
      "0.28956509364015326\n",
      "0.29595193388922103\n",
      "0.28316461367940354\n",
      "0.28267051444701985\n",
      "0.29426964147311235\n",
      "0.24987605421085493\n",
      "0.28443574518348497\n",
      "0.2653919638215132\n",
      "0.31030746544786847\n",
      "0.28951448877820857\n",
      "0.26365884250493743\n",
      "0.23561612349388297\n",
      "0.23343231511060117\n",
      "0.22407950603534338\n",
      "\n"
     ]
    },
    {
     "data": {
      "application/vnd.jupyter.widget-view+json": {
       "model_id": "1a4f600e88964f6b972a42f922319bec",
       "version_major": 2,
       "version_minor": 0
      },
      "text/html": [
       "<p>Failed to display Jupyter Widget of type <code>HBox</code>.</p>\n",
       "<p>\n",
       "  If you're reading this message in the Jupyter Notebook or JupyterLab Notebook, it may mean\n",
       "  that the widgets JavaScript is still loading. If this message persists, it\n",
       "  likely means that the widgets JavaScript library is either not installed or\n",
       "  not enabled. See the <a href=\"https://ipywidgets.readthedocs.io/en/stable/user_install.html\">Jupyter\n",
       "  Widgets Documentation</a> for setup instructions.\n",
       "</p>\n",
       "<p>\n",
       "  If you're reading this message in another frontend (for example, a static\n",
       "  rendering on GitHub or <a href=\"https://nbviewer.jupyter.org/\">NBViewer</a>),\n",
       "  it may mean that your frontend doesn't currently support widgets.\n",
       "</p>\n"
      ],
      "text/plain": [
       "HBox(children=(IntProgress(value=0, max=670), HTML(value='')))"
      ]
     },
     "metadata": {},
     "output_type": "display_data"
    },
    {
     "name": "stdout",
     "output_type": "stream",
     "text": [
      "0.2239817205718239\n",
      "0.22067991590633332\n",
      "0.22668618945453045\n",
      "0.18628831774193608\n",
      "0.21055650745198312\n",
      "0.20121853282878618\n",
      "0.20391817588510106\n",
      "0.20904460717061724\n",
      "0.1846415860495694\n",
      "0.22018393243639442\n",
      "0.17136572008141038\n",
      "0.19467791734214335\n",
      "0.23167073222038598\n",
      "0.19014662885388894\n",
      "0.1797966937755135\n",
      "0.17698371351463613\n",
      "0.20498611901556182\n",
      "0.2825440318831344\n",
      "0.1671056419573791\n",
      "0.18480016967173474\n",
      "0.2177941839730656\n",
      "0.23388875050140578\n",
      "0.12335876030460749\n",
      "0.10659791679314697\n",
      "0.25118475905630916\n",
      "0.17122866864641076\n",
      "0.18910011511828193\n",
      "0.1851166116640844\n",
      "0.1596106043488506\n",
      "0.22067349006486922\n",
      "0.23092362516479692\n",
      "0.1706127926901736\n",
      "0.10673041227443703\n",
      "0.1558930155461929\n",
      "0.18923752699335847\n",
      "0.12914258496986106\n",
      "0.12718194087463378\n",
      "0.14092122966974238\n",
      "0.12367510891949739\n",
      "0.12209160945710189\n",
      "0.1110777127153104\n",
      "\n"
     ]
    },
    {
     "data": {
      "application/vnd.jupyter.widget-view+json": {
       "model_id": "7dad682754c44d3aaafe7ede20feac1f",
       "version_major": 2,
       "version_minor": 0
      },
      "text/html": [
       "<p>Failed to display Jupyter Widget of type <code>HBox</code>.</p>\n",
       "<p>\n",
       "  If you're reading this message in the Jupyter Notebook or JupyterLab Notebook, it may mean\n",
       "  that the widgets JavaScript is still loading. If this message persists, it\n",
       "  likely means that the widgets JavaScript library is either not installed or\n",
       "  not enabled. See the <a href=\"https://ipywidgets.readthedocs.io/en/stable/user_install.html\">Jupyter\n",
       "  Widgets Documentation</a> for setup instructions.\n",
       "</p>\n",
       "<p>\n",
       "  If you're reading this message in another frontend (for example, a static\n",
       "  rendering on GitHub or <a href=\"https://nbviewer.jupyter.org/\">NBViewer</a>),\n",
       "  it may mean that your frontend doesn't currently support widgets.\n",
       "</p>\n"
      ],
      "text/plain": [
       "HBox(children=(IntProgress(value=0, max=670), HTML(value='')))"
      ]
     },
     "metadata": {},
     "output_type": "display_data"
    },
    {
     "name": "stdout",
     "output_type": "stream",
     "text": [
      "0.12232086669531811\n",
      "0.10880718488614655\n",
      "0.1673109840724804\n",
      "0.15757967462550102\n",
      "0.13759680025895402\n",
      "0.17550148983831163\n",
      "0.20567436622686577\n",
      "0.13328043625672487\n",
      "0.12195146845537885\n",
      "0.1775629876933664\n",
      "0.15643929743272936\n",
      "0.1189176871312779\n",
      "0.1865502616644357\n",
      "0.11554608917806308\n",
      "0.18249009559348944\n",
      "0.15762527275386048\n",
      "0.11949066258127522\n",
      "0.14961486895638748\n",
      "0.12831239053805393\n",
      "0.14797115723182747\n",
      "0.17245084659128215\n",
      "0.13987278985061885\n",
      "0.14510549714638157\n",
      "0.15458822721821147\n",
      "0.09808507322532281\n",
      "0.1397531309162783\n",
      "0.17389609022752212\n",
      "0.11266920117803743\n",
      "0.13551167672371306\n",
      "0.10594188996602484\n",
      "0.11167889940217489\n",
      "0.12476686224871926\n",
      "0.13213489096036304\n",
      "0.09863943880655691\n",
      "0.14286499750786824\n",
      "0.12969341236668988\n",
      "0.07821238635663338\n",
      "0.12733297262445772\n",
      "0.10979218396718474\n",
      "0.14715739889705673\n",
      "0.14481058482119744\n",
      "\n"
     ]
    },
    {
     "data": {
      "application/vnd.jupyter.widget-view+json": {
       "model_id": "a7be2b1427214bb28e2d6e48e2bed250",
       "version_major": 2,
       "version_minor": 0
      },
      "text/html": [
       "<p>Failed to display Jupyter Widget of type <code>HBox</code>.</p>\n",
       "<p>\n",
       "  If you're reading this message in the Jupyter Notebook or JupyterLab Notebook, it may mean\n",
       "  that the widgets JavaScript is still loading. If this message persists, it\n",
       "  likely means that the widgets JavaScript library is either not installed or\n",
       "  not enabled. See the <a href=\"https://ipywidgets.readthedocs.io/en/stable/user_install.html\">Jupyter\n",
       "  Widgets Documentation</a> for setup instructions.\n",
       "</p>\n",
       "<p>\n",
       "  If you're reading this message in another frontend (for example, a static\n",
       "  rendering on GitHub or <a href=\"https://nbviewer.jupyter.org/\">NBViewer</a>),\n",
       "  it may mean that your frontend doesn't currently support widgets.\n",
       "</p>\n"
      ],
      "text/plain": [
       "HBox(children=(IntProgress(value=0, max=670), HTML(value='')))"
      ]
     },
     "metadata": {},
     "output_type": "display_data"
    },
    {
     "name": "stdout",
     "output_type": "stream",
     "text": [
      "0.10892586732959697\n",
      "0.15863498913054405\n",
      "0.14600537667265875\n",
      "0.143059352829299\n",
      "0.0956130243074286\n",
      "0.14591322068778664\n",
      "0.1433320278155207\n",
      "0.08686804427233066\n",
      "0.13432243706424296\n",
      "0.10373546209780658\n",
      "0.1546825808236643\n",
      "0.12279690188447678\n",
      "0.1372021310236845\n",
      "0.14786518038050722\n",
      "0.09672149600908692\n",
      "0.12297885578962744\n",
      "0.12946702792167641\n",
      "0.12415581793230442\n",
      "0.14559983528992598\n",
      "0.12079182755590503\n",
      "0.13849663828616052\n",
      "0.16203263586083766\n",
      "0.13762860964035137\n",
      "0.09665050158608342\n",
      "0.0657436175850814\n",
      "0.10328263929295507\n",
      "0.1518229873138989\n",
      "0.07087786256861296\n",
      "0.1799699189654416\n",
      "0.10891682440427498\n",
      "0.1304513822564989\n",
      "0.11103109053370017\n",
      "0.09465364275737732\n",
      "0.13681575589492972\n",
      "0.08538183527002899\n",
      "0.13927071609600644\n",
      "0.12342549919961376\n",
      "0.12124347361776129\n",
      "0.08222506112863284\n",
      "0.10319956878511802\n",
      "0.07124621742527494\n",
      "\n"
     ]
    },
    {
     "data": {
      "application/vnd.jupyter.widget-view+json": {
       "model_id": "c01d8571ee41476ab2b33f0b4109d358",
       "version_major": 2,
       "version_minor": 0
      },
      "text/html": [
       "<p>Failed to display Jupyter Widget of type <code>HBox</code>.</p>\n",
       "<p>\n",
       "  If you're reading this message in the Jupyter Notebook or JupyterLab Notebook, it may mean\n",
       "  that the widgets JavaScript is still loading. If this message persists, it\n",
       "  likely means that the widgets JavaScript library is either not installed or\n",
       "  not enabled. See the <a href=\"https://ipywidgets.readthedocs.io/en/stable/user_install.html\">Jupyter\n",
       "  Widgets Documentation</a> for setup instructions.\n",
       "</p>\n",
       "<p>\n",
       "  If you're reading this message in another frontend (for example, a static\n",
       "  rendering on GitHub or <a href=\"https://nbviewer.jupyter.org/\">NBViewer</a>),\n",
       "  it may mean that your frontend doesn't currently support widgets.\n",
       "</p>\n"
      ],
      "text/plain": [
       "HBox(children=(IntProgress(value=0, max=670), HTML(value='')))"
      ]
     },
     "metadata": {},
     "output_type": "display_data"
    },
    {
     "name": "stdout",
     "output_type": "stream",
     "text": [
      "0.14887859030061448\n",
      "0.11572197021385422\n",
      "0.15337792893838995\n",
      "0.15240308628383153\n",
      "0.12296642119862561\n",
      "0.12443949623832977\n",
      "0.12541295161817775\n",
      "0.10951756750300548\n",
      "0.09418728909604394\n",
      "0.10126920604013072\n",
      "0.09068321982427091\n",
      "0.09262387771790893\n",
      "0.1339644402074862\n",
      "0.08188060345189249\n",
      "0.09158818387864993\n",
      "0.09865762935993524\n",
      "0.11005423247141184\n",
      "0.1388091835833927\n",
      "0.13164077230422364\n",
      "0.09841732346600535\n",
      "0.08606686148467983\n",
      "0.11227273916996344\n",
      "0.09264404999959022\n",
      "0.057337743488122164\n",
      "0.08115611740133852\n",
      "0.06305718862782997\n",
      "0.09955257664812206\n",
      "0.1095260178930984\n",
      "0.16543645022165743\n",
      "0.10168248598359615\n",
      "0.0768276000425373\n",
      "0.11446139763215274\n",
      "0.08720504129374614\n",
      "0.12419489946707342\n",
      "0.10495183982642858\n",
      "0.12281930231912948\n",
      "0.10302869087773349\n",
      "0.10884328175831742\n",
      "0.11597690018730326\n",
      "0.0886973289407946\n",
      "0.06790550490668917\n",
      "\n"
     ]
    },
    {
     "data": {
      "application/vnd.jupyter.widget-view+json": {
       "model_id": "8e11a80fc63442aa940eb82193fd07c8",
       "version_major": 2,
       "version_minor": 0
      },
      "text/html": [
       "<p>Failed to display Jupyter Widget of type <code>HBox</code>.</p>\n",
       "<p>\n",
       "  If you're reading this message in the Jupyter Notebook or JupyterLab Notebook, it may mean\n",
       "  that the widgets JavaScript is still loading. If this message persists, it\n",
       "  likely means that the widgets JavaScript library is either not installed or\n",
       "  not enabled. See the <a href=\"https://ipywidgets.readthedocs.io/en/stable/user_install.html\">Jupyter\n",
       "  Widgets Documentation</a> for setup instructions.\n",
       "</p>\n",
       "<p>\n",
       "  If you're reading this message in another frontend (for example, a static\n",
       "  rendering on GitHub or <a href=\"https://nbviewer.jupyter.org/\">NBViewer</a>),\n",
       "  it may mean that your frontend doesn't currently support widgets.\n",
       "</p>\n"
      ],
      "text/plain": [
       "HBox(children=(IntProgress(value=0, max=670), HTML(value='')))"
      ]
     },
     "metadata": {},
     "output_type": "display_data"
    },
    {
     "name": "stdout",
     "output_type": "stream",
     "text": [
      "0.06606018206977494\n",
      "0.14281892508435454\n",
      "0.08422617446116715\n",
      "0.0729325197362287\n",
      "0.13750193940490293\n",
      "0.09298655284796849\n",
      "0.06411107236539576\n",
      "0.06912109538670774\n",
      "0.12535892515663696\n",
      "0.11011522921096464\n",
      "0.08703354130676728\n",
      "0.06132172951160989\n",
      "0.1159475490080072\n",
      "0.08528703450630772\n",
      "0.08652523407255497\n",
      "0.10954304158547948\n",
      "0.06407650281870797\n",
      "0.0963323832552488\n",
      "0.1075581318954375\n",
      "0.06343988620553634\n",
      "0.09946566287586929\n",
      "0.09832417624988635\n",
      "0.08919968977419847\n",
      "0.14223794232597053\n",
      "0.08998949300644679\n",
      "0.09477481755025728\n",
      "0.09873099023620277\n",
      "0.10755008327666125\n",
      "0.09883075825805411\n",
      "0.08656500110485378\n",
      "0.0993528225473879\n",
      "0.06678498060560195\n",
      "0.05193108486979946\n",
      "0.08467552760738979\n",
      "0.048565587612762466\n",
      "0.08690506227489754\n",
      "\n"
     ]
    },
    {
     "data": {
      "application/vnd.jupyter.widget-view+json": {
       "model_id": "1bfed480cb174aceb0a49d11f8564f99",
       "version_major": 2,
       "version_minor": 0
      },
      "text/html": [
       "<p>Failed to display Jupyter Widget of type <code>HBox</code>.</p>\n",
       "<p>\n",
       "  If you're reading this message in the Jupyter Notebook or JupyterLab Notebook, it may mean\n",
       "  that the widgets JavaScript is still loading. If this message persists, it\n",
       "  likely means that the widgets JavaScript library is either not installed or\n",
       "  not enabled. See the <a href=\"https://ipywidgets.readthedocs.io/en/stable/user_install.html\">Jupyter\n",
       "  Widgets Documentation</a> for setup instructions.\n",
       "</p>\n",
       "<p>\n",
       "  If you're reading this message in another frontend (for example, a static\n",
       "  rendering on GitHub or <a href=\"https://nbviewer.jupyter.org/\">NBViewer</a>),\n",
       "  it may mean that your frontend doesn't currently support widgets.\n",
       "</p>\n"
      ],
      "text/plain": [
       "HBox(children=(IntProgress(value=0, max=670), HTML(value='')))"
      ]
     },
     "metadata": {},
     "output_type": "display_data"
    },
    {
     "name": "stdout",
     "output_type": "stream",
     "text": [
      "0.12168045067618971\n",
      "0.05488528938897094\n",
      "0.05725915644727407\n",
      "0.10275906043419578\n",
      "0.07940537699030763\n",
      "0.09701717903761636\n",
      "0.11365174898558864\n",
      "0.06575575662216938\n",
      "0.10286580832063862\n",
      "0.061846255498587126\n",
      "0.08413733380781349\n",
      "0.07622993840278362\n",
      "0.0744344943241229\n",
      "0.07815936012441348\n",
      "0.10299329796488203\n",
      "0.07620654614246412\n",
      "0.08374605416264967\n",
      "0.10281077610016753\n",
      "0.09474020236917079\n",
      "0.10251046885086812\n",
      "0.09433065651618695\n",
      "0.057929758422814594\n",
      "0.0831585178415865\n",
      "0.13890221625061328\n",
      "0.06821383107064222\n",
      "0.08033181912227129\n",
      "0.10404563613747202\n",
      "0.12642586708595438\n",
      "0.1393179062195444\n",
      "0.08855529487238563\n",
      "0.1126990150879555\n",
      "0.08926597397471575\n",
      "0.08826107377307721\n",
      "0.09717820540461278\n",
      "0.10051831136707481\n",
      "0.0750862261244636\n",
      "0.1097324228691528\n",
      "0.09009934676896798\n",
      "0.10978165648392589\n",
      "0.06401897087486301\n",
      "0.1009970707001931\n",
      "\n"
     ]
    },
    {
     "data": {
      "application/vnd.jupyter.widget-view+json": {
       "model_id": "256873e7761c41c099a81eb6f75cf48e",
       "version_major": 2,
       "version_minor": 0
      },
      "text/html": [
       "<p>Failed to display Jupyter Widget of type <code>HBox</code>.</p>\n",
       "<p>\n",
       "  If you're reading this message in the Jupyter Notebook or JupyterLab Notebook, it may mean\n",
       "  that the widgets JavaScript is still loading. If this message persists, it\n",
       "  likely means that the widgets JavaScript library is either not installed or\n",
       "  not enabled. See the <a href=\"https://ipywidgets.readthedocs.io/en/stable/user_install.html\">Jupyter\n",
       "  Widgets Documentation</a> for setup instructions.\n",
       "</p>\n",
       "<p>\n",
       "  If you're reading this message in another frontend (for example, a static\n",
       "  rendering on GitHub or <a href=\"https://nbviewer.jupyter.org/\">NBViewer</a>),\n",
       "  it may mean that your frontend doesn't currently support widgets.\n",
       "</p>\n"
      ],
      "text/plain": [
       "HBox(children=(IntProgress(value=0, max=670), HTML(value='')))"
      ]
     },
     "metadata": {},
     "output_type": "display_data"
    },
    {
     "name": "stdout",
     "output_type": "stream",
     "text": [
      "0.08357901180167143\n",
      "0.07247114435564528\n",
      "0.06224076359803361\n",
      "0.05249245296855942\n",
      "0.09181025552175286\n",
      "0.14231607192297707\n",
      "0.06832258395539313\n",
      "0.09626080721574384\n",
      "0.06045929517947184\n",
      "0.0632990077806847\n",
      "0.03945586351194853\n",
      "0.1344468213695893\n",
      "0.06335599710945691\n",
      "0.12658980076408818\n",
      "0.08622497257131652\n",
      "0.061644698594185046\n",
      "0.07122563153322882\n",
      "0.09866244066450662\n",
      "0.1499226360148527\n",
      "0.15666638482873424\n",
      "0.06943832838366182\n",
      "0.13670923961429693\n",
      "0.12061820994710365\n",
      "0.11244275321272533\n",
      "0.04883570134650257\n",
      "0.11459870182999989\n",
      "0.11147077128360217\n",
      "0.08515346504903863\n",
      "0.0978098696124916\n",
      "0.10614554092918516\n",
      "0.07199640277709933\n",
      "0.11004096142866375\n",
      "0.08245893850991412\n",
      "0.08720526963452109\n",
      "0.07910026214317102\n",
      "0.14232312372882203\n",
      "0.09372253808590733\n",
      "0.07964076970637265\n",
      "0.07745066210768244\n",
      "0.053511974908183685\n",
      "0.054798997483502025\n",
      "\n"
     ]
    },
    {
     "data": {
      "application/vnd.jupyter.widget-view+json": {
       "model_id": "aaa76225bdc645429a3ccba2f6c59d4f",
       "version_major": 2,
       "version_minor": 0
      },
      "text/html": [
       "<p>Failed to display Jupyter Widget of type <code>HBox</code>.</p>\n",
       "<p>\n",
       "  If you're reading this message in the Jupyter Notebook or JupyterLab Notebook, it may mean\n",
       "  that the widgets JavaScript is still loading. If this message persists, it\n",
       "  likely means that the widgets JavaScript library is either not installed or\n",
       "  not enabled. See the <a href=\"https://ipywidgets.readthedocs.io/en/stable/user_install.html\">Jupyter\n",
       "  Widgets Documentation</a> for setup instructions.\n",
       "</p>\n",
       "<p>\n",
       "  If you're reading this message in another frontend (for example, a static\n",
       "  rendering on GitHub or <a href=\"https://nbviewer.jupyter.org/\">NBViewer</a>),\n",
       "  it may mean that your frontend doesn't currently support widgets.\n",
       "</p>\n"
      ],
      "text/plain": [
       "HBox(children=(IntProgress(value=0, max=670), HTML(value='')))"
      ]
     },
     "metadata": {},
     "output_type": "display_data"
    },
    {
     "name": "stdout",
     "output_type": "stream",
     "text": [
      "0.124147644106556\n",
      "0.09490893016265982\n",
      "0.0569077227295865\n",
      "0.059955430872683464\n",
      "0.05236616218751645\n",
      "0.07712061244944161\n",
      "0.07117941492797154\n",
      "0.08080312470274982\n",
      "0.13080482406559452\n",
      "0.06495366033621439\n",
      "0.07619052146570542\n",
      "0.10659134979429596\n",
      "0.12878143982925205\n",
      "0.0896860576859776\n",
      "0.10887476797539641\n",
      "0.10830600404920468\n",
      "0.08584752091355405\n",
      "0.03304178915657924\n",
      "0.0833973779335188\n",
      "0.10603674596674299\n",
      "0.07825256417945045\n",
      "0.09004693602639666\n",
      "0.04506585035806972\n",
      "0.11802825457572998\n",
      "0.09162726583547788\n",
      "0.04298474752201085\n",
      "0.039783895897110046\n",
      "0.0664280303028081\n",
      "0.07836930883108019\n",
      "0.08530206743678918\n",
      "0.09070580799237825\n",
      "0.09587050825363816\n",
      "0.07267602134726547\n",
      "0.059924220696327156\n",
      "0.065719839652996\n",
      "0.059376526179193125\n",
      "0.08432578231462036\n",
      "0.03865918537428516\n",
      "0.06198820608498417\n",
      "0.10828087097260156\n",
      "0.07373178434578287\n",
      "\n"
     ]
    },
    {
     "data": {
      "application/vnd.jupyter.widget-view+json": {
       "model_id": "be6bcad2fe064c40b4ed13f14c1b2e36",
       "version_major": 2,
       "version_minor": 0
      },
      "text/html": [
       "<p>Failed to display Jupyter Widget of type <code>HBox</code>.</p>\n",
       "<p>\n",
       "  If you're reading this message in the Jupyter Notebook or JupyterLab Notebook, it may mean\n",
       "  that the widgets JavaScript is still loading. If this message persists, it\n",
       "  likely means that the widgets JavaScript library is either not installed or\n",
       "  not enabled. See the <a href=\"https://ipywidgets.readthedocs.io/en/stable/user_install.html\">Jupyter\n",
       "  Widgets Documentation</a> for setup instructions.\n",
       "</p>\n",
       "<p>\n",
       "  If you're reading this message in another frontend (for example, a static\n",
       "  rendering on GitHub or <a href=\"https://nbviewer.jupyter.org/\">NBViewer</a>),\n",
       "  it may mean that your frontend doesn't currently support widgets.\n",
       "</p>\n"
      ],
      "text/plain": [
       "HBox(children=(IntProgress(value=0, max=670), HTML(value='')))"
      ]
     },
     "metadata": {},
     "output_type": "display_data"
    },
    {
     "name": "stdout",
     "output_type": "stream",
     "text": [
      "0.06306534515621899\n",
      "0.05477894820952202\n",
      "0.050857466469354067\n",
      "0.07442223762987628\n",
      "0.11105570882697981\n",
      "0.06577343471359154\n",
      "0.08122752555134599\n",
      "0.08821137311867273\n",
      "0.10543841367285706\n",
      "0.091960672706543\n",
      "0.047429106814413216\n",
      "0.07811065451194027\n",
      "0.09850941549906538\n",
      "0.09646538460520299\n",
      "0.09856143875425144\n",
      "0.08577306027121938\n",
      "0.06628513680742708\n",
      "0.09026306651431729\n",
      "0.11220031734741322\n",
      "0.09071184670558198\n",
      "0.07873770100563494\n",
      "0.13143548265967694\n",
      "0.0908983478615024\n",
      "0.07847448562778248\n",
      "0.08687883703689814\n",
      "0.07311095375540148\n",
      "0.07458760050977511\n",
      "0.08503344209522391\n",
      "0.0769939827830356\n",
      "0.08072471882769874\n",
      "0.06774100051822309\n",
      "0.05084722846999832\n",
      "0.07646355150878124\n",
      "0.055357759686256516\n",
      "0.06535085689900354\n",
      "0.1211896209388091\n",
      "0.10183022586062143\n",
      "0.055688487516671756\n",
      "0.11190753197337586\n",
      "0.06358323909624185\n",
      "0.09133877292842318\n",
      "\n"
     ]
    }
   ],
   "source": [
    "N_EPOCHS = 10\n",
    "BATCH_SIZE = 16\n",
    "\n",
    "optimizer = Adam(model.parameters())\n",
    "\n",
    "for epoch in range(N_EPOCHS):\n",
    "    np.random.shuffle(train_ids)\n",
    "    i = 0\n",
    "    avg_loss = 0\n",
    "    optimizer.zero_grad()\n",
    "    for tr_id in tqdm_notebook(train_ids):\n",
    "        batch_x = np.expand_dims(np.swapaxes(X[tr_id], 0, 2), 0) / 255.0\n",
    "        batch_x = Variable(torch.FloatTensor(batch_x))\n",
    "\n",
    "        batch_y = np.expand_dims(np.swapaxes(Y[tr_id], 0, 1), 0) / 255.0\n",
    "        batch_y = Variable(torch.FloatTensor(batch_y))\n",
    "        \n",
    "        prediction = model(batch_x)[:, 0]\n",
    "\n",
    "        loss = F.binary_cross_entropy(prediction, batch_y)\n",
    "        avg_loss = 0.9 * avg_loss + 0.1 * loss.data[0]\n",
    "        loss = loss / BATCH_SIZE\n",
    "        loss.backward()\n",
    "        \n",
    "        avg_loss = 0.9 * avg_loss + 0.1 * loss.data[0]\n",
    "        \n",
    "        if i % BATCH_SIZE == BATCH_SIZE - 1:\n",
    "            print(avg_loss)\n",
    "            optimizer.step()\n",
    "            \n",
    "            i = -1\n",
    "            optimizer.zero_grad()\n",
    "        i += 1"
   ]
  },
  {
   "cell_type": "code",
   "execution_count": 7,
   "metadata": {},
   "outputs": [],
   "source": [
    "TEST_DIR = './input/stage1_test/'\n",
    "test_ids = os.listdir(TEST_DIR)\n",
    "test_images = [os.path.join(TEST_DIR, test_id, 'images', test_id + '.png') \n",
    "                for test_id in test_ids]\n",
    "\n",
    "X_test = {test_ids[i]: cv2.imread(test_images[i]) for i in range(len(test_images))}"
   ]
  },
  {
   "cell_type": "code",
   "execution_count": 8,
   "metadata": {},
   "outputs": [],
   "source": [
    "test_id = test_ids[0]\n",
    "\n",
    "batch_x = np.expand_dims(np.swapaxes(X_test[test_ids[0]], 0, 2), 0) / 255.0\n",
    "batch_x = Variable(torch.FloatTensor(batch_x))"
   ]
  },
  {
   "cell_type": "code",
   "execution_count": 9,
   "metadata": {},
   "outputs": [],
   "source": [
    "from skimage.morphology import label\n",
    "\n",
    "def rle_encoding(x):\n",
    "    dots = np.where(x.flatten() == 1)[0]\n",
    "    run_lengths = []\n",
    "    prev = -2\n",
    "    for b in dots:\n",
    "        if (b>prev+1): run_lengths.extend((b + 1, 0))\n",
    "        run_lengths[-1] += 1\n",
    "        prev = b\n",
    "    return run_lengths\n",
    "\n",
    "def prob_to_rles(x, cutoff=0.5):\n",
    "    lab_img = label(x > cutoff)\n",
    "    for i in range(1, lab_img.max() + 1):\n",
    "        yield rle_encoding(lab_img == i)"
   ]
  },
  {
   "cell_type": "code",
   "execution_count": 10,
   "metadata": {},
   "outputs": [
    {
     "data": {
      "application/vnd.jupyter.widget-view+json": {
       "model_id": "db060294a04941178fed35b0040703a7",
       "version_major": 2,
       "version_minor": 0
      },
      "text/html": [
       "<p>Failed to display Jupyter Widget of type <code>HBox</code>.</p>\n",
       "<p>\n",
       "  If you're reading this message in the Jupyter Notebook or JupyterLab Notebook, it may mean\n",
       "  that the widgets JavaScript is still loading. If this message persists, it\n",
       "  likely means that the widgets JavaScript library is either not installed or\n",
       "  not enabled. See the <a href=\"https://ipywidgets.readthedocs.io/en/stable/user_install.html\">Jupyter\n",
       "  Widgets Documentation</a> for setup instructions.\n",
       "</p>\n",
       "<p>\n",
       "  If you're reading this message in another frontend (for example, a static\n",
       "  rendering on GitHub or <a href=\"https://nbviewer.jupyter.org/\">NBViewer</a>),\n",
       "  it may mean that your frontend doesn't currently support widgets.\n",
       "</p>\n"
      ],
      "text/plain": [
       "HBox(children=(IntProgress(value=0, max=65), HTML(value='')))"
      ]
     },
     "metadata": {},
     "output_type": "display_data"
    },
    {
     "name": "stdout",
     "output_type": "stream",
     "text": [
      "\n"
     ]
    }
   ],
   "source": [
    "image_ids = []\n",
    "rles = []\n",
    "\n",
    "for test_id in tqdm_notebook(test_ids):\n",
    "    batch_x = np.expand_dims(np.swapaxes(X_test[test_id], 0, 2), 0) / 255.0\n",
    "    batch_x = Variable(torch.FloatTensor(batch_x))\n",
    "    \n",
    "    prediction = model(batch_x)[0, 0].data.numpy()\n",
    "    \n",
    "    for rle in prob_to_rles(prediction):\n",
    "        image_ids.append(test_id)\n",
    "        rles.append(rle)"
   ]
  },
  {
   "cell_type": "code",
   "execution_count": 11,
   "metadata": {},
   "outputs": [],
   "source": [
    "submission = pd.DataFrame(data={'ImageId': image_ids,\n",
    "                                'EncodedPixels': [' '.join(map(str, x)) for x in rles]})"
   ]
  },
  {
   "cell_type": "code",
   "execution_count": 12,
   "metadata": {},
   "outputs": [],
   "source": [
    "submission.to_csv('./0.csv', index=None)"
   ]
  },
  {
   "cell_type": "code",
   "execution_count": 13,
   "metadata": {},
   "outputs": [],
   "source": [
    "from IPython.display import FileLink"
   ]
  },
  {
   "cell_type": "code",
   "execution_count": 14,
   "metadata": {},
   "outputs": [
    {
     "data": {
      "text/html": [
       "<a href='./0.csv' target='_blank'>./0.csv</a><br>"
      ],
      "text/plain": [
       "/home/tentenich/kaggle_data_science_bowl_2018/0.csv"
      ]
     },
     "execution_count": 14,
     "metadata": {},
     "output_type": "execute_result"
    }
   ],
   "source": [
    "FileLink('./0.csv')"
   ]
  },
  {
   "cell_type": "code",
   "execution_count": null,
   "metadata": {},
   "outputs": [],
   "source": []
  }
 ],
 "metadata": {
  "kernelspec": {
   "display_name": "py36",
   "language": "python",
   "name": "py36"
  },
  "language_info": {
   "codemirror_mode": {
    "name": "ipython",
    "version": 3
   },
   "file_extension": ".py",
   "mimetype": "text/x-python",
   "name": "python",
   "nbconvert_exporter": "python",
   "pygments_lexer": "ipython3",
   "version": "3.6.4"
  }
 },
 "nbformat": 4,
 "nbformat_minor": 2
}
