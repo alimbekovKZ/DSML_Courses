{
 "cells": [
  {
   "cell_type": "code",
   "execution_count": 1,
   "metadata": {},
   "outputs": [],
   "source": [
    "import pandas as pd\n",
    "import numpy as np\n",
    "import datetime as datetime\n",
    "from sklearn.model_selection import train_test_split, RandomizedSearchCV, GridSearchCV\n",
    "from sklearn.preprocessing import StandardScaler\n",
    "from sklearn.metrics import mean_squared_error\n",
    "import matplotlib.pyplot as plt\n",
    "import seaborn as sns\n",
    "import pickle\n",
    "import os\n",
    "import tensorflow as tf"
   ]
  },
  {
   "cell_type": "code",
   "execution_count": 2,
   "metadata": {},
   "outputs": [
    {
     "name": "stderr",
     "output_type": "stream",
     "text": [
      "C:\\Users\\Curtis\\Anaconda3\\lib\\site-packages\\numpy\\lib\\arraysetops.py:522: FutureWarning: elementwise comparison failed; returning scalar instead, but in the future will perform elementwise comparison\n",
      "  mask |= (ar1 == a)\n"
     ]
    }
   ],
   "source": [
    "# Import train and test data sets\n",
    "sales_train = pd.read_csv('../Data/sales_train_merge.csv', index_col = 0, parse_dates=['date'])\n",
    "sales_test = pd.read_csv('../Data/sales_test_merge.csv', index_col = 0, parse_dates=['date'])"
   ]
  },
  {
   "cell_type": "code",
   "execution_count": 3,
   "metadata": {},
   "outputs": [
    {
     "data": {
      "text/html": [
       "<div>\n",
       "<style scoped>\n",
       "    .dataframe tbody tr th:only-of-type {\n",
       "        vertical-align: middle;\n",
       "    }\n",
       "\n",
       "    .dataframe tbody tr th {\n",
       "        vertical-align: top;\n",
       "    }\n",
       "\n",
       "    .dataframe thead th {\n",
       "        text-align: right;\n",
       "    }\n",
       "</style>\n",
       "<table border=\"1\" class=\"dataframe\">\n",
       "  <thead>\n",
       "    <tr style=\"text-align: right;\">\n",
       "      <th></th>\n",
       "      <th>date</th>\n",
       "      <th>date_block_num</th>\n",
       "      <th>shop_id</th>\n",
       "      <th>item_id</th>\n",
       "      <th>item_price</th>\n",
       "      <th>item_cnt_day</th>\n",
       "      <th>profits</th>\n",
       "      <th>item_category_id</th>\n",
       "    </tr>\n",
       "  </thead>\n",
       "  <tbody>\n",
       "    <tr>\n",
       "      <th>0</th>\n",
       "      <td>2013-01-31</td>\n",
       "      <td>0</td>\n",
       "      <td>0</td>\n",
       "      <td>32</td>\n",
       "      <td>884.0</td>\n",
       "      <td>6.0</td>\n",
       "      <td>1326.0</td>\n",
       "      <td>40</td>\n",
       "    </tr>\n",
       "    <tr>\n",
       "      <th>1</th>\n",
       "      <td>2013-01-31</td>\n",
       "      <td>0</td>\n",
       "      <td>0</td>\n",
       "      <td>33</td>\n",
       "      <td>1041.0</td>\n",
       "      <td>3.0</td>\n",
       "      <td>1041.0</td>\n",
       "      <td>37</td>\n",
       "    </tr>\n",
       "    <tr>\n",
       "      <th>2</th>\n",
       "      <td>2013-01-31</td>\n",
       "      <td>0</td>\n",
       "      <td>0</td>\n",
       "      <td>35</td>\n",
       "      <td>247.0</td>\n",
       "      <td>1.0</td>\n",
       "      <td>247.0</td>\n",
       "      <td>40</td>\n",
       "    </tr>\n",
       "    <tr>\n",
       "      <th>3</th>\n",
       "      <td>2013-01-31</td>\n",
       "      <td>0</td>\n",
       "      <td>0</td>\n",
       "      <td>43</td>\n",
       "      <td>221.0</td>\n",
       "      <td>1.0</td>\n",
       "      <td>221.0</td>\n",
       "      <td>40</td>\n",
       "    </tr>\n",
       "    <tr>\n",
       "      <th>4</th>\n",
       "      <td>2013-01-31</td>\n",
       "      <td>0</td>\n",
       "      <td>0</td>\n",
       "      <td>51</td>\n",
       "      <td>257.0</td>\n",
       "      <td>2.0</td>\n",
       "      <td>257.0</td>\n",
       "      <td>57</td>\n",
       "    </tr>\n",
       "  </tbody>\n",
       "</table>\n",
       "</div>"
      ],
      "text/plain": [
       "        date  date_block_num  shop_id  item_id  item_price  item_cnt_day  \\\n",
       "0 2013-01-31               0        0       32       884.0           6.0   \n",
       "1 2013-01-31               0        0       33      1041.0           3.0   \n",
       "2 2013-01-31               0        0       35       247.0           1.0   \n",
       "3 2013-01-31               0        0       43       221.0           1.0   \n",
       "4 2013-01-31               0        0       51       257.0           2.0   \n",
       "\n",
       "   profits  item_category_id  \n",
       "0   1326.0                40  \n",
       "1   1041.0                37  \n",
       "2    247.0                40  \n",
       "3    221.0                40  \n",
       "4    257.0                57  "
      ]
     },
     "execution_count": 3,
     "metadata": {},
     "output_type": "execute_result"
    }
   ],
   "source": [
    "sales_train.head()"
   ]
  },
  {
   "cell_type": "code",
   "execution_count": 4,
   "metadata": {},
   "outputs": [
    {
     "data": {
      "text/html": [
       "<div>\n",
       "<style scoped>\n",
       "    .dataframe tbody tr th:only-of-type {\n",
       "        vertical-align: middle;\n",
       "    }\n",
       "\n",
       "    .dataframe tbody tr th {\n",
       "        vertical-align: top;\n",
       "    }\n",
       "\n",
       "    .dataframe thead th {\n",
       "        text-align: right;\n",
       "    }\n",
       "</style>\n",
       "<table border=\"1\" class=\"dataframe\">\n",
       "  <thead>\n",
       "    <tr style=\"text-align: right;\">\n",
       "      <th></th>\n",
       "      <th>ID</th>\n",
       "      <th>shop_id</th>\n",
       "      <th>item_id</th>\n",
       "      <th>item_category_id</th>\n",
       "      <th>date</th>\n",
       "      <th>date_block_num</th>\n",
       "    </tr>\n",
       "  </thead>\n",
       "  <tbody>\n",
       "    <tr>\n",
       "      <th>0</th>\n",
       "      <td>0</td>\n",
       "      <td>5</td>\n",
       "      <td>5037</td>\n",
       "      <td>19</td>\n",
       "      <td>2015-11-30</td>\n",
       "      <td>34</td>\n",
       "    </tr>\n",
       "    <tr>\n",
       "      <th>1</th>\n",
       "      <td>1</td>\n",
       "      <td>5</td>\n",
       "      <td>5320</td>\n",
       "      <td>55</td>\n",
       "      <td>2015-11-30</td>\n",
       "      <td>34</td>\n",
       "    </tr>\n",
       "    <tr>\n",
       "      <th>2</th>\n",
       "      <td>2</td>\n",
       "      <td>5</td>\n",
       "      <td>5233</td>\n",
       "      <td>19</td>\n",
       "      <td>2015-11-30</td>\n",
       "      <td>34</td>\n",
       "    </tr>\n",
       "    <tr>\n",
       "      <th>3</th>\n",
       "      <td>3</td>\n",
       "      <td>5</td>\n",
       "      <td>5232</td>\n",
       "      <td>23</td>\n",
       "      <td>2015-11-30</td>\n",
       "      <td>34</td>\n",
       "    </tr>\n",
       "    <tr>\n",
       "      <th>4</th>\n",
       "      <td>4</td>\n",
       "      <td>5</td>\n",
       "      <td>5268</td>\n",
       "      <td>20</td>\n",
       "      <td>2015-11-30</td>\n",
       "      <td>34</td>\n",
       "    </tr>\n",
       "  </tbody>\n",
       "</table>\n",
       "</div>"
      ],
      "text/plain": [
       "   ID  shop_id  item_id  item_category_id       date  date_block_num\n",
       "0   0        5     5037                19 2015-11-30              34\n",
       "1   1        5     5320                55 2015-11-30              34\n",
       "2   2        5     5233                19 2015-11-30              34\n",
       "3   3        5     5232                23 2015-11-30              34\n",
       "4   4        5     5268                20 2015-11-30              34"
      ]
     },
     "execution_count": 4,
     "metadata": {},
     "output_type": "execute_result"
    }
   ],
   "source": [
    "sales_test.head()"
   ]
  },
  {
   "cell_type": "markdown",
   "metadata": {},
   "source": [
    "# Preprocessing\n",
    "\n",
    "Before a machine learning algorithm can be developed to fit the data, the data needs to be formatted and preprocessed to remove redundancies, standardize the data, or add extra columns. In this instance, columns like ``item_price``, ``profits``, and ``item_category_id`` could be removed. The ``item_category_id`` column could be removed since each item belongs to a specific column and therefore is correlated to ``item_id``. If kept, the model could deceivingly perform better than implied. The other two columns, ``item_price`` and ``profits``, could be removed since the ``item_price`` could depend on the date due to depreciation or inflation and ``profits`` dependent on ``item_price``."
   ]
  },
  {
   "cell_type": "code",
   "execution_count": 5,
   "metadata": {},
   "outputs": [],
   "source": [
    "# Remove unnecessary columns from sales_train\n",
    "sales_train.drop(['item_price', 'profits', 'item_category_id'], axis=1, inplace=True)"
   ]
  },
  {
   "cell_type": "markdown",
   "metadata": {},
   "source": [
    "Now that those columns have been removed, the next issue to handle are the ``date`` and ``date_block_num`` columns. As with the ``profits`` and ``item_category_id`` columns, these two columns are correlated to each other and redundant. It'll suit the problem better if the ``date_block_num`` column was removed and the ``date`` column split into two new ones, ``month`` and ``year``."
   ]
  },
  {
   "cell_type": "code",
   "execution_count": 6,
   "metadata": {},
   "outputs": [],
   "source": [
    "# Remove date_block_num from training data\n",
    "sales_train.drop(['date'], axis=1, inplace=True)"
   ]
  },
  {
   "cell_type": "markdown",
   "metadata": {},
   "source": [
    "Now that the training set has been preprocessed, the same needs to be done to the test set."
   ]
  },
  {
   "cell_type": "code",
   "execution_count": 7,
   "metadata": {},
   "outputs": [],
   "source": [
    "# Preprocess test set\n",
    "sales_test.drop(['item_category_id', 'date'], axis=1, inplace=True)"
   ]
  },
  {
   "cell_type": "code",
   "execution_count": 8,
   "metadata": {},
   "outputs": [
    {
     "data": {
      "text/html": [
       "<div>\n",
       "<style scoped>\n",
       "    .dataframe tbody tr th:only-of-type {\n",
       "        vertical-align: middle;\n",
       "    }\n",
       "\n",
       "    .dataframe tbody tr th {\n",
       "        vertical-align: top;\n",
       "    }\n",
       "\n",
       "    .dataframe thead th {\n",
       "        text-align: right;\n",
       "    }\n",
       "</style>\n",
       "<table border=\"1\" class=\"dataframe\">\n",
       "  <thead>\n",
       "    <tr style=\"text-align: right;\">\n",
       "      <th></th>\n",
       "      <th>date_block_num</th>\n",
       "      <th>shop_id</th>\n",
       "      <th>item_id</th>\n",
       "      <th>item_cnt_day</th>\n",
       "    </tr>\n",
       "  </thead>\n",
       "  <tbody>\n",
       "    <tr>\n",
       "      <th>0</th>\n",
       "      <td>0</td>\n",
       "      <td>0</td>\n",
       "      <td>32</td>\n",
       "      <td>6.0</td>\n",
       "    </tr>\n",
       "    <tr>\n",
       "      <th>1</th>\n",
       "      <td>0</td>\n",
       "      <td>0</td>\n",
       "      <td>33</td>\n",
       "      <td>3.0</td>\n",
       "    </tr>\n",
       "    <tr>\n",
       "      <th>2</th>\n",
       "      <td>0</td>\n",
       "      <td>0</td>\n",
       "      <td>35</td>\n",
       "      <td>1.0</td>\n",
       "    </tr>\n",
       "    <tr>\n",
       "      <th>3</th>\n",
       "      <td>0</td>\n",
       "      <td>0</td>\n",
       "      <td>43</td>\n",
       "      <td>1.0</td>\n",
       "    </tr>\n",
       "    <tr>\n",
       "      <th>4</th>\n",
       "      <td>0</td>\n",
       "      <td>0</td>\n",
       "      <td>51</td>\n",
       "      <td>2.0</td>\n",
       "    </tr>\n",
       "  </tbody>\n",
       "</table>\n",
       "</div>"
      ],
      "text/plain": [
       "   date_block_num  shop_id  item_id  item_cnt_day\n",
       "0               0        0       32           6.0\n",
       "1               0        0       33           3.0\n",
       "2               0        0       35           1.0\n",
       "3               0        0       43           1.0\n",
       "4               0        0       51           2.0"
      ]
     },
     "execution_count": 8,
     "metadata": {},
     "output_type": "execute_result"
    }
   ],
   "source": [
    "sales_train.head()"
   ]
  },
  {
   "cell_type": "code",
   "execution_count": 9,
   "metadata": {},
   "outputs": [
    {
     "data": {
      "text/html": [
       "<div>\n",
       "<style scoped>\n",
       "    .dataframe tbody tr th:only-of-type {\n",
       "        vertical-align: middle;\n",
       "    }\n",
       "\n",
       "    .dataframe tbody tr th {\n",
       "        vertical-align: top;\n",
       "    }\n",
       "\n",
       "    .dataframe thead th {\n",
       "        text-align: right;\n",
       "    }\n",
       "</style>\n",
       "<table border=\"1\" class=\"dataframe\">\n",
       "  <thead>\n",
       "    <tr style=\"text-align: right;\">\n",
       "      <th></th>\n",
       "      <th>ID</th>\n",
       "      <th>shop_id</th>\n",
       "      <th>item_id</th>\n",
       "      <th>date_block_num</th>\n",
       "    </tr>\n",
       "  </thead>\n",
       "  <tbody>\n",
       "    <tr>\n",
       "      <th>0</th>\n",
       "      <td>0</td>\n",
       "      <td>5</td>\n",
       "      <td>5037</td>\n",
       "      <td>34</td>\n",
       "    </tr>\n",
       "    <tr>\n",
       "      <th>1</th>\n",
       "      <td>1</td>\n",
       "      <td>5</td>\n",
       "      <td>5320</td>\n",
       "      <td>34</td>\n",
       "    </tr>\n",
       "    <tr>\n",
       "      <th>2</th>\n",
       "      <td>2</td>\n",
       "      <td>5</td>\n",
       "      <td>5233</td>\n",
       "      <td>34</td>\n",
       "    </tr>\n",
       "    <tr>\n",
       "      <th>3</th>\n",
       "      <td>3</td>\n",
       "      <td>5</td>\n",
       "      <td>5232</td>\n",
       "      <td>34</td>\n",
       "    </tr>\n",
       "    <tr>\n",
       "      <th>4</th>\n",
       "      <td>4</td>\n",
       "      <td>5</td>\n",
       "      <td>5268</td>\n",
       "      <td>34</td>\n",
       "    </tr>\n",
       "  </tbody>\n",
       "</table>\n",
       "</div>"
      ],
      "text/plain": [
       "   ID  shop_id  item_id  date_block_num\n",
       "0   0        5     5037              34\n",
       "1   1        5     5320              34\n",
       "2   2        5     5233              34\n",
       "3   3        5     5232              34\n",
       "4   4        5     5268              34"
      ]
     },
     "execution_count": 9,
     "metadata": {},
     "output_type": "execute_result"
    }
   ],
   "source": [
    "sales_test.head()"
   ]
  },
  {
   "cell_type": "markdown",
   "metadata": {},
   "source": [
    "Finally, before modeling, outliers need to be removed from the *sales_train* data and then split into a training and validation set. With the data split into predictor and target variables for both the training and validation sets, the predictor variables will be scaled for "
   ]
  },
  {
   "cell_type": "code",
   "execution_count": 10,
   "metadata": {},
   "outputs": [],
   "source": [
    "sales_train = sales_train[(sales_train['item_cnt_day'] <= 30) & (sales_train['item_cnt_day'] >= 0)]"
   ]
  },
  {
   "cell_type": "code",
   "execution_count": 11,
   "metadata": {},
   "outputs": [],
   "source": [
    "# Split the data into training and hold out sets\n",
    "train = sales_train[sales_train['date_block_num'] < 33]\n",
    "\n",
    "val = sales_train[sales_train['date_block_num'] == 33]"
   ]
  },
  {
   "cell_type": "code",
   "execution_count": 12,
   "metadata": {},
   "outputs": [],
   "source": [
    "# Separate dependent variable from data\n",
    "X_train = train.drop('item_cnt_day', axis = 1)\n",
    "y_train = train['item_cnt_day']\n",
    "\n",
    "X_val = val.drop('item_cnt_day', axis=1)\n",
    "y_val = val['item_cnt_day']"
   ]
  },
  {
   "cell_type": "code",
   "execution_count": 13,
   "metadata": {},
   "outputs": [
    {
     "name": "stderr",
     "output_type": "stream",
     "text": [
      "C:\\Users\\Curtis\\Anaconda3\\lib\\site-packages\\sklearn\\preprocessing\\data.py:625: DataConversionWarning: Data with input dtype int64 were all converted to float64 by StandardScaler.\n",
      "  return self.partial_fit(X, y)\n",
      "C:\\Users\\Curtis\\Anaconda3\\lib\\site-packages\\sklearn\\base.py:462: DataConversionWarning: Data with input dtype int64 were all converted to float64 by StandardScaler.\n",
      "  return self.fit(X, **fit_params).transform(X)\n",
      "C:\\Users\\Curtis\\Anaconda3\\lib\\site-packages\\ipykernel_launcher.py:8: DataConversionWarning: Data with input dtype int64 were all converted to float64 by StandardScaler.\n",
      "  \n"
     ]
    }
   ],
   "source": [
    "# Standardize and scale data\n",
    "scaler = StandardScaler()\n",
    "\n",
    "# Fit and transform sales_train data\n",
    "X_train_scaled = scaler.fit_transform(X_train)\n",
    "\n",
    "# Transform validation data\n",
    "X_val_scaled = scaler.transform(X_val)"
   ]
  },
  {
   "cell_type": "code",
   "execution_count": 14,
   "metadata": {},
   "outputs": [
    {
     "name": "stderr",
     "output_type": "stream",
     "text": [
      "C:\\Users\\Curtis\\Anaconda3\\lib\\site-packages\\ipykernel_launcher.py:2: DataConversionWarning: Data with input dtype int64 were all converted to float64 by StandardScaler.\n",
      "  \n"
     ]
    }
   ],
   "source": [
    "# Transform sales_test according to scaler\n",
    "X_test_scaled = scaler.transform(sales_test.drop('ID', axis=1))"
   ]
  },
  {
   "cell_type": "markdown",
   "metadata": {},
   "source": [
    "# Custom Functions"
   ]
  },
  {
   "cell_type": "code",
   "execution_count": 15,
   "metadata": {},
   "outputs": [],
   "source": [
    "def model_score(model, train_data, val_data):\n",
    "    '''This function prints out the scores (R^2) of training and validation sets'''\n",
    "    train_score = model.score(train_data, y_train)\n",
    "    val_score = model.score(val_data, y_val)\n",
    "    \n",
    "    print('Train score: %.3f' % train_score)\n",
    "    print('Validation score: %.3f' % val_score)"
   ]
  },
  {
   "cell_type": "code",
   "execution_count": 16,
   "metadata": {},
   "outputs": [],
   "source": [
    "def model_rmse(model, train_data, val_data):\n",
    "    '''This function calculates the RMSE of the training and validation sets. Returns the predictions of each set'''\n",
    "    train_predictions = np.round(model.predict(train_data))\n",
    "    val_predictions = np.round(model.predict(val_data))\n",
    "    \n",
    "    train_rmse = np.sqrt(mean_squared_error(y_train, train_predictions))\n",
    "    val_rmse = np.sqrt(mean_squared_error(y_val, val_predictions))\n",
    "    \n",
    "    print('Train RMSE: %.3f' % train_rmse)\n",
    "    print('Validation RMSE: %.3f' % val_rmse)\n",
    "    \n",
    "    return train_predictions, val_predictions"
   ]
  },
  {
   "cell_type": "code",
   "execution_count": 17,
   "metadata": {},
   "outputs": [],
   "source": [
    "def plot_resid(validation_pred):\n",
    "    '''This function plots residual distribution of the validation set'''\n",
    "    resid_df = pd.DataFrame(y_val)\n",
    "    resid_df['predicted'] = validation_pred\n",
    "    resid_df['residual'] = resid_df['item_cnt_day'] - resid_df['predicted']\n",
    "    \n",
    "    print(resid_df['residual'].describe())\n",
    "\n",
    "    _ = plt.figure(figsize=(10,10))\n",
    "    _ = plt.hist(resid_df.residual)\n",
    "    _ = plt.title('Residual Distribution')\n",
    "    _ = plt.xlabel('Residual')\n",
    "    _ = plt.ylabel('Count')"
   ]
  },
  {
   "cell_type": "markdown",
   "metadata": {},
   "source": [
    "# Random Forest Regressor"
   ]
  },
  {
   "cell_type": "code",
   "execution_count": 18,
   "metadata": {},
   "outputs": [],
   "source": [
    "from sklearn.ensemble import RandomForestRegressor"
   ]
  },
  {
   "cell_type": "code",
   "execution_count": 19,
   "metadata": {},
   "outputs": [],
   "source": [
    "# Create grid search parameters to search over\n",
    "\n",
    "# Number of trees\n",
    "rfr_n_estimators = [int(x) for x in np.linspace(50, 150, 11)]\n",
    "\n",
    "# Max depth of trees\n",
    "rfr_max_depth = [int(x) for x in np.linspace(5, 20, 4)]\n",
    "\n",
    "# Minimum number of samples required to split\n",
    "rfr_min_samples_split = [2, 5]\n",
    "\n",
    "# Create the grid search\n",
    "rfr_params = {'n_estimators':rfr_n_estimators,\n",
    "              'max_depth':rfr_max_depth,\n",
    "              'min_samples_split':rfr_min_samples_split}"
   ]
  },
  {
   "cell_type": "code",
   "execution_count": 20,
   "metadata": {},
   "outputs": [
    {
     "name": "stderr",
     "output_type": "stream",
     "text": [
      "C:\\Users\\Curtis\\Anaconda3\\lib\\site-packages\\sklearn\\model_selection\\_split.py:2053: FutureWarning: You should specify a value for 'cv' instead of relying on the default value. The default value will change from 3 to 5 in version 0.22.\n",
      "  warnings.warn(CV_WARNING, FutureWarning)\n",
      "[Parallel(n_jobs=4)]: Using backend LokyBackend with 4 concurrent workers.\n"
     ]
    },
    {
     "name": "stdout",
     "output_type": "stream",
     "text": [
      "Fitting 3 folds for each of 88 candidates, totalling 264 fits\n"
     ]
    },
    {
     "name": "stderr",
     "output_type": "stream",
     "text": [
      "[Parallel(n_jobs=4)]: Done  42 tasks      | elapsed: 11.0min\n",
      "[Parallel(n_jobs=4)]: Done 192 tasks      | elapsed: 91.8min\n",
      "[Parallel(n_jobs=4)]: Done 264 out of 264 | elapsed: 149.1min finished\n"
     ]
    },
    {
     "data": {
      "text/plain": [
       "GridSearchCV(cv='warn', error_score='raise-deprecating',\n",
       "       estimator=RandomForestRegressor(bootstrap=True, criterion='mse', max_depth=None,\n",
       "           max_features='auto', max_leaf_nodes=None,\n",
       "           min_impurity_decrease=0.0, min_impurity_split=None,\n",
       "           min_samples_leaf=1, min_samples_split=2,\n",
       "           min_weight_fraction_leaf=0.0, n_estimators='warn', n_jobs=None,\n",
       "           oob_score=False, random_state=None, verbose=0, warm_start=False),\n",
       "       fit_params=None, iid='warn', n_jobs=4,\n",
       "       param_grid={'n_estimators': [50, 60, 70, 80, 90, 100, 110, 120, 130, 140, 150], 'max_depth': [5, 10, 15, 20], 'min_samples_split': [2, 5]},\n",
       "       pre_dispatch='2*n_jobs', refit=True, return_train_score='warn',\n",
       "       scoring=None, verbose=1)"
      ]
     },
     "execution_count": 20,
     "metadata": {},
     "output_type": "execute_result"
    }
   ],
   "source": [
    "# Instantiate RandomForestRegressor model\n",
    "rfr = RandomForestRegressor()\n",
    "\n",
    "rfr_grid = GridSearchCV(estimator = rfr,\n",
    "                        param_grid = rfr_params,\n",
    "                        n_jobs = 4,\n",
    "                        verbose = 1)\n",
    "\n",
    "rfr_grid.fit(X_train_scaled, y_train)"
   ]
  },
  {
   "cell_type": "code",
   "execution_count": 21,
   "metadata": {},
   "outputs": [
    {
     "data": {
      "text/plain": [
       "{'max_depth': 15, 'min_samples_split': 5, 'n_estimators': 130}"
      ]
     },
     "execution_count": 21,
     "metadata": {},
     "output_type": "execute_result"
    }
   ],
   "source": [
    "rfr_grid.best_params_"
   ]
  },
  {
   "cell_type": "code",
   "execution_count": 22,
   "metadata": {},
   "outputs": [],
   "source": [
    "rfr_best = rfr_grid.best_estimator_"
   ]
  },
  {
   "cell_type": "code",
   "execution_count": 23,
   "metadata": {},
   "outputs": [
    {
     "name": "stdout",
     "output_type": "stream",
     "text": [
      "Train score: 0.318\n",
      "Validation score: 0.116\n"
     ]
    }
   ],
   "source": [
    "model_score(rfr_best, X_train_scaled, X_val_scaled)"
   ]
  },
  {
   "cell_type": "code",
   "execution_count": 24,
   "metadata": {},
   "outputs": [
    {
     "name": "stdout",
     "output_type": "stream",
     "text": [
      "Train RMSE: 2.059\n",
      "Validation RMSE: 2.303\n"
     ]
    }
   ],
   "source": [
    "rfr_train_pred, rfr_val_pred = model_rmse(rfr_best, X_train_scaled, X_val_scaled)"
   ]
  },
  {
   "cell_type": "code",
   "execution_count": 25,
   "metadata": {},
   "outputs": [
    {
     "name": "stdout",
     "output_type": "stream",
     "text": [
      "count    31393.000000\n",
      "mean         0.038639\n",
      "std          2.302647\n",
      "min        -18.000000\n",
      "25%         -1.000000\n",
      "50%          0.000000\n",
      "75%          0.000000\n",
      "max         29.000000\n",
      "Name: residual, dtype: float64\n"
     ]
    },
    {
     "data": {
      "image/png": "[encoded data removed]",
      "text/plain": [
       "<Figure size 720x720 with 1 Axes>"
      ]
     },
     "metadata": {
      "needs_background": "light"
     },
     "output_type": "display_data"
    }
   ],
   "source": [
    "plot_resid(rfr_val_pred)"
   ]
  },
  {
   "cell_type": "code",
   "execution_count": 26,
   "metadata": {},
   "outputs": [],
   "source": [
    "# Save RFR model\n",
    "pickle.dump(rfr_best, open('rfr_model.sav', 'wb'))\n",
    "\n",
    "# rfr_best = pickle.load(open('rfr_model.sav', 'rb'))"
   ]
  },
  {
   "cell_type": "code",
   "execution_count": 27,
   "metadata": {},
   "outputs": [
    {
     "data": {
      "text/html": [
       "<div>\n",
       "<style scoped>\n",
       "    .dataframe tbody tr th:only-of-type {\n",
       "        vertical-align: middle;\n",
       "    }\n",
       "\n",
       "    .dataframe tbody tr th {\n",
       "        vertical-align: top;\n",
       "    }\n",
       "\n",
       "    .dataframe thead th {\n",
       "        text-align: right;\n",
       "    }\n",
       "</style>\n",
       "<table border=\"1\" class=\"dataframe\">\n",
       "  <thead>\n",
       "    <tr style=\"text-align: right;\">\n",
       "      <th></th>\n",
       "      <th>importance</th>\n",
       "    </tr>\n",
       "  </thead>\n",
       "  <tbody>\n",
       "    <tr>\n",
       "      <th>item_id</th>\n",
       "      <td>0.649119</td>\n",
       "    </tr>\n",
       "    <tr>\n",
       "      <th>date_block_num</th>\n",
       "      <td>0.185561</td>\n",
       "    </tr>\n",
       "    <tr>\n",
       "      <th>shop_id</th>\n",
       "      <td>0.165321</td>\n",
       "    </tr>\n",
       "  </tbody>\n",
       "</table>\n",
       "</div>"
      ],
      "text/plain": [
       "                importance\n",
       "item_id           0.649119\n",
       "date_block_num    0.185561\n",
       "shop_id           0.165321"
      ]
     },
     "execution_count": 27,
     "metadata": {},
     "output_type": "execute_result"
    }
   ],
   "source": [
    "# Get important features\n",
    "rfr_importance = pd.DataFrame(rfr_best.feature_importances_,\n",
    "                              index = X_train.columns,\n",
    "                              columns = ['importance'])\n",
    "rfr_importance.sort_values('importance', ascending=False)"
   ]
  },
  {
   "cell_type": "markdown",
   "metadata": {},
   "source": [
    "By fitting a rough random forest regressor model to the training data, the model produces decent results with roughly normalized residuals. One take away is that the model found that the ``item_id`` was most important in determining ``item_cnt_day`` for the month. That makes sense as it's largely the item being sold that determines how many copies are bought. However, when and who sells the item could arguably be an equally, or close to, contributing factor."
   ]
  },
  {
   "cell_type": "markdown",
   "metadata": {},
   "source": [
    "# Gradient Boosting Regressor"
   ]
  },
  {
   "cell_type": "code",
   "execution_count": 28,
   "metadata": {},
   "outputs": [],
   "source": [
    "from xgboost import XGBRegressor"
   ]
  },
  {
   "cell_type": "code",
   "execution_count": 29,
   "metadata": {},
   "outputs": [],
   "source": [
    "# Create grid search parameters to randomize over\n",
    "\n",
    "# Learning rate\n",
    "xgb_learning_rate = [0.1, 0.01]\n",
    "\n",
    "# Number of trees\n",
    "xgb_n_estimators = [int(x) for x in np.linspace(start = 50, stop = 150, num = 11)]\n",
    "\n",
    "# Max depth of trees\n",
    "xgb_max_depth = [5, 10, 15]\n",
    "\n",
    "# Minimum number of samples required to split\n",
    "xgb_min_samples_split = [2, 5]\n",
    "\n",
    "# Create the random grid search\n",
    "xgb_params = {'learning_rate':xgb_learning_rate,\n",
    "              'n_estimators':xgb_n_estimators,\n",
    "              'max_depth':xgb_max_depth,\n",
    "              'min_samples_split':xgb_min_samples_split}"
   ]
  },
  {
   "cell_type": "code",
   "execution_count": 30,
   "metadata": {},
   "outputs": [
    {
     "name": "stderr",
     "output_type": "stream",
     "text": [
      "C:\\Users\\Curtis\\Anaconda3\\lib\\site-packages\\sklearn\\model_selection\\_split.py:2053: FutureWarning: You should specify a value for 'cv' instead of relying on the default value. The default value will change from 3 to 5 in version 0.22.\n",
      "  warnings.warn(CV_WARNING, FutureWarning)\n",
      "[Parallel(n_jobs=4)]: Using backend LokyBackend with 4 concurrent workers.\n"
     ]
    },
    {
     "name": "stdout",
     "output_type": "stream",
     "text": [
      "Fitting 3 folds for each of 132 candidates, totalling 396 fits\n"
     ]
    },
    {
     "name": "stderr",
     "output_type": "stream",
     "text": [
      "[Parallel(n_jobs=4)]: Done  42 tasks      | elapsed:  7.3min\n",
      "[Parallel(n_jobs=4)]: Done 192 tasks      | elapsed: 72.1min\n",
      "[Parallel(n_jobs=4)]: Done 396 out of 396 | elapsed: 152.1min finished\n"
     ]
    },
    {
     "data": {
      "text/plain": [
       "GridSearchCV(cv='warn', error_score='raise-deprecating',\n",
       "       estimator=XGBRegressor(base_score=0.5, booster='gbtree', colsample_bylevel=1,\n",
       "       colsample_bytree=1, gamma=0, learning_rate=0.1, max_delta_step=0,\n",
       "       max_depth=3, min_child_weight=1, missing=None, n_estimators=100,\n",
       "       n_jobs=1, nthread=None, objective='reg:linear', random_state=0,\n",
       "       reg_alpha=0, reg_lambda=1, scale_pos_weight=1, seed=None,\n",
       "       silent=True, subsample=1),\n",
       "       fit_params=None, iid='warn', n_jobs=4,\n",
       "       param_grid={'learning_rate': [0.1, 0.01], 'n_estimators': [50, 60, 70, 80, 90, 100, 110, 120, 130, 140, 150], 'max_depth': [5, 10, 15], 'min_samples_split': [2, 5]},\n",
       "       pre_dispatch='2*n_jobs', refit=True, return_train_score='warn',\n",
       "       scoring=None, verbose=1)"
      ]
     },
     "execution_count": 30,
     "metadata": {},
     "output_type": "execute_result"
    }
   ],
   "source": [
    "# Instatiate GradientBoostingRegressor model\n",
    "xgb_regressor = XGBRegressor()\n",
    "\n",
    "# Instatiate RandomSearchCV\n",
    "xgb_grid = GridSearchCV(estimator = xgb_regressor,\n",
    "                        param_grid = xgb_params,\n",
    "                        n_jobs = 4,\n",
    "                        verbose = 1)\n",
    "\n",
    "xgb_grid.fit(X_train_scaled, y_train)"
   ]
  },
  {
   "cell_type": "code",
   "execution_count": 31,
   "metadata": {},
   "outputs": [
    {
     "data": {
      "text/plain": [
       "{'learning_rate': 0.1,\n",
       " 'max_depth': 15,\n",
       " 'min_samples_split': 2,\n",
       " 'n_estimators': 50}"
      ]
     },
     "execution_count": 31,
     "metadata": {},
     "output_type": "execute_result"
    }
   ],
   "source": [
    "xgb_grid.best_params_"
   ]
  },
  {
   "cell_type": "code",
   "execution_count": 32,
   "metadata": {},
   "outputs": [],
   "source": [
    "xgb_best = xgb_grid.best_estimator_"
   ]
  },
  {
   "cell_type": "code",
   "execution_count": 33,
   "metadata": {},
   "outputs": [
    {
     "name": "stdout",
     "output_type": "stream",
     "text": [
      "Train score: 0.534\n",
      "Validation score: 0.186\n"
     ]
    }
   ],
   "source": [
    "model_score(xgb_best, X_train_scaled, X_val_scaled)"
   ]
  },
  {
   "cell_type": "code",
   "execution_count": 34,
   "metadata": {},
   "outputs": [
    {
     "name": "stdout",
     "output_type": "stream",
     "text": [
      "Train RMSE: 1.710\n",
      "Validation RMSE: 2.219\n"
     ]
    }
   ],
   "source": [
    "xgb_train_pred, xgb_val_pred = model_rmse(xgb_best, X_train_scaled, X_val_scaled)"
   ]
  },
  {
   "cell_type": "code",
   "execution_count": 35,
   "metadata": {},
   "outputs": [
    {
     "name": "stdout",
     "output_type": "stream",
     "text": [
      "count    31393.000000\n",
      "mean         0.037015\n",
      "std          2.218828\n",
      "min        -18.000000\n",
      "25%         -1.000000\n",
      "50%          0.000000\n",
      "75%          0.000000\n",
      "max         29.000000\n",
      "Name: residual, dtype: float64\n"
     ]
    },
    {
     "data": {
      "image/png": "[encoded data removed]",
      "text/plain": [
       "<Figure size 720x720 with 1 Axes>"
      ]
     },
     "metadata": {
      "needs_background": "light"
     },
     "output_type": "display_data"
    }
   ],
   "source": [
    "plot_resid(xgb_val_pred)"
   ]
  },
  {
   "cell_type": "code",
   "execution_count": 36,
   "metadata": {},
   "outputs": [],
   "source": [
    "# Save XGB model\n",
    "pickle.dump(xgb_best, open('xgb.pickle.dat', 'wb'))\n",
    "\n",
    "# xgb_best = pickle.load(open('xgb.pickle.dat', 'rb'))"
   ]
  },
  {
   "cell_type": "code",
   "execution_count": 37,
   "metadata": {},
   "outputs": [
    {
     "data": {
      "text/html": [
       "<div>\n",
       "<style scoped>\n",
       "    .dataframe tbody tr th:only-of-type {\n",
       "        vertical-align: middle;\n",
       "    }\n",
       "\n",
       "    .dataframe tbody tr th {\n",
       "        vertical-align: top;\n",
       "    }\n",
       "\n",
       "    .dataframe thead th {\n",
       "        text-align: right;\n",
       "    }\n",
       "</style>\n",
       "<table border=\"1\" class=\"dataframe\">\n",
       "  <thead>\n",
       "    <tr style=\"text-align: right;\">\n",
       "      <th></th>\n",
       "      <th>importance</th>\n",
       "    </tr>\n",
       "  </thead>\n",
       "  <tbody>\n",
       "    <tr>\n",
       "      <th>item_id</th>\n",
       "      <td>0.378688</td>\n",
       "    </tr>\n",
       "    <tr>\n",
       "      <th>shop_id</th>\n",
       "      <td>0.326847</td>\n",
       "    </tr>\n",
       "    <tr>\n",
       "      <th>date_block_num</th>\n",
       "      <td>0.294465</td>\n",
       "    </tr>\n",
       "  </tbody>\n",
       "</table>\n",
       "</div>"
      ],
      "text/plain": [
       "                importance\n",
       "item_id           0.378688\n",
       "shop_id           0.326847\n",
       "date_block_num    0.294465"
      ]
     },
     "execution_count": 37,
     "metadata": {},
     "output_type": "execute_result"
    }
   ],
   "source": [
    "# Get important features\n",
    "xgb_importance = pd.DataFrame(xgb_best.feature_importances_,\n",
    "                              index = X_train.columns,\n",
    "                              columns = ['importance'])\n",
    "xgb_importance.sort_values('importance', ascending=False)"
   ]
  },
  {
   "cell_type": "markdown",
   "metadata": {},
   "source": [
    "As with the random forest regressor model, a XGBoost regressor model performs decently on the validation set. An argument could be made that it's able to capture more underlying patterns in the data with a lower RMSE score, but it's miniscule. Unlike the random forest model though, is that it sees all predictor variables almost equally important to each other which is what might be expected when initially looking at this problem."
   ]
  },
  {
   "cell_type": "markdown",
   "metadata": {},
   "source": [
    "# Neural Network"
   ]
  },
  {
   "cell_type": "code",
   "execution_count": 38,
   "metadata": {},
   "outputs": [
    {
     "name": "stderr",
     "output_type": "stream",
     "text": [
      "Using TensorFlow backend.\n"
     ]
    }
   ],
   "source": [
    "import keras\n",
    "from keras.models import Sequential\n",
    "from keras.layers import Dense, LSTM\n",
    "from keras.callbacks import EarlyStopping"
   ]
  },
  {
   "cell_type": "code",
   "execution_count": 39,
   "metadata": {},
   "outputs": [],
   "source": [
    "# Set up early stopping monitor for models\n",
    "early_stopping_monitor = EarlyStopping(patience=5)"
   ]
  },
  {
   "cell_type": "code",
   "execution_count": 40,
   "metadata": {},
   "outputs": [],
   "source": [
    "# model_checkpoint_dir = os.path.dirname('nn_model.hdf5')\n",
    "nn_cp_callback = tf.keras.callbacks.ModelCheckpoint('nn_model.hdf5',\n",
    "                                                   save_best_only = True,\n",
    "                                                   verbose = 1)"
   ]
  },
  {
   "cell_type": "code",
   "execution_count": 41,
   "metadata": {},
   "outputs": [],
   "source": [
    "X_train_reshaped = X_train_scaled.reshape(X_train_scaled.shape[0], 1, X_train_scaled.shape[1])\n",
    "X_val_reshaped = X_val_scaled.reshape(X_val_scaled.shape[0], 1, X_val_scaled.shape[1])"
   ]
  },
  {
   "cell_type": "code",
   "execution_count": 54,
   "metadata": {},
   "outputs": [],
   "source": [
    "model = Sequential()\n",
    "model.add(LSTM(15, return_sequences=False, input_shape=(1, 3)))\n",
    "model.add(Dense(10, activation = 'relu'))\n",
    "model.add(Dense(5, activation = 'relu'))\n",
    "model.add(Dense(1, activation = 'relu'))\n",
    "\n",
    "model.compile(optimizer='adam', loss = 'mean_squared_error')"
   ]
  },
  {
   "cell_type": "code",
   "execution_count": 55,
   "metadata": {},
   "outputs": [
    {
     "name": "stdout",
     "output_type": "stream",
     "text": [
      "Train on 1570649 samples, validate on 31393 samples\n",
      "Epoch 1/100\n",
      "1570649/1570649 [==============================] - 55s 35us/step - loss: 6.0048 - val_loss: 5.9319\n",
      "\n",
      "Epoch 00001: val_loss did not improve from 5.89069\n",
      "Epoch 2/100\n",
      "1570649/1570649 [==============================] - 54s 34us/step - loss: 5.9692 - val_loss: 5.9130\n",
      "\n",
      "Epoch 00002: val_loss did not improve from 5.89069\n",
      "Epoch 3/100\n",
      "1570649/1570649 [==============================] - 54s 35us/step - loss: 5.9633 - val_loss: 5.9164\n",
      "\n",
      "Epoch 00003: val_loss did not improve from 5.89069\n",
      "Epoch 4/100\n",
      "1570649/1570649 [==============================] - 54s 35us/step - loss: 5.9584 - val_loss: 5.9402\n",
      "\n",
      "Epoch 00004: val_loss did not improve from 5.89069\n",
      "Epoch 5/100\n",
      "1570649/1570649 [==============================] - 54s 35us/step - loss: 5.9529 - val_loss: 5.9183\n",
      "\n",
      "Epoch 00005: val_loss did not improve from 5.89069\n",
      "Epoch 6/100\n",
      "1570649/1570649 [==============================] - 54s 35us/step - loss: 5.9432 - val_loss: 5.9278\n",
      "\n",
      "Epoch 00006: val_loss did not improve from 5.89069\n",
      "Epoch 7/100\n",
      "1570649/1570649 [==============================] - 54s 34us/step - loss: 5.9377 - val_loss: 5.9076\n",
      "\n",
      "Epoch 00007: val_loss did not improve from 5.89069\n",
      "Epoch 8/100\n",
      "1570649/1570649 [==============================] - 54s 35us/step - loss: 5.9342 - val_loss: 5.9311\n",
      "\n",
      "Epoch 00008: val_loss did not improve from 5.89069\n",
      "Epoch 9/100\n",
      "1570649/1570649 [==============================] - 54s 35us/step - loss: 5.9311 - val_loss: 5.9111\n",
      "\n",
      "Epoch 00009: val_loss did not improve from 5.89069\n",
      "Epoch 10/100\n",
      "1570649/1570649 [==============================] - 54s 34us/step - loss: 5.9281 - val_loss: 5.9045\n",
      "\n",
      "Epoch 00010: val_loss did not improve from 5.89069\n",
      "Epoch 11/100\n",
      "1570649/1570649 [==============================] - 54s 34us/step - loss: 5.9260 - val_loss: 5.9427\n",
      "\n",
      "Epoch 00011: val_loss did not improve from 5.89069\n",
      "Epoch 12/100\n",
      "1570649/1570649 [==============================] - 55s 35us/step - loss: 5.9245 - val_loss: 5.9037\n",
      "\n",
      "Epoch 00012: val_loss did not improve from 5.89069\n",
      "Epoch 13/100\n",
      "1570649/1570649 [==============================] - 57s 36us/step - loss: 5.9228 - val_loss: 5.9094\n",
      "\n",
      "Epoch 00013: val_loss did not improve from 5.89069\n",
      "Epoch 14/100\n",
      "1570649/1570649 [==============================] - 59s 37us/step - loss: 5.9207 - val_loss: 5.9097\n",
      "\n",
      "Epoch 00014: val_loss did not improve from 5.89069\n",
      "Epoch 15/100\n",
      "1570649/1570649 [==============================] - 49s 31us/step - loss: 5.9183 - val_loss: 5.9100\n",
      "\n",
      "Epoch 00015: val_loss did not improve from 5.89069\n",
      "Epoch 16/100\n",
      "1570649/1570649 [==============================] - 48s 30us/step - loss: 5.9156 - val_loss: 5.9076\n",
      "\n",
      "Epoch 00016: val_loss did not improve from 5.89069\n",
      "Epoch 17/100\n",
      "1570649/1570649 [==============================] - 49s 31us/step - loss: 5.9137 - val_loss: 5.8754\n",
      "\n",
      "Epoch 00017: val_loss improved from 5.89069 to 5.87535, saving model to nn_model.hdf5\n",
      "Epoch 18/100\n",
      "1570649/1570649 [==============================] - 47s 30us/step - loss: 5.9133 - val_loss: 5.8882\n",
      "\n",
      "Epoch 00018: val_loss did not improve from 5.87535\n",
      "Epoch 19/100\n",
      "1570649/1570649 [==============================] - 47s 30us/step - loss: 5.9118 - val_loss: 5.9171\n",
      "\n",
      "Epoch 00019: val_loss did not improve from 5.87535\n",
      "Epoch 20/100\n",
      "1570649/1570649 [==============================] - 47s 30us/step - loss: 5.9108 - val_loss: 5.8793\n",
      "\n",
      "Epoch 00020: val_loss did not improve from 5.87535\n",
      "Epoch 21/100\n",
      "1570649/1570649 [==============================] - 47s 30us/step - loss: 5.9098 - val_loss: 5.8985\n",
      "\n",
      "Epoch 00021: val_loss did not improve from 5.87535\n",
      "Epoch 22/100\n",
      "1570649/1570649 [==============================] - 47s 30us/step - loss: 5.9087 - val_loss: 5.9217\n",
      "\n",
      "Epoch 00022: val_loss did not improve from 5.87535\n"
     ]
    },
    {
     "data": {
      "text/plain": [
       "<keras.callbacks.History at 0x1f92d79cf98>"
      ]
     },
     "execution_count": 55,
     "metadata": {},
     "output_type": "execute_result"
    }
   ],
   "source": [
    "model.fit(X_train_reshaped, y_train,\n",
    "         validation_data = (X_val_reshaped, y_val),\n",
    "         epochs = 100,\n",
    "         callbacks = [early_stopping_monitor, nn_cp_callback])"
   ]
  },
  {
   "cell_type": "code",
   "execution_count": 56,
   "metadata": {},
   "outputs": [
    {
     "name": "stdout",
     "output_type": "stream",
     "text": [
      "Train RMSE: 2.449\n",
      "Validation RMSE: 2.453\n"
     ]
    }
   ],
   "source": [
    "rnn_train_pred, rnn_val_pred = model_rmse(model, X_train_reshaped, X_val_reshaped)"
   ]
  },
  {
   "cell_type": "code",
   "execution_count": 57,
   "metadata": {},
   "outputs": [
    {
     "name": "stdout",
     "output_type": "stream",
     "text": [
      "count    31393.000000\n",
      "mean         0.121078\n",
      "std          2.449872\n",
      "min         -3.000000\n",
      "25%         -1.000000\n",
      "50%          0.000000\n",
      "75%          0.000000\n",
      "max         29.000000\n",
      "Name: residual, dtype: float64\n"
     ]
    },
    {
     "data": {
      "image/png": "[encoded data removed]",
      "text/plain": [
       "<Figure size 720x720 with 1 Axes>"
      ]
     },
     "metadata": {
      "needs_background": "light"
     },
     "output_type": "display_data"
    }
   ],
   "source": [
    "plot_resid(rnn_val_pred)"
   ]
  },
  {
   "cell_type": "code",
   "execution_count": 46,
   "metadata": {},
   "outputs": [],
   "source": [
    "# Load best NN model\n",
    "# model_best = keras.models.load_model('nn_model.hdf5')"
   ]
  },
  {
   "cell_type": "markdown",
   "metadata": {},
   "source": [
    "Building a simple neural network did not seem to improve upon the results of the XGBoost regression model as the resulting validation RMSE for the neural network is slightly greater than that of the XGBoost. Further tweaks to either the model architecture and/or the data could be necessary but otherwise it also performed decently."
   ]
  },
  {
   "cell_type": "markdown",
   "metadata": {},
   "source": [
    "# Test Data"
   ]
  },
  {
   "cell_type": "code",
   "execution_count": 69,
   "metadata": {},
   "outputs": [],
   "source": [
    "# Create empty dataframe for test predictions\n",
    "test_pred = pd.DataFrame(sales_test)"
   ]
  },
  {
   "cell_type": "code",
   "execution_count": 70,
   "metadata": {},
   "outputs": [],
   "source": [
    "# Make test predictions with RFR\n",
    "rfr_test_pred = rfr_best.predict(X_test_scaled)"
   ]
  },
  {
   "cell_type": "code",
   "execution_count": 71,
   "metadata": {},
   "outputs": [],
   "source": [
    "# Make test predictions with XGB\n",
    "xgb_test_pred = xgb_best.predict(X_test_scaled)"
   ]
  },
  {
   "cell_type": "code",
   "execution_count": 72,
   "metadata": {},
   "outputs": [],
   "source": [
    "# Make test predictions with NN\n",
    "# Reshape test set\n",
    "X_test_reshaped = X_test_scaled.reshape(X_test_scaled.shape[0], 1, X_test_scaled.shape[1])\n",
    "\n",
    "nn_test_pred = model.predict(X_test_reshaped)"
   ]
  },
  {
   "cell_type": "code",
   "execution_count": 73,
   "metadata": {},
   "outputs": [],
   "source": [
    "# Append model predictions to test_pred data frame\n",
    "test_pred['rfr_pred'] = rfr_test_pred\n",
    "test_pred['xgb_pred'] = xgb_test_pred\n",
    "test_pred['nn_pred'] = nn_test_pred"
   ]
  },
  {
   "cell_type": "code",
   "execution_count": 74,
   "metadata": {},
   "outputs": [
    {
     "data": {
      "text/html": [
       "<div>\n",
       "<style scoped>\n",
       "    .dataframe tbody tr th:only-of-type {\n",
       "        vertical-align: middle;\n",
       "    }\n",
       "\n",
       "    .dataframe tbody tr th {\n",
       "        vertical-align: top;\n",
       "    }\n",
       "\n",
       "    .dataframe thead th {\n",
       "        text-align: right;\n",
       "    }\n",
       "</style>\n",
       "<table border=\"1\" class=\"dataframe\">\n",
       "  <thead>\n",
       "    <tr style=\"text-align: right;\">\n",
       "      <th></th>\n",
       "      <th>ID</th>\n",
       "      <th>shop_id</th>\n",
       "      <th>item_id</th>\n",
       "      <th>date_block_num</th>\n",
       "      <th>rfr_pred</th>\n",
       "      <th>xgb_pred</th>\n",
       "      <th>nn_pred</th>\n",
       "    </tr>\n",
       "  </thead>\n",
       "  <tbody>\n",
       "    <tr>\n",
       "      <th>0</th>\n",
       "      <td>0</td>\n",
       "      <td>5</td>\n",
       "      <td>5037</td>\n",
       "      <td>34</td>\n",
       "      <td>1.273781</td>\n",
       "      <td>1.211479</td>\n",
       "      <td>1.101081</td>\n",
       "    </tr>\n",
       "    <tr>\n",
       "      <th>1</th>\n",
       "      <td>1</td>\n",
       "      <td>5</td>\n",
       "      <td>5320</td>\n",
       "      <td>34</td>\n",
       "      <td>1.273781</td>\n",
       "      <td>1.211479</td>\n",
       "      <td>1.080750</td>\n",
       "    </tr>\n",
       "    <tr>\n",
       "      <th>2</th>\n",
       "      <td>2</td>\n",
       "      <td>5</td>\n",
       "      <td>5233</td>\n",
       "      <td>34</td>\n",
       "      <td>1.273781</td>\n",
       "      <td>1.211479</td>\n",
       "      <td>1.080750</td>\n",
       "    </tr>\n",
       "    <tr>\n",
       "      <th>3</th>\n",
       "      <td>3</td>\n",
       "      <td>5</td>\n",
       "      <td>5232</td>\n",
       "      <td>34</td>\n",
       "      <td>1.273781</td>\n",
       "      <td>1.211479</td>\n",
       "      <td>1.080750</td>\n",
       "    </tr>\n",
       "    <tr>\n",
       "      <th>4</th>\n",
       "      <td>4</td>\n",
       "      <td>5</td>\n",
       "      <td>5268</td>\n",
       "      <td>34</td>\n",
       "      <td>1.273781</td>\n",
       "      <td>1.211479</td>\n",
       "      <td>1.080750</td>\n",
       "    </tr>\n",
       "    <tr>\n",
       "      <th>5</th>\n",
       "      <td>5</td>\n",
       "      <td>5</td>\n",
       "      <td>5039</td>\n",
       "      <td>34</td>\n",
       "      <td>1.273781</td>\n",
       "      <td>1.211479</td>\n",
       "      <td>1.100234</td>\n",
       "    </tr>\n",
       "    <tr>\n",
       "      <th>6</th>\n",
       "      <td>6</td>\n",
       "      <td>5</td>\n",
       "      <td>5041</td>\n",
       "      <td>34</td>\n",
       "      <td>1.273781</td>\n",
       "      <td>1.211479</td>\n",
       "      <td>1.099385</td>\n",
       "    </tr>\n",
       "    <tr>\n",
       "      <th>7</th>\n",
       "      <td>7</td>\n",
       "      <td>5</td>\n",
       "      <td>5046</td>\n",
       "      <td>34</td>\n",
       "      <td>1.273781</td>\n",
       "      <td>1.211479</td>\n",
       "      <td>1.097267</td>\n",
       "    </tr>\n",
       "    <tr>\n",
       "      <th>8</th>\n",
       "      <td>8</td>\n",
       "      <td>5</td>\n",
       "      <td>5319</td>\n",
       "      <td>34</td>\n",
       "      <td>1.273781</td>\n",
       "      <td>1.211479</td>\n",
       "      <td>1.080750</td>\n",
       "    </tr>\n",
       "    <tr>\n",
       "      <th>9</th>\n",
       "      <td>9</td>\n",
       "      <td>5</td>\n",
       "      <td>5003</td>\n",
       "      <td>34</td>\n",
       "      <td>1.273781</td>\n",
       "      <td>1.211479</td>\n",
       "      <td>1.115524</td>\n",
       "    </tr>\n",
       "  </tbody>\n",
       "</table>\n",
       "</div>"
      ],
      "text/plain": [
       "   ID  shop_id  item_id  date_block_num  rfr_pred  xgb_pred   nn_pred\n",
       "0   0        5     5037              34  1.273781  1.211479  1.101081\n",
       "1   1        5     5320              34  1.273781  1.211479  1.080750\n",
       "2   2        5     5233              34  1.273781  1.211479  1.080750\n",
       "3   3        5     5232              34  1.273781  1.211479  1.080750\n",
       "4   4        5     5268              34  1.273781  1.211479  1.080750\n",
       "5   5        5     5039              34  1.273781  1.211479  1.100234\n",
       "6   6        5     5041              34  1.273781  1.211479  1.099385\n",
       "7   7        5     5046              34  1.273781  1.211479  1.097267\n",
       "8   8        5     5319              34  1.273781  1.211479  1.080750\n",
       "9   9        5     5003              34  1.273781  1.211479  1.115524"
      ]
     },
     "execution_count": 74,
     "metadata": {},
     "output_type": "execute_result"
    }
   ],
   "source": [
    "test_pred.head(10)"
   ]
  },
  {
   "cell_type": "markdown",
   "metadata": {},
   "source": [
    "Although it could be argued that the XGBoost regressor model overfit the training data, based on how well it performed on the validation set, it'll be the model of choice to use to predict the test set. Ensembling all the models was contemplated but seeing as of of them performed similarly on the validation set, it didn't provide much of a benefit."
   ]
  },
  {
   "cell_type": "code",
   "execution_count": 75,
   "metadata": {},
   "outputs": [
    {
     "data": {
      "text/html": [
       "<div>\n",
       "<style scoped>\n",
       "    .dataframe tbody tr th:only-of-type {\n",
       "        vertical-align: middle;\n",
       "    }\n",
       "\n",
       "    .dataframe tbody tr th {\n",
       "        vertical-align: top;\n",
       "    }\n",
       "\n",
       "    .dataframe thead th {\n",
       "        text-align: right;\n",
       "    }\n",
       "</style>\n",
       "<table border=\"1\" class=\"dataframe\">\n",
       "  <thead>\n",
       "    <tr style=\"text-align: right;\">\n",
       "      <th></th>\n",
       "      <th>ID</th>\n",
       "      <th>item_cnt_month</th>\n",
       "    </tr>\n",
       "  </thead>\n",
       "  <tbody>\n",
       "    <tr>\n",
       "      <th>0</th>\n",
       "      <td>0</td>\n",
       "      <td>0.5</td>\n",
       "    </tr>\n",
       "    <tr>\n",
       "      <th>1</th>\n",
       "      <td>1</td>\n",
       "      <td>0.5</td>\n",
       "    </tr>\n",
       "    <tr>\n",
       "      <th>2</th>\n",
       "      <td>2</td>\n",
       "      <td>0.5</td>\n",
       "    </tr>\n",
       "    <tr>\n",
       "      <th>3</th>\n",
       "      <td>3</td>\n",
       "      <td>0.5</td>\n",
       "    </tr>\n",
       "    <tr>\n",
       "      <th>4</th>\n",
       "      <td>4</td>\n",
       "      <td>0.5</td>\n",
       "    </tr>\n",
       "  </tbody>\n",
       "</table>\n",
       "</div>"
      ],
      "text/plain": [
       "   ID  item_cnt_month\n",
       "0   0             0.5\n",
       "1   1             0.5\n",
       "2   2             0.5\n",
       "3   3             0.5\n",
       "4   4             0.5"
      ]
     },
     "execution_count": 75,
     "metadata": {},
     "output_type": "execute_result"
    }
   ],
   "source": [
    "# Read sample submission\n",
    "sample_sub = pd.read_csv('../all/sample_submission.csv.gz', compression = 'gzip')\n",
    "sample_sub.head()"
   ]
  },
  {
   "cell_type": "code",
   "execution_count": 76,
   "metadata": {},
   "outputs": [],
   "source": [
    "# Round all values of xgb_pred to nearest integer\n",
    "test_pred['item_cnt_month'] = np.round(xgb_test_pred)"
   ]
  },
  {
   "cell_type": "code",
   "execution_count": 77,
   "metadata": {},
   "outputs": [
    {
     "data": {
      "text/html": [
       "<div>\n",
       "<style scoped>\n",
       "    .dataframe tbody tr th:only-of-type {\n",
       "        vertical-align: middle;\n",
       "    }\n",
       "\n",
       "    .dataframe tbody tr th {\n",
       "        vertical-align: top;\n",
       "    }\n",
       "\n",
       "    .dataframe thead th {\n",
       "        text-align: right;\n",
       "    }\n",
       "</style>\n",
       "<table border=\"1\" class=\"dataframe\">\n",
       "  <thead>\n",
       "    <tr style=\"text-align: right;\">\n",
       "      <th></th>\n",
       "      <th>ID</th>\n",
       "      <th>item_cnt_month</th>\n",
       "    </tr>\n",
       "  </thead>\n",
       "  <tbody>\n",
       "    <tr>\n",
       "      <th>0</th>\n",
       "      <td>0</td>\n",
       "      <td>1.0</td>\n",
       "    </tr>\n",
       "    <tr>\n",
       "      <th>1</th>\n",
       "      <td>1</td>\n",
       "      <td>1.0</td>\n",
       "    </tr>\n",
       "    <tr>\n",
       "      <th>2</th>\n",
       "      <td>2</td>\n",
       "      <td>1.0</td>\n",
       "    </tr>\n",
       "    <tr>\n",
       "      <th>3</th>\n",
       "      <td>3</td>\n",
       "      <td>1.0</td>\n",
       "    </tr>\n",
       "    <tr>\n",
       "      <th>4</th>\n",
       "      <td>4</td>\n",
       "      <td>1.0</td>\n",
       "    </tr>\n",
       "  </tbody>\n",
       "</table>\n",
       "</div>"
      ],
      "text/plain": [
       "   ID  item_cnt_month\n",
       "0   0             1.0\n",
       "1   1             1.0\n",
       "2   2             1.0\n",
       "3   3             1.0\n",
       "4   4             1.0"
      ]
     },
     "execution_count": 77,
     "metadata": {},
     "output_type": "execute_result"
    }
   ],
   "source": [
    "xgb_test_sub = test_pred[['ID', 'item_cnt_month']]\n",
    "xgb_test_sub.head()"
   ]
  },
  {
   "cell_type": "code",
   "execution_count": 79,
   "metadata": {},
   "outputs": [],
   "source": [
    "xgb_test_sub.to_csv('../Submissions/xgb_test_submission.csv', index=False)"
   ]
  },
  {
   "cell_type": "markdown",
   "metadata": {},
   "source": [
    "# Conclusion and Future Work\n",
    "\n",
    "Given the data on how many items were sold and who sold them when for 33 months, the task was to develop predictions on how many items will sell in which shops for the following month. A brief analysis was done and found the items tend to sell more as it gets closer to the end of the year and Christmas time. It was also found the items are typically bought items aren't typically bought in bulk or copies don't tend to sell more than a few copies in a month.\n",
    "\n",
    "Nevertheless, a few basic models were constructed and all performed relatively well on a validation set resulting in RMSEs of around $2.3$. There are a couple caveats however from these results. The first is that little feature engineering was done on the given data. Further analysis could incorporate data on how similar items sold in past years. Another point should be made on how the models were constructed. Each of the models were preliminary and weren't optimized further on the data and could have possibly overfit the data. Future iterations of this project should look into each of the models performance."
   ]
  }
 ],
 "metadata": {
  "kernelspec": {
   "display_name": "Python 3",
   "language": "python",
   "name": "python3"
  },
  "language_info": {
   "codemirror_mode": {
    "name": "ipython",
    "version": 3
   },
   "file_extension": ".py",
   "mimetype": "text/x-python",
   "name": "python",
   "nbconvert_exporter": "python",
   "pygments_lexer": "ipython3",
   "version": "3.6.7"
  }
 },
 "nbformat": 4,
 "nbformat_minor": 2
}
