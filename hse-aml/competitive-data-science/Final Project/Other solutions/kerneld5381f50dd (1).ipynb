{
 "cells": [
  {
   "cell_type": "code",
   "execution_count": 1,
   "metadata": {
    "_cell_guid": "b1076dfc-b9ad-4769-8c92-a6c4dae69d19",
    "_uuid": "8f2839f25d086af736a60e9eeb907d3b93b6e0e5"
   },
   "outputs": [
    {
     "name": "stdout",
     "output_type": "stream",
     "text": [
      "['__notebook__.ipynb', '__output__.json', '__results___files', 'custom.css', 'test.csv', '__results__.html', 'dftest.csv', 'dftrain.csv']\n"
     ]
    }
   ],
   "source": [
    "# This Python 3 environment comes with many helpful analytics libraries installed\n",
    "# It is defined by the kaggle/python docker image: https://github.com/kaggle/docker-python\n",
    "# For example, here's several helpful packages to load in \n",
    "\n",
    "import numpy as np # linear algebra\n",
    "import pandas as pd # data processing, CSV file I/O (e.g. pd.read_csv)\n",
    "\n",
    "# Input data files are available in the \"../input/\" directory.\n",
    "# For example, running this (by clicking run or pressing Shift+Enter) will list the files in the input directory\n",
    "from IPython.display import FileLink\n",
    "import os\n",
    "print(os.listdir(\"../input\"))\n",
    "import matplotlib.pyplot as plt\n",
    "import base64\n",
    "from sklearn.model_selection import GridSearchCV, PredefinedSplit\n",
    "# Any results you write to the current directory are saved as output."
   ]
  },
  {
   "cell_type": "code",
   "execution_count": 2,
   "metadata": {
    "_uuid": "a7730a335f671a2e24d65c3120cb91ae99c04481"
   },
   "outputs": [],
   "source": [
    "import sklearn\n",
    "import scipy.sparse \n",
    "import lightgbm as lgb\n",
    "import pickle\n",
    "from sklearn.linear_model import LinearRegression\n",
    "from sklearn.metrics import mean_squared_error\n",
    "from sklearn.ensemble import RandomForestRegressor\n",
    "import gc\n",
    "import psutil\n",
    "import xgboost as xgb\n",
    "import itertools\n",
    "import seaborn as sns\n",
    "from xgboost import XGBClassifier\n",
    "from sklearn.preprocessing import Imputer\n",
    "from sklearn.externals import joblib\n",
    "from sklearn.preprocessing import StandardScaler\n",
    "from sklearn.model_selection import train_test_split\n",
    "#from sklearn import cross_validation, metrics\n",
    "from sklearn.model_selection import GridSearchCV\n",
    "from sklearn.metrics import classification_report\n",
    "from xgboost import plot_importance\n",
    "from sklearn.metrics import confusion_matrix\n",
    "from sklearn import svm\n",
    "from sklearn.ensemble import IsolationForest"
   ]
  },
  {
   "cell_type": "code",
   "execution_count": 3,
   "metadata": {
    "_uuid": "d57bbb5d6989bc91a77cd09a3ef18f099bd22ec2"
   },
   "outputs": [],
   "source": [
    "training = pd.read_csv('../input/dftrain.csv')\n",
    "testf = pd.read_csv('../input/test.csv')"
   ]
  },
  {
   "cell_type": "markdown",
   "metadata": {
    "_cell_guid": "79c7e3d0-c299-4dcb-8224-4455121ee9b0",
    "_uuid": "d629ff2d2480ee46fbb7e2d37f6b5fab8052498a",
    "collapsed": true
   },
   "source": [
    "### Predict"
   ]
  },
  {
   "cell_type": "code",
   "execution_count": 4,
   "metadata": {
    "_uuid": "3a9da0f8e2879d7fc0ce9aa3251ea3295011774a"
   },
   "outputs": [],
   "source": [
    "datasample = training\n",
    "dates = datasample['date_block_num']\n",
    "boolean_test = (dates.isin([22,31,32,33])) # & (boolean)\n",
    "boolean_train = ~boolean_test\n",
    "dates_train = dates[boolean_train]\n",
    "dates_val  = dates[boolean_test]\n",
    "\n",
    "data1 = datasample['item_cnt_day'].clip_upper(40, inplace=True)\n",
    "data1 = datasample['item_cnt_day'].clip_lower(0, inplace=True)\n",
    "\n",
    "columns=['date_block_num']\n",
    "X1     = datasample.iloc[:, datasample.columns != 'item_cnt_day']\n",
    "Y1     = datasample.iloc[:, datasample.columns == 'item_cnt_day']\n",
    "# the above are designed to define x and y\n",
    "X_train = X1.loc[boolean_train].drop(columns, axis=1).values\n",
    "X_cv =  X1.loc[boolean_test].drop(columns, axis=1).values\n",
    "\n",
    "Y_train = Y1.loc[boolean_train].values\n",
    "Y_cv =  Y1.loc[boolean_test].values\n",
    "cols = list(X1.columns)"
   ]
  },
  {
   "cell_type": "code",
   "execution_count": 5,
   "metadata": {
    "_uuid": "575df01622a2d4e0ba5bf9487b91ab5c104e2f13"
   },
   "outputs": [],
   "source": [
    "del datasample\n",
    "del data1\n",
    "del X1 \n",
    "del Y1\n",
    "del training"
   ]
  },
  {
   "cell_type": "code",
   "execution_count": 6,
   "metadata": {
    "_uuid": "751b1d36e65930488b08d63311a05d50d5d28b13"
   },
   "outputs": [
    {
     "name": "stdout",
     "output_type": "stream",
     "text": [
      "X_train shape is (5090285, 43)\n",
      "X_cv shape is (987463, 43)\n",
      "Y_train shape is (5090285, 1)\n",
      "Y_cv shape is (987463, 1)\n"
     ]
    }
   ],
   "source": [
    "print('X_train shape is ' + str(X_train.shape))\n",
    "print('X_cv shape is ' + str(X_cv.shape))\n",
    "print('Y_train shape is ' + str(Y_train.shape))\n",
    "print('Y_cv shape is ' + str(Y_cv.shape))"
   ]
  },
  {
   "cell_type": "markdown",
   "metadata": {
    "_uuid": "e4319eda25dcbdaece821dd9fd48f56b4669f89a"
   },
   "source": [
    "**We will train 3 different models** using grid search for hyperparameter tuning"
   ]
  },
  {
   "cell_type": "markdown",
   "metadata": {
    "_uuid": "5a2e166077094952b542779ee6171b180b23d389"
   },
   "source": [
    "Light GBM, RF and XGBOOST (  values of the parameters search are used from other kernels as it is extremely difficult to find hyperparameter search )"
   ]
  },
  {
   "cell_type": "code",
   "execution_count": 7,
   "metadata": {
    "_uuid": "853293f7405e082fbd8eaad35f0256ecfd31ebbb"
   },
   "outputs": [],
   "source": [
    "X = np.concatenate((X_train, X_cv), axis=0)\n",
    "y = np.append(Y_train, Y_cv)"
   ]
  },
  {
   "cell_type": "markdown",
   "metadata": {
    "_uuid": "43d40dbc8e18b865efea51a0828e839823a851cf"
   },
   "source": [
    "**Hyper paramter tuning and model generation**"
   ]
  },
  {
   "cell_type": "markdown",
   "metadata": {
    "_uuid": "3d3b496b1ba114721fed00b2a1e009af78812674"
   },
   "source": [
    "from sklearn.metrics import mean_squared_error\n",
    "learning_rates = [0.02, 0.04, 0.06, 0.08, 0.1]\n",
    "best_rmse = 9999999999999\n",
    "for lr in learning_rates:\n",
    "    lgb_params = {\n",
    "               'feature_fraction': 0.75,\n",
    "               'metric': 'rmse',\n",
    "               'nthread':1, \n",
    "               'min_data_in_leaf': 2**7, \n",
    "               'bagging_fraction': 0.75, \n",
    "               'learning_rate': lr, \n",
    "               'objective': 'mse', \n",
    "               'bagging_seed': 2**7, \n",
    "               'num_leaves': 2**7,\n",
    "               'bagging_freq':1,\n",
    "               'verbose':0 \n",
    "              }\n",
    "\n",
    "    lgb_model = lgb.train(lgb_params, lgb.Dataset(X_train, label=Y_train.clip(0,40).ravel()), int(100 * (lr / 0.03)))\n",
    "    pred_lgb_val = lgb_model.predict(X_cv)\n",
    "    score = np.sqrt(mean_squared_error(Y_cv.clip(0.20), pred_lgb_val.clip(0,20)))\n",
    "    if score < best_rmse:\n",
    "        best_rmse = score\n",
    "        best_lr = lr\n",
    "        best_lgb = lgb_model\n",
    "best_lr"
   ]
  },
  {
   "cell_type": "markdown",
   "metadata": {
    "_uuid": "6b72c057798c1c1cd9f0d73e87ba08548d650c3f"
   },
   "source": [
    "#del best_lgb\n",
    "del lgb_model\n",
    "del score\n"
   ]
  },
  {
   "cell_type": "markdown",
   "metadata": {
    "_uuid": "22f9f39c4f295875d718626b3c735dde6fbfd1d1"
   },
   "source": [
    "del pred_lgb_val"
   ]
  },
  {
   "cell_type": "markdown",
   "metadata": {
    "_uuid": "3cd30543c3611e4e2b14ef4e1a8d78002fa10d88"
   },
   "source": [
    "lgb_params = {\n",
    "               'feature_fraction': 0.75,\n",
    "               'metric': 'rmse',\n",
    "               'nthread':1, \n",
    "               'min_data_in_leaf': 2**7, \n",
    "               'bagging_fraction': 0.75, \n",
    "               'learning_rate': 0.08, \n",
    "               'objective': 'mse', \n",
    "               'bagging_seed': 2**7, \n",
    "               'num_leaves': 2**7,\n",
    "               'bagging_freq':1,\n",
    "               'verbose':0 \n",
    "              }\n",
    "best_lgb = lgb.train(lgb_params, lgb.Dataset(X, label=y), int(100 * (0.05 / 0.03)))"
   ]
  },
  {
   "cell_type": "code",
   "execution_count": 8,
   "metadata": {
    "_uuid": "81fac2bafee42ac70af1118ff522aa868bfac3ca"
   },
   "outputs": [
    {
     "name": "stdout",
     "output_type": "stream",
     "text": [
      "[11:15:17] WARNING: /workspace/src/learner.cc:685: Tree method is automatically selected to be 'approx' for faster speed. To use old behavior (exact greedy algorithm on single machine), set tree_method to 'exact'.\n",
      "[0]\ttrain-rmse:1.42962\tvalid-rmse:1.49058\n",
      "Multiple eval metrics have been passed: 'valid-rmse' will be used for early stopping.\n",
      "\n",
      "Will train until valid-rmse hasn't improved in 50 rounds.\n",
      "[50]\ttrain-rmse:1.10402\tvalid-rmse:1.2261\n",
      "[100]\ttrain-rmse:1.05808\tvalid-rmse:1.18668\n",
      "[150]\ttrain-rmse:1.03716\tvalid-rmse:1.16694\n",
      "[200]\ttrain-rmse:1.02543\tvalid-rmse:1.16025\n",
      "[250]\ttrain-rmse:1.01713\tvalid-rmse:1.15682\n",
      "[300]\ttrain-rmse:1.00911\tvalid-rmse:1.15323\n",
      "[350]\ttrain-rmse:1.00293\tvalid-rmse:1.15006\n",
      "[400]\ttrain-rmse:0.9983\tvalid-rmse:1.14778\n",
      "[450]\ttrain-rmse:0.9937\tvalid-rmse:1.14646\n",
      "[499]\ttrain-rmse:0.989128\tvalid-rmse:1.1451\n"
     ]
    }
   ],
   "source": [
    "import xgboost as xgb\n",
    "xgbtrain = [(xgb.DMatrix(X_train, Y_train), 'train'), (xgb.DMatrix(X_cv, Y_cv), 'valid')]\n",
    "param = {'max_depth':6, \n",
    "         'subsample':0.9,\n",
    "         'min_child_weight':1,\n",
    "         'eta':0.03, \n",
    "         'seed':3,\n",
    "         'gamma':4,\n",
    "         'silent':0,\n",
    "         'reg_alpha':0.2,\n",
    "         'eval_metric':'rmse',\n",
    "         'n_estimators':100,\n",
    "         'colsample_bytree': 0.4\n",
    "        } # random parameters\n",
    "\n",
    "bstxgb = xgb.train(param, xgb.DMatrix(X_train,Y_train), 500, xgbtrain, maximize=False, verbose_eval=50, early_stopping_rounds=50)"
   ]
  },
  {
   "cell_type": "code",
   "execution_count": 9,
   "metadata": {
    "_uuid": "1acbf6f41273842faf746746099a0fb7f356694e"
   },
   "outputs": [
    {
     "data": {
      "image/png": "[encoded data removed]",
      "text/plain": [
       "<Figure size 720x2160 with 1 Axes>"
      ]
     },
     "metadata": {},
     "output_type": "display_data"
    }
   ],
   "source": [
    "x=xgb.plot_importance(bstxgb)\n",
    "x.figure.set_size_inches(10, 30)\n"
   ]
  },
  {
   "cell_type": "code",
   "execution_count": 10,
   "metadata": {
    "_uuid": "d2338fce8c814fb2330c8827aa9c0787d839a703"
   },
   "outputs": [
    {
     "data": {
      "text/plain": [
       "['item_category_id_avg_item_cnt_day_lag_1',\n",
       " 'item_id_avg_item_price_lag_1',\n",
       " 'date_block_num']"
      ]
     },
     "execution_count": 10,
     "metadata": {},
     "output_type": "execute_result"
    }
   ],
   "source": [
    "cols1 = [cols[x] for x in [12, 4, 2]] #top columns\n",
    "cols1"
   ]
  },
  {
   "cell_type": "code",
   "execution_count": 11,
   "metadata": {
    "_uuid": "51a07fb71c96c3148eab56233527d0ac70407146"
   },
   "outputs": [],
   "source": [
    "test = pd.read_csv('../input/dftest.csv')"
   ]
  },
  {
   "cell_type": "markdown",
   "metadata": {
    "_uuid": "d91fc0c79fc74d76f6f07c561b26b55a59e3ddf6"
   },
   "source": [
    "df_ = pd.DataFrame(columns=test.columns)\n",
    "df_ = df_.fillna(0)\n",
    "for i in test.columns:\n",
    "    for j in cols1:\n",
    "        if j in i:\n",
    "            df_[i] = test[j]\n",
    "        else:\n",
    "            df_[i]=0\n",
    "df_"
   ]
  },
  {
   "cell_type": "code",
   "execution_count": 12,
   "metadata": {
    "_uuid": "600c92e3415046bc6932633a24b6c29b6138fd4b"
   },
   "outputs": [],
   "source": [
    "column = ['date_block_num']\n",
    "#df_ = df_.drop(column, axis = 1)\n",
    "test = test.drop(column, axis = 1)"
   ]
  },
  {
   "cell_type": "code",
   "execution_count": 13,
   "metadata": {
    "_uuid": "567315cc5251519e6602c4af26273cff02bb58c3"
   },
   "outputs": [],
   "source": [
    "pickle.dump(bstxgb, open(\"xgb.pickle.dat\", \"wb\"))\n",
    "model = pickle.load(open(\"xgb.pickle.dat\", \"rb\"))\n",
    "\n",
    "pred = model.predict(xgb.DMatrix(test.values), ntree_limit=model.best_ntree_limit)\n",
    "testf['item_cnt_month'] = pred.clip(0,20)\n",
    "testf.drop(['shop_id', 'item_id'], axis=1, inplace=True)\n",
    "testf.to_csv('submission.csv', index=False)"
   ]
  },
  {
   "cell_type": "code",
   "execution_count": 14,
   "metadata": {
    "_uuid": "dc95109862cfc11be4627064e791370949ce4698"
   },
   "outputs": [
    {
     "data": {
      "text/html": [
       "<a href='submission.csv' target='_blank'>submission.csv</a><br>"
      ],
      "text/plain": [
       "/kaggle/working/submission.csv"
      ]
     },
     "execution_count": 14,
     "metadata": {},
     "output_type": "execute_result"
    }
   ],
   "source": [
    "FileLink('submission.csv')"
   ]
  },
  {
   "cell_type": "code",
   "execution_count": 15,
   "metadata": {
    "_uuid": "d00aa3003b444c8792f0c4ae8d77501da16c35ac"
   },
   "outputs": [
    {
     "ename": "NameError",
     "evalue": "name 'xgb_model' is not defined",
     "output_type": "error",
     "traceback": [
      "\u001b[0;31m---------------------------------------------------------------------------\u001b[0m",
      "\u001b[0;31mNameError\u001b[0m                                 Traceback (most recent call last)",
      "\u001b[0;32m<ipython-input-15-c23b26d0aa5b>\u001b[0m in \u001b[0;36m<module>\u001b[0;34m()\u001b[0m\n\u001b[1;32m      1\u001b[0m \u001b[0mxgbpredict1\u001b[0m \u001b[0;34m=\u001b[0m \u001b[0mxgb\u001b[0m\u001b[0;34m.\u001b[0m\u001b[0mDMatrix\u001b[0m\u001b[0;34m(\u001b[0m\u001b[0mtest\u001b[0m\u001b[0;34m.\u001b[0m\u001b[0mvalues\u001b[0m\u001b[0;34m)\u001b[0m\u001b[0;34m\u001b[0m\u001b[0m\n\u001b[0;32m----> 2\u001b[0;31m \u001b[0mpred_xgb_test\u001b[0m \u001b[0;34m=\u001b[0m \u001b[0mxgb_model\u001b[0m\u001b[0;34m.\u001b[0m\u001b[0mpredict\u001b[0m\u001b[0;34m(\u001b[0m\u001b[0mxgbpredict1\u001b[0m\u001b[0;34m)\u001b[0m\u001b[0;34m\u001b[0m\u001b[0m\n\u001b[0m",
      "\u001b[0;31mNameError\u001b[0m: name 'xgb_model' is not defined"
     ]
    }
   ],
   "source": [
    "xgbpredict1 = xgb.DMatrix(test.values)\n",
    "pred_xgb_test = xgb_model.predict(xgbpredict1)"
   ]
  },
  {
   "cell_type": "markdown",
   "metadata": {
    "_uuid": "4b74ec8595c91b8f63e716b2a7376135883a7281"
   },
   "source": [
    "**grid search for rf**"
   ]
  },
  {
   "cell_type": "markdown",
   "metadata": {
    "_uuid": "349d0bf409384b178f750c8e081c48540bddcfce"
   },
   "source": [
    "train_ind=np.zeros(X.shape[0])\n",
    "for i in range(0, len(X_train)):\n",
    "    train_ind[i] = -1\n",
    "ps = PredefinedSplit(test_fold=(train_ind))\n",
    "\n",
    "param_grid={'bootstrap':[0.7, 0.8], 'max_features':[4, 6, 8], \n",
    "            'max_depth' : [None, 4, 6, 8, 10, 12]}\n",
    "gs = GridSearchCV(cv = ps, \n",
    "                  estimator = RandomForestRegressor(n_estimators=300, n_jobs=4), \n",
    "                  param_grid=param_grid, scoring='neg_mean_squared_error')"
   ]
  },
  {
   "cell_type": "markdown",
   "metadata": {
    "_uuid": "a47126bd5b947a751bb3fff346a3058d269f3d7b"
   },
   "source": [
    "gs.fit(X, y.clip(0,40))\n",
    "best_rf = gs.best_estimator_\n",
    "best_rf"
   ]
  },
  {
   "cell_type": "markdown",
   "metadata": {
    "_uuid": "baaa47a02d06c55486cf34c9828034204b6cfc41"
   },
   "source": [
    "rf = RandomForestRegressor(bootstrap=0.9, criterion='mse', max_depth=12,\n",
    "           max_features=8, max_leaf_nodes=None, min_impurity_decrease=0.0,\n",
    "           min_impurity_split=None, min_samples_leaf=1,\n",
    "           min_samples_split=2, min_weight_fraction_leaf=0.0,\n",
    "           n_estimators=100, n_jobs=4, oob_score=False, random_state=None,\n",
    "           verbose=0, warm_start=False)\n",
    "bst = rf.fit(X, y.ravel())"
   ]
  },
  {
   "cell_type": "markdown",
   "metadata": {
    "_uuid": "62fc0c34515af199069474736ab7590c1b808101"
   },
   "source": [
    "We now predict the validation parts of the data and use it and ycv to train the meta model"
   ]
  },
  {
   "cell_type": "markdown",
   "metadata": {
    "_uuid": "f1b40154d91724800747ce75adc96b5bb72442f1"
   },
   "source": [
    "lgb_pkl_filename = 'lgb_20190213.pkl'\n",
    "lgb_model_pkl = open(lgb_pkl_filename, 'wb')\n",
    "pickle.dump(best_lgb, lgb_model_pkl)\n",
    "lgb_model_pkl.close()\n",
    "#xgb_pkl_filename = 'xgb_20190213.pkl'\n",
    "#xgb_model_pkl = open(xgb_pkl_filename, 'wb')\n",
    "#pickle.dump(bstxgb, xgb_model_pkl)\n",
    "#xgb_model_pkl.close()\n",
    "rf_pkl_filename = 'rf_20190213.pkl'\n",
    "rf_model_pkl = open(rf_pkl_filename, 'wb')\n",
    "pickle.dump(bst, rf_model_pkl)\n",
    "rf_model_pkl.close()"
   ]
  },
  {
   "cell_type": "markdown",
   "metadata": {
    "_uuid": "1ffb8f2654a788600e22c3bad59bcc835ab90c2b"
   },
   "source": [
    "we generate the meta parameters in the validation set"
   ]
  },
  {
   "cell_type": "markdown",
   "metadata": {
    "_uuid": "7b26314b103d31b25c5cee08e9dcdef042b50c08"
   },
   "source": [
    "lgb_model_pkl = open(lgb_pkl_filename, 'rb')\n",
    "lgb_model = pickle.load(lgb_model_pkl)\n",
    "#xgb_model_pkl = open(xgb_pkl_filename, 'rb')\n",
    "#xgb_model = pickle.load(xgb_model_pkl)\n",
    "rf_model_pkl = open(rf_pkl_filename, 'rb')\n",
    "rf_model = pickle.load(rf_model_pkl)"
   ]
  },
  {
   "cell_type": "markdown",
   "metadata": {
    "_uuid": "ecd4f1c7219b204aa9457b0e147db386a6c7af31"
   },
   "source": [
    "pred_lgb = lgb_model.predict(X_cv)\n",
    "#xgbpredict = xgb.DMatrix(X_cv)\n",
    "#pred_xgb = xgb_model.predict(xgbpredict)\n",
    "pred_rf  = rf_model.predict(X_cv)\n",
    "pred_lgb = pred_lgb.clip(0,20)\n",
    "#pred_xgb = pred_xgb.clip(0,20)\n",
    "pred_rf  = pred_rf.clip(0,20)"
   ]
  },
  {
   "cell_type": "markdown",
   "metadata": {
    "_uuid": "af1e9975909fe89cc721a8f81a438e42773bffed"
   },
   "source": [
    "Use a metamodel to train over the generated meta parameters"
   ]
  },
  {
   "cell_type": "markdown",
   "metadata": {
    "_uuid": "c2011eca183ce92ed5ed2a13424eeac09e0be96a"
   },
   "source": [
    "#Xmeta = np.c_[pred_lgb, pred_xgb, pred_rf]\n",
    "Xmeta = np.c_[pred_lgb, pred_rf]\n",
    "Ymeta = Y_cv\n",
    "from sklearn.linear_model import Ridge\n",
    "rr = Ridge(alpha=0.1) # higher the alpha value, more restriction on the coefficients; low alpha > more generalization, coefficients are barely\n",
    "\n",
    "rr.fit(Xmeta, Ymeta)\n",
    "rr.score(Xmeta,Ymeta)"
   ]
  },
  {
   "cell_type": "markdown",
   "metadata": {
    "_uuid": "3b3ddc86570165510a0e68dc5b968c2a4425c002"
   },
   "source": [
    "pred_lgb_test = lgb_model.predict(test.values)\n",
    "#xgbpredict1 = xgb.DMatrix(test.values)\n",
    "#pred_xgb_test = xgb_model.predict(xgbpredict1)\n",
    "pred_rf_test  = rf_model.predict(test.values)\n",
    "pred_lgb_test1 = pred_lgb_test.clip(0,20)\n",
    "#pred_xgb_test1 = pred_xgb_test.clip(0,20)\n",
    "pred_rf_test1  = pred_rf_test.clip(0,20)"
   ]
  },
  {
   "cell_type": "markdown",
   "metadata": {
    "_uuid": "db4a3dc1d0f4c66ce63ce81cabe1eee5edeca975"
   },
   "source": [
    "#test_meta = np.c_[pred_lgb_test1,pred_xgb_test1,pred_rf_test1]\n",
    "test_meta = np.c_[pred_lgb_test1,pred_rf_test1]"
   ]
  },
  {
   "cell_type": "markdown",
   "metadata": {
    "_uuid": "f6af0667195b1036b8c39c22eec7c1a8f394ab13"
   },
   "source": [
    "pred_meta = rr.predict(test_meta)"
   ]
  },
  {
   "cell_type": "markdown",
   "metadata": {
    "_uuid": "855697158fbd60f51e3e078da624c9ba103edc40"
   },
   "source": [
    "pred_meta.clip(0,20)"
   ]
  },
  {
   "cell_type": "markdown",
   "metadata": {
    "_uuid": "976a9163e6d301d93b64c5df9a6214e9f4ac2ba5"
   },
   "source": [
    "ans_df = pd.DataFrame({'ID':test.index,'item_cnt_month': pred_meta.ravel() })"
   ]
  },
  {
   "cell_type": "markdown",
   "metadata": {
    "_uuid": "7d665f393b222cf5de554b2673fedc52bf66cf69"
   },
   "source": [
    "ans_df.to_csv('submission.csv',index=False)\n",
    "FileLink('submission.csv')"
   ]
  },
  {
   "cell_type": "code",
   "execution_count": 16,
   "metadata": {
    "_uuid": "fdc34c06933326be62ace1fe4617d7c1b0b1cc40"
   },
   "outputs": [],
   "source": []
  }
 ],
 "metadata": {
  "kernelspec": {
   "display_name": "Python 3",
   "language": "python",
   "name": "python3"
  },
  "language_info": {
   "codemirror_mode": {
    "name": "ipython",
    "version": 3
   },
   "file_extension": ".py",
   "mimetype": "text/x-python",
   "name": "python",
   "nbconvert_exporter": "python",
   "pygments_lexer": "ipython3",
   "version": "3.6.6"
  }
 },
 "nbformat": 4,
 "nbformat_minor": 1
}
