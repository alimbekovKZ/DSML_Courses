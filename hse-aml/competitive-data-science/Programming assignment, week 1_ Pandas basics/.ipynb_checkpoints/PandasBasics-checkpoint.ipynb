{
 "cells": [
  {
   "cell_type": "markdown",
   "metadata": {},
   "source": [
    "Version 1.0.1"
   ]
  },
  {
   "cell_type": "markdown",
   "metadata": {},
   "source": [
    "# Pandas basics "
   ]
  },
  {
   "cell_type": "markdown",
   "metadata": {},
   "source": [
    "Hi! In this programming assignment you need to refresh your `pandas` knowledge. You will need to do several [`groupby`](https://pandas.pydata.org/pandas-docs/stable/generated/pandas.DataFrame.groupby.html)s and [`join`]()`s to solve the task. "
   ]
  },
  {
   "cell_type": "code",
   "execution_count": 14,
   "metadata": {
    "collapsed": true
   },
   "outputs": [],
   "source": [
    "import pandas as pd\n",
    "import numpy as np\n",
    "import os\n",
    "import re\n",
    "import matplotlib.pyplot as plt\n",
    "%matplotlib inline \n",
    "\n",
    "from grader import Grader"
   ]
  },
  {
   "cell_type": "code",
   "execution_count": 10,
   "metadata": {},
   "outputs": [],
   "source": [
    "DATA_FOLDER = '../readonly/final_project_data/'\n",
    "\n",
    "transactions    = pd.read_csv(os.path.join(DATA_FOLDER, 'sales_train.csv.gz'))\n",
    "items           = pd.read_csv(os.path.join(DATA_FOLDER, 'items.csv'))\n",
    "item_categories = pd.read_csv(os.path.join(DATA_FOLDER, 'item_categories.csv'))\n",
    "shops           = pd.read_csv(os.path.join(DATA_FOLDER, 'shops.csv'))"
   ]
  },
  {
   "cell_type": "markdown",
   "metadata": {},
   "source": [
    "The dataset we are going to use is taken from the competition, that serves as the final project for this course. You can find complete data description at the [competition web page](https://www.kaggle.com/c/competitive-data-science-final-project/data). To join the competition use [this link](https://www.kaggle.com/t/1ea93815dca248e99221df42ebde3540)."
   ]
  },
  {
   "cell_type": "markdown",
   "metadata": {},
   "source": [
    "## Grading"
   ]
  },
  {
   "cell_type": "markdown",
   "metadata": {},
   "source": [
    "We will create a grader instace below and use it to collect your answers. When function `submit_tag` is called, grader will store your answer *locally*. The answers will *not* be submited to the platform immediately so you can call `submit_tag` function as many times as you need. \n",
    "\n",
    "When you are ready to push your answers to the platform you should fill your credentials and run `submit` function in the <a href=\"#Authorization-&-Submission\">last paragraph</a>  of the assignment."
   ]
  },
  {
   "cell_type": "code",
   "execution_count": 11,
   "metadata": {
    "collapsed": true
   },
   "outputs": [],
   "source": [
    "grader = Grader()"
   ]
  },
  {
   "cell_type": "markdown",
   "metadata": {},
   "source": [
    "# Task"
   ]
  },
  {
   "cell_type": "markdown",
   "metadata": {},
   "source": [
    "Let's start with a simple task. \n",
    "\n",
    "<ol start=\"0\">\n",
    "  <li><b>Print the shape of the loaded dataframes and use [`df.head`](https://pandas.pydata.org/pandas-docs/stable/generated/pandas.DataFrame.head.html) function to print several rows. Examine the features you are given.</b></li>\n",
    "</ol>"
   ]
  },
  {
   "cell_type": "code",
   "execution_count": 12,
   "metadata": {},
   "outputs": [
    {
     "name": "stdout",
     "output_type": "stream",
     "text": [
      "(2935849, 6)\n",
      "         date  date_block_num  shop_id  item_id  item_price  item_cnt_day\n",
      "0  02.01.2013               0       59    22154      999.00           1.0\n",
      "1  03.01.2013               0       25     2552      899.00           1.0\n",
      "2  05.01.2013               0       25     2552      899.00          -1.0\n",
      "3  06.01.2013               0       25     2554     1709.05           1.0\n",
      "4  15.01.2013               0       25     2555     1099.00           1.0\n",
      "(22170, 3)\n",
      "                                           item_name  item_id  \\\n",
      "0          ! ВО ВЛАСТИ НАВАЖДЕНИЯ (ПЛАСТ.)         D        0   \n",
      "1  !ABBYY FineReader 12 Professional Edition Full...        1   \n",
      "2      ***В ЛУЧАХ СЛАВЫ   (UNV)                    D        2   \n",
      "3    ***ГОЛУБАЯ ВОЛНА  (Univ)                      D        3   \n",
      "4        ***КОРОБКА (СТЕКЛО)                       D        4   \n",
      "\n",
      "   item_category_id  \n",
      "0                40  \n",
      "1                76  \n",
      "2                40  \n",
      "3                40  \n",
      "4                40  \n",
      "(84, 2)\n",
      "        item_category_name  item_category_id\n",
      "0  PC - Гарнитуры/Наушники                 0\n",
      "1         Аксессуары - PS2                 1\n",
      "2         Аксессуары - PS3                 2\n",
      "3         Аксессуары - PS4                 3\n",
      "4         Аксессуары - PSP                 4\n",
      "(60, 2)\n",
      "                        shop_name  shop_id\n",
      "0   !Якутск Орджоникидзе, 56 фран        0\n",
      "1   !Якутск ТЦ \"Центральный\" фран        1\n",
      "2                Адыгея ТЦ \"Мега\"        2\n",
      "3  Балашиха ТРК \"Октябрь-Киномир\"        3\n",
      "4        Волжский ТЦ \"Волга Молл\"        4\n"
     ]
    }
   ],
   "source": [
    "print(transactions.shape)\n",
    "print(transactions.head())\n",
    "print(items.shape)\n",
    "print(items.head())\n",
    "print(item_categories.shape)\n",
    "print(item_categories.head())\n",
    "print(shops.shape)\n",
    "print(shops.head())"
   ]
  },
  {
   "cell_type": "markdown",
   "metadata": {},
   "source": [
    "Now use your `pandas` skills to get answers for the following questions. \n",
    "The first question is:\n",
    "\n",
    "1. ** What was the maximum total revenue among all the shops in September, 2014?** \n",
    "\n",
    "\n",
    "* Hereinafter *revenue* refers to total sales minus value of goods returned.\n",
    "\n",
    "*Hints:*\n",
    "\n",
    "* Sometimes items are returned, find such examples in the dataset. \n",
    "* It is handy to split `date` field into [`day`, `month`, `year`] components and use `df.year == 14` and `df.month == 9` in order to select target subset of dates.\n",
    "* You may work with `date` feature as with srings, or you may first convert it to `pd.datetime` type with `pd.to_datetime` function, but do not forget to set correct `format` argument."
   ]
  },
  {
   "cell_type": "code",
   "execution_count": 16,
   "metadata": {},
   "outputs": [
    {
     "name": "stdout",
     "output_type": "stream",
     "text": [
      "          date  date_block_num  shop_id  item_id  item_price  item_cnt_day\n",
      "0   2013-01-02               0       59    22154      999.00           1.0\n",
      "1   2013-01-03               0       25     2552      899.00           1.0\n",
      "2   2013-01-05               0       25     2552      899.00          -1.0\n",
      "3   2013-01-06               0       25     2554     1709.05           1.0\n",
      "4   2013-01-15               0       25     2555     1099.00           1.0\n",
      "5   2013-01-10               0       25     2564      349.00           1.0\n",
      "6   2013-01-02               0       25     2565      549.00           1.0\n",
      "7   2013-01-04               0       25     2572      239.00           1.0\n",
      "8   2013-01-11               0       25     2572      299.00           1.0\n",
      "9   2013-01-03               0       25     2573      299.00           3.0\n",
      "10  2013-01-03               0       25     2574      399.00           2.0\n",
      "11  2013-01-05               0       25     2574      399.00           1.0\n",
      "12  2013-01-07               0       25     2574      399.00           1.0\n",
      "13  2013-01-08               0       25     2574      399.00           2.0\n",
      "14  2013-01-10               0       25     2574      399.00           1.0\n",
      "15  2013-01-11               0       25     2574      399.00           2.0\n",
      "16  2013-01-13               0       25     2574      399.00           1.0\n",
      "17  2013-01-16               0       25     2574      399.00           1.0\n",
      "18  2013-01-26               0       25     2574      399.00           1.0\n",
      "19  2013-01-27               0       25     2574      399.00           1.0\n",
      "20  2013-01-09               0       25     2593      279.00           1.0\n",
      "21  2013-01-16               0       25     2604      299.00           1.0\n",
      "22  2013-01-27               0       25     2604      299.00           1.0\n",
      "23  2013-01-27               0       25     2607      279.00           1.0\n",
      "24  2013-01-29               0       25     2607      279.00           1.0\n",
      "25  2013-01-27               0       25     2609     1699.00           1.0\n",
      "26  2013-01-06               0       25     2548     1708.95           1.0\n",
      "27  2013-01-26               0       25     2611      299.00           1.0\n",
      "28  2013-01-02               0       25     2546      299.00           1.0\n",
      "29  2013-01-06               0       25     2515     1649.00           1.0\n",
      "..         ...             ...      ...      ...         ...           ...\n",
      "120 2013-01-20               0       25     2090      449.00           1.0\n",
      "121 2013-01-11               0       25     2092      599.00           1.0\n",
      "122 2013-01-08               0       25     2100      299.00           1.0\n",
      "123 2013-01-16               0       25     2102      349.00           1.0\n",
      "124 2013-01-17               0       25     2103      449.00           1.0\n",
      "125 2013-01-05               0       25     2106      549.00           1.0\n",
      "126 2013-01-30               0       25     2108      199.00           1.0\n",
      "127 2013-01-30               0       25     2111      199.00           1.0\n",
      "128 2013-01-05               0       25     2117      279.00           1.0\n",
      "129 2013-01-05               0       25     2121      399.00           1.0\n",
      "130 2013-01-16               0       25     2122      899.00           1.0\n",
      "131 2013-01-05               0       25     2123      299.00           1.0\n",
      "132 2013-01-08               0       25     2149      449.00           1.0\n",
      "133 2013-01-17               0       25     2151     1099.00           1.0\n",
      "134 2013-01-27               0       25     2160      949.00           1.0\n",
      "135 2013-01-08               0       25     2164      899.00           1.0\n",
      "136 2013-01-02               0       25     2389      999.00           1.0\n",
      "137 2013-01-18               0       25     2389      999.00           1.0\n",
      "138 2013-01-03               0       25     2179      299.00           1.0\n",
      "139 2013-01-06               0       25     2179      299.00           1.0\n",
      "140 2013-01-18               0       25     2179      299.00           1.0\n",
      "141 2013-01-20               0       25     2179      299.00           1.0\n",
      "142 2013-01-13               0       25     2186     1499.00           1.0\n",
      "143 2013-01-03               0       25     2340      899.00           1.0\n",
      "144 2013-01-10               0       25     2189      299.00           1.0\n",
      "145 2013-01-27               0       25     2281      499.50           1.0\n",
      "146 2013-01-18               0       25     2281      499.50           1.0\n",
      "147 2013-01-20               0       25     2321      999.00           1.0\n",
      "148 2013-01-23               0       25     2321      999.00          -1.0\n",
      "149 2013-01-31               0       25     2321      999.00           1.0\n",
      "\n",
      "[150 rows x 6 columns]\n"
     ]
    }
   ],
   "source": [
    "transactions['date']= pd.to_datetime(transactions['date'], format='%d.%m.%Y')\n",
    "print(transactions.head(150))"
   ]
  },
  {
   "cell_type": "code",
   "execution_count": 17,
   "metadata": {},
   "outputs": [
    {
     "name": "stdout",
     "output_type": "stream",
     "text": [
      "Current answer for task max_revenue is: 7982852.2\n"
     ]
    }
   ],
   "source": [
    "# YOUR CODE GOES HERE\n",
    "transactions['date']= pd.to_datetime(transactions['date'], format='%d.%m.%Y')\n",
    "transactions['revenue'] = transactions['item_price'] * transactions['item_cnt_day']\n",
    "transactions_result = transactions.loc[(transactions['date'].dt.year == 2014) & (transactions['date'].dt.month == 9 )]\n",
    "\n",
    "max_revenue = transactions_result.groupby('shop_id')['revenue'].sum().max()\n",
    "grader.submit_tag('max_revenue', max_revenue)"
   ]
  },
  {
   "cell_type": "markdown",
   "metadata": {},
   "source": [
    "Great! Let's move on and answer another question:\n",
    "\n",
    "<ol start=\"2\">\n",
    "  <li><b>What item category generated the highest revenue in summer 2014?</b></li>\n",
    "</ol>\n",
    "\n",
    "* Submit `id` of the category found.\n",
    "    \n",
    "* Here we call \"summer\" the period from June to August.\n",
    "\n",
    "*Hints:*\n",
    "\n",
    "* Note, that for an object `x` of type `pd.Series`: `x.argmax()` returns **index** of the maximum element. `pd.Series` can have non-trivial index (not `[1, 2, 3, ... ]`)."
   ]
  },
  {
   "cell_type": "code",
   "execution_count": 18,
   "metadata": {},
   "outputs": [
    {
     "name": "stdout",
     "output_type": "stream",
     "text": [
      "Current answer for task category_id_with_max_revenue is: 20\n"
     ]
    }
   ],
   "source": [
    "# YOUR CODE GOES HERE\n",
    "transactions['date']= pd.to_datetime(transactions['date'], format='%d.%m.%Y')\n",
    "transactions['revenue'] = transactions['item_price'] * transactions['item_cnt_day']\n",
    "transactions_r = transactions.loc[(transactions['date'].dt.year == 2014) & (transactions['date'].dt.month >= 6 ) & (transactions['date'].dt.month <= 8 )]\n",
    "\n",
    "transaction_join = pd.merge(transactions_r, items, how='left', on='item_id')\n",
    "transaction_join = transaction_join.groupby('item_category_id')['revenue'].sum().reset_index(name ='total_revenue')\n",
    "\n",
    "item_id = transaction_join['item_category_id'].iloc[transaction_join['total_revenue'].argmax()]\n",
    "\n",
    "\n",
    "category_id_with_max_revenue = item_id\n",
    "grader.submit_tag('category_id_with_max_revenue', category_id_with_max_revenue)"
   ]
  },
  {
   "cell_type": "markdown",
   "metadata": {},
   "source": [
    "<ol start=\"3\">\n",
    "  <li><b>How many items are there, such that their price stays constant (to the best of our knowledge) during the whole period of time?</b></li>\n",
    "</ol>\n",
    "\n",
    "* Let's assume, that the items are returned for the same price as they had been sold."
   ]
  },
  {
   "cell_type": "code",
   "execution_count": 19,
   "metadata": {},
   "outputs": [
    {
     "name": "stdout",
     "output_type": "stream",
     "text": [
      "Current answer for task num_items_constant_price is: 5926\n"
     ]
    }
   ],
   "source": [
    "# YOUR CODE GOES HERE\n",
    "a = transactions.groupby('item_id')['item_price'].nunique()\n",
    "num_items_constant_price = ((a == 1).sum())\n",
    "grader.submit_tag('num_items_constant_price', num_items_constant_price)"
   ]
  },
  {
   "cell_type": "markdown",
   "metadata": {},
   "source": [
    "Remember, the data can sometimes be noisy."
   ]
  },
  {
   "cell_type": "markdown",
   "metadata": {},
   "source": [
    "<ol start=\"4\">\n",
    "  <li><b>What was the variance of the number of sold items per day sequence for the shop with `shop_id = 25` in December, 2014?</b></li>\n",
    "</ol>\n",
    "\n",
    "* Fill `total_num_items_sold` and `days` arrays, and plot the sequence with the code below.\n",
    "* Then compute variance. Remember, there can be differences in how you normalize variance (biased or unbiased estimate, see [link](https://math.stackexchange.com/questions/496627/the-difference-between-unbiased-biased-estimator-variance)). Compute ***unbiased*** estimate (use the right value for `ddof` argument in `pd.var` or `np.var`)."
   ]
  },
  {
   "cell_type": "code",
   "execution_count": 20,
   "metadata": {},
   "outputs": [
    {
     "data": {
      "image/png": "[encoded data removed]",
      "text/plain": [
       "<matplotlib.figure.Figure at 0x2bfc9138e48>"
      ]
     },
     "metadata": {
      "needs_background": "light"
     },
     "output_type": "display_data"
    },
    {
     "name": "stdout",
     "output_type": "stream",
     "text": [
      "Current answer for task total_num_items_sold_var is: 117167.70229885059\n"
     ]
    }
   ],
   "source": [
    "shop_id = 25\n",
    "transactions_r = transactions.loc[(transactions['date'].dt.year == 2014) & (transactions['date'].dt.month == 12 )  & (transactions['shop_id'] == 25)]\n",
    "transactions_r = transactions_r.groupby('date')['item_cnt_day'].sum().reset_index(name ='total_count')\n",
    "\n",
    "\n",
    "total_num_items_sold = transactions_r['total_count']\n",
    "days = transactions_r['date']\n",
    "\n",
    "# Plot it\n",
    "plt.plot(days, total_num_items_sold)\n",
    "plt.ylabel('Num items')\n",
    "plt.xlabel('Day')\n",
    "plt.title(\"Daily revenue for shop_id = 25\")\n",
    "plt.show()\n",
    "\n",
    "total_num_items_sold_var = np.var(total_num_items_sold, ddof=1)\n",
    "grader.submit_tag('total_num_items_sold_var', total_num_items_sold_var)"
   ]
  },
  {
   "cell_type": "markdown",
   "metadata": {},
   "source": [
    "## Authorization & Submission\n",
    "To submit assignment to Cousera platform, please, enter your e-mail and token into the variables below. You can generate token on the programming assignment page. *Note:* Token expires 30 minutes after generation."
   ]
  },
  {
   "cell_type": "code",
   "execution_count": 21,
   "metadata": {},
   "outputs": [
    {
     "name": "stdout",
     "output_type": "stream",
     "text": [
      "You want to submit these numbers:\n",
      "Task max_revenue: 7982852.2\n",
      "Task category_id_with_max_revenue: 20\n",
      "Task num_items_constant_price: 5926\n",
      "Task total_num_items_sold_var: 117167.70229885059\n"
     ]
    }
   ],
   "source": [
    "STUDENT_EMAIL = 'arwebman86@gmail.com'\n",
    "STUDENT_TOKEN = 'E0yx6KALhQZphoCd'\n",
    "grader.status()"
   ]
  },
  {
   "cell_type": "code",
   "execution_count": 22,
   "metadata": {},
   "outputs": [
    {
     "name": "stdout",
     "output_type": "stream",
     "text": [
      "Submitted to Coursera platform. See results on assignment page!\n"
     ]
    }
   ],
   "source": [
    "grader.submit(STUDENT_EMAIL, STUDENT_TOKEN)"
   ]
  },
  {
   "cell_type": "markdown",
   "metadata": {},
   "source": [
    "Well done! :)"
   ]
  }
 ],
 "metadata": {
  "hw_version": "1.0.0",
  "kernelspec": {
   "display_name": "Python 3",
   "language": "python",
   "name": "python3"
  },
  "language_info": {
   "codemirror_mode": {
    "name": "ipython",
    "version": 3
   },
   "file_extension": ".py",
   "mimetype": "text/x-python",
   "name": "python",
   "nbconvert_exporter": "python",
   "pygments_lexer": "ipython3",
   "version": "3.6.2"
  }
 },
 "nbformat": 4,
 "nbformat_minor": 2
}
