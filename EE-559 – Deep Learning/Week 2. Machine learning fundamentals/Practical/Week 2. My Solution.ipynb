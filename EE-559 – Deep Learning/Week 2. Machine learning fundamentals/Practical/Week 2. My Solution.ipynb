{
 "cells": [
  {
   "cell_type": "markdown",
   "metadata": {},
   "source": [
    "# EE-559: Practical Session 2"
   ]
  },
  {
   "cell_type": "markdown",
   "metadata": {},
   "source": [
    "## Introduction"
   ]
  },
  {
   "cell_type": "markdown",
   "metadata": {},
   "source": [
    "The objective of this session is to continue practicing with tensors, deal with a real data-set, and get a\n",
    "feeling of how good/bad are the k-nearest neighbor rule and the PCA dimension reduction on MNIST\n",
    "and CIFAR10."
   ]
  },
  {
   "cell_type": "code",
   "execution_count": 13,
   "metadata": {},
   "outputs": [],
   "source": [
    "import torch\n",
    "from torch import Tensor\n",
    "import dlc_practical_prologue as prologue\n",
    "import matplotlib.pyplot as plt"
   ]
  },
  {
   "cell_type": "markdown",
   "metadata": {},
   "source": [
    "## Nearest neighbor"
   ]
  },
  {
   "cell_type": "markdown",
   "metadata": {},
   "source": [
    "Write a function that gets a training set and a test sample and returns the label of the training point\n",
    "the closest to the latter.\n",
    "\n",
    "More precisely, write:\n",
    "\n",
    "def nearest_classification(train_input, train_target, x):\n",
    "\n",
    "where\n",
    "1. train_input is a 2d float tensor of dimension n * d containing the training vectors,\n",
    "1. train_target is a 1d long tensor of dimension n containing the training labels,\n",
    "1. x is 1d float tensor of dimension d containing the test vector,\n",
    "\n",
    "and the returned value is the class of the train sample closest to x for the L^2 norm.\n",
    "\n",
    "**Hint**: The function should have no python loop, and may use in particular torch.mean , torch.view ,\n",
    "torch.pow , torch.sum , and torch.sort or torch.min."
   ]
  },
  {
   "cell_type": "code",
   "execution_count": 11,
   "metadata": {},
   "outputs": [
    {
     "name": "stdout",
     "output_type": "stream",
     "text": [
      "* Using MNIST\n",
      "Downloading http://yann.lecun.com/exdb/mnist/train-images-idx3-ubyte.gz\n",
      "Downloading http://yann.lecun.com/exdb/mnist/train-labels-idx1-ubyte.gz\n",
      "Downloading http://yann.lecun.com/exdb/mnist/t10k-images-idx3-ubyte.gz\n",
      "Downloading http://yann.lecun.com/exdb/mnist/t10k-labels-idx1-ubyte.gz\n",
      "Processing...\n",
      "Done!\n",
      "** Reduce the data-set (use --full for the full thing)\n",
      "** Use 1000 train and 1000 test samples\n",
      "train_input torch.Size([1000, 784]) train_target torch.Size([1000])\n",
      "test_input torch.Size([1000, 784]) test_target torch.Size([1000])\n"
     ]
    }
   ],
   "source": [
    "train_input, train_target, test_input, test_target = prologue.load_data()\n",
    "\n",
    "print('train_input', train_input.size(), 'train_target', train_target.size())\n",
    "print('test_input', test_input.size(), 'test_target', test_target.size())"
   ]
  },
  {
   "cell_type": "code",
   "execution_count": 15,
   "metadata": {
    "collapsed": true
   },
   "outputs": [],
   "source": [
    "test_tensor = test_input[0]\n",
    "test_label = test_target[0]"
   ]
  },
  {
   "cell_type": "code",
   "execution_count": 18,
   "metadata": {},
   "outputs": [
    {
     "data": {
      "image/png": "[encoded data removed]",
      "text/plain": [
       "<matplotlib.figure.Figure at 0x1db826fcf98>"
      ]
     },
     "metadata": {},
     "output_type": "display_data"
    }
   ],
   "source": [
    "plt.imshow(test_tensor.numpy().reshape(28,28))\n",
    "plt.show()"
   ]
  },
  {
   "cell_type": "code",
   "execution_count": 31,
   "metadata": {
    "collapsed": true
   },
   "outputs": [],
   "source": [
    "def nearest_classification(train_input, train_target, x):\n",
    "    value, index = torch.min(torch.mean(torch.pow((x - train_input), 2), 1), 0)\n",
    "   \n",
    "    return train_target[index].data.tolist()"
   ]
  },
  {
   "cell_type": "code",
   "execution_count": 32,
   "metadata": {
    "collapsed": true
   },
   "outputs": [],
   "source": [
    "val= nearest_classification(train_input, train_target, test_tensor)"
   ]
  },
  {
   "cell_type": "markdown",
   "metadata": {},
   "source": [
    "## Error estimation"
   ]
  },
  {
   "cell_type": "markdown",
   "metadata": {},
   "source": [
    "Write a function\n",
    "\n",
    "def compute_nb_errors(train_input, train_target, test_input, test_target, mean = None, proj = None):\n",
    "\n",
    "where\n",
    "1. train_input is a 2d float tensor of dimension n × d containing the train vectors,\n",
    "1. train_target is a 1d long tensor of dimension n containing the train labels,\n",
    "1. test_input is a 2d float tensor of dimension m × d containing the test vectors,\n",
    "1. test_target is a 1d long tensor of dimension m containing the test labels,\n",
    "1. mean is either None or a 1d float tensor of dimension d,\n",
    "1. proj is either None or a 2d float tensor of dimension c × d ,\n",
    "\n",
    "that subtracts mean (if it is not None) from the vectors of both train_input and test_input, apply the operator proj (if it is notNone) to both, and returns the number of classification errors using the 1-nearest-neighbor rule on the resulting data.\n",
    "\n",
    "**Hint**: Use in particular torch.mm ."
   ]
  },
  {
   "cell_type": "code",
   "execution_count": 55,
   "metadata": {
    "collapsed": true
   },
   "outputs": [],
   "source": [
    "def compute_nb_errors(train_input, train_target, test_input, test_target, mean = None, \n",
    "                      proj = None):\n",
    "    \n",
    "    if mean is not None:\n",
    "        train_input = train_input - mean\n",
    "        test_input = test_input - mean\n",
    "    if proj is not None:\n",
    "        train_input = train_input.mm(torch.transpose(proj, 0, 1))\n",
    "        test_input = test_input.mm(torch.transpose(proj, 0, 1))\n",
    "    \n",
    "    nb_errors = 0\n",
    "    \n",
    "    for i in range(test_input.shape[0]):\n",
    "        if test_target[i].tolist() != nearest_classification(train_input, \n",
    "                                                             train_target, test_input[i]):\n",
    "            nb_errors += 1\n",
    "    \n",
    "    print(nb_errors)\n",
    "    \n",
    "    return nb_errors"
   ]
  },
  {
   "cell_type": "code",
   "execution_count": 36,
   "metadata": {},
   "outputs": [
    {
     "name": "stdout",
     "output_type": "stream",
     "text": [
      "172\n"
     ]
    }
   ],
   "source": [
    "errors = compute_nb_errors(train_input, train_target, test_input, test_target)"
   ]
  },
  {
   "cell_type": "markdown",
   "metadata": {},
   "source": [
    "## PCA"
   ]
  },
  {
   "cell_type": "markdown",
   "metadata": {},
   "source": [
    "Write a function\n",
    "\n",
    "def PCA(x):\n",
    "\n",
    "where x is a 2d float tensor of dimension n × d , which returns a pair composed of the 1d\n",
    "mean vector of dimension d and the PCA basis, ranked in decreasing order of the eigen-\n",
    "values, as a 2d tensor of dimension d × d.\n",
    "\n",
    "**Hint**: The function should have no python loop, and use in particular torch.eig , and torch.sort. \n"
   ]
  },
  {
   "cell_type": "code",
   "execution_count": 37,
   "metadata": {
    "collapsed": true
   },
   "outputs": [],
   "source": [
    "def PCA(x):\n",
    "    mean = x.mean(0)\n",
    "    b = x - mean\n",
    "    Sigma = b.t().mm(b)\n",
    "    eigen_values, eigen_vectors = Sigma.eig(True)\n",
    "    right_order = eigen_values[:,0].abs().sort(0, True)[1]\n",
    "    eigen_vectors = eigen_vectors.t()[right_order]\n",
    "    \n",
    "    return mean, eigen_vectors"
   ]
  },
  {
   "cell_type": "markdown",
   "metadata": {},
   "source": [
    "## Check that all this makes sense"
   ]
  },
  {
   "cell_type": "markdown",
   "metadata": {},
   "source": [
    "Compare the performance of the 1-nearest neighbor rule on data projected either a 100d random subspace (i.e. using a basis generated with a normal) and using the PCA basis for\n",
    "different dimensions (e.g. 3, 10, 50, 100).\n",
    "\n",
    "Compare also the performance between MNIST and CIFAR. Does all this make sense?"
   ]
  },
  {
   "cell_type": "code",
   "execution_count": 51,
   "metadata": {},
   "outputs": [
    {
     "name": "stdout",
     "output_type": "stream",
     "text": [
      "172\n",
      "Baseline nb_errors 172 error 17.20%\n"
     ]
    }
   ],
   "source": [
    "nb_errors = compute_nb_errors(train_input, train_target, test_input, test_target)\n",
    "print('Baseline nb_errors {:d} error {:.02f}%'.format(nb_errors, 100 * nb_errors / test_input.size(0)))"
   ]
  },
  {
   "cell_type": "code",
   "execution_count": 52,
   "metadata": {
    "collapsed": true
   },
   "outputs": [],
   "source": [
    "basis = train_input.new(100, train_input.size(1)).normal_()"
   ]
  },
  {
   "cell_type": "code",
   "execution_count": 54,
   "metadata": {},
   "outputs": [
    {
     "data": {
      "text/plain": [
       "tensor([[ 0.0934, -1.0244,  0.6601,  ...,  0.3504, -0.4037,  2.5439],\n",
       "        [-0.5280,  0.6436,  0.2753,  ...,  0.1433,  0.9295,  0.0826],\n",
       "        [-0.3237, -0.5254, -1.5891,  ..., -0.8893,  0.3388,  0.6074],\n",
       "        ...,\n",
       "        [ 0.9291, -0.1619,  0.3813,  ...,  0.6565, -0.7872, -0.0464],\n",
       "        [-1.1122,  0.1138, -0.1410,  ...,  0.3476,  1.4485, -2.5771],\n",
       "        [-1.2628,  2.5255, -1.8213,  ..., -0.2675, -0.7211, -2.6470]])"
      ]
     },
     "execution_count": 54,
     "metadata": {},
     "output_type": "execute_result"
    }
   ],
   "source": [
    "basis"
   ]
  },
  {
   "cell_type": "code",
   "execution_count": 56,
   "metadata": {},
   "outputs": [
    {
     "name": "stdout",
     "output_type": "stream",
     "text": [
      "198\n",
      "Random 100d nb_errors 198 error 19.80%\n"
     ]
    }
   ],
   "source": [
    "nb_errors = compute_nb_errors(train_input, train_target, test_input, test_target, None, basis)\n",
    "print('Random {:d}d nb_errors {:d} error {:.02f}%'.format(basis.size(0), nb_errors, 100 * nb_errors / test_input.size(0)))"
   ]
  },
  {
   "cell_type": "code",
   "execution_count": 57,
   "metadata": {
    "collapsed": true
   },
   "outputs": [],
   "source": [
    "mean, basis = PCA(train_input)"
   ]
  },
  {
   "cell_type": "code",
   "execution_count": 59,
   "metadata": {},
   "outputs": [
    {
     "name": "stdout",
     "output_type": "stream",
     "text": [
      "164\n",
      "PCA 100d nb_errors 164 error 16.40%\n",
      "155\n",
      "PCA 50d nb_errors 155 error 15.50%\n",
      "214\n",
      "PCA 10d nb_errors 214 error 21.40%\n",
      "597\n",
      "PCA 3d nb_errors 597 error 59.70%\n"
     ]
    }
   ],
   "source": [
    "for d in [ 100, 50, 10, 3 ]:\n",
    "        basis = basis.narrow(0, 0, d)\n",
    "        nb_errors = compute_nb_errors(train_input, train_target, test_input, test_target, mean, basis)\n",
    "        print('PCA {:d}d nb_errors {:d} error {:.02f}%'.format(d, nb_errors, 100 * nb_errors / test_input.size(0)))"
   ]
  }
 ],
 "metadata": {
  "kernelspec": {
   "display_name": "Python 3",
   "language": "python",
   "name": "python3"
  },
  "language_info": {
   "codemirror_mode": {
    "name": "ipython",
    "version": 3
   },
   "file_extension": ".py",
   "mimetype": "text/x-python",
   "name": "python",
   "nbconvert_exporter": "python",
   "pygments_lexer": "ipython3",
   "version": "3.6.2"
  }
 },
 "nbformat": 4,
 "nbformat_minor": 2
}
