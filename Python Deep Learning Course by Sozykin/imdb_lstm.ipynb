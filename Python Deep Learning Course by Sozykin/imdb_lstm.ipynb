{
  "nbformat": 4,
  "nbformat_minor": 0,
  "metadata": {
    "colab": {
      "name": "imdb_lstm.ipynb",
      "version": "0.3.2",
      "provenance": [],
      "collapsed_sections": []
    },
    "kernelspec": {
      "name": "python3",
      "display_name": "Python 3"
    }
  },
  "cells": [
    {
      "metadata": {
        "id": "ivsRfu54DTUo",
        "colab_type": "code",
        "colab": {
          "base_uri": "https://localhost:8080/",
          "height": 35
        },
        "outputId": "6d21eb67-7822-4d89-bcb4-31f07a8a370c"
      },
      "cell_type": "code",
      "source": [
        "import numpy as np\n",
        "from keras.preprocessing import sequence\n",
        "from keras.models import Sequential\n",
        "from keras.layers import Dense, Activation, Embedding\n",
        "from keras.layers import LSTM, SpatialDropout1D\n",
        "from keras.datasets import imdb"
      ],
      "execution_count": 1,
      "outputs": [
        {
          "output_type": "stream",
          "text": [
            "Using TensorFlow backend.\n"
          ],
          "name": "stderr"
        }
      ]
    },
    {
      "metadata": {
        "id": "tDfp22k4Diag",
        "colab_type": "text"
      },
      "cell_type": "markdown",
      "source": [
        "Устанавливаем seed для повторяемости результатов"
      ]
    },
    {
      "metadata": {
        "id": "1lTVRrUEDlqn",
        "colab_type": "code",
        "colab": {}
      },
      "cell_type": "code",
      "source": [
        "np.random.seed(42)"
      ],
      "execution_count": 0,
      "outputs": []
    },
    {
      "metadata": {
        "id": "UIqaU21YDmYu",
        "colab_type": "text"
      },
      "cell_type": "markdown",
      "source": [
        "Максимальное количество слов (по частоте использования)"
      ]
    },
    {
      "metadata": {
        "id": "Y3PZPFlqDl0P",
        "colab_type": "code",
        "colab": {}
      },
      "cell_type": "code",
      "source": [
        "max_features = 5000"
      ],
      "execution_count": 0,
      "outputs": []
    },
    {
      "metadata": {
        "id": "teo6XNlgDqL8",
        "colab_type": "text"
      },
      "cell_type": "markdown",
      "source": [
        "Максимальная длина рецензии в словахМаксимальная длина рецензии в словах"
      ]
    },
    {
      "metadata": {
        "id": "N2KHCV_ZDZBS",
        "colab_type": "code",
        "colab": {}
      },
      "cell_type": "code",
      "source": [
        "maxlen = 80"
      ],
      "execution_count": 0,
      "outputs": []
    },
    {
      "metadata": {
        "id": "Hz1ocauHDuet",
        "colab_type": "text"
      },
      "cell_type": "markdown",
      "source": [
        "Загружаем данные"
      ]
    },
    {
      "metadata": {
        "id": "jSqMsqcJDZlG",
        "colab_type": "code",
        "colab": {}
      },
      "cell_type": "code",
      "source": [
        "(X_train, y_train), (X_test, y_test) = imdb.load_data(num_words=max_features)"
      ],
      "execution_count": 0,
      "outputs": []
    },
    {
      "metadata": {
        "id": "50tH-f0JDxee",
        "colab_type": "text"
      },
      "cell_type": "markdown",
      "source": [
        "Заполняем или обрезаем рецензии"
      ]
    },
    {
      "metadata": {
        "id": "Ss0wUHR7D2ZY",
        "colab_type": "code",
        "colab": {}
      },
      "cell_type": "code",
      "source": [
        "X_train = sequence.pad_sequences(X_train, maxlen=maxlen)\n",
        "X_test = sequence.pad_sequences(X_test, maxlen=maxlen)"
      ],
      "execution_count": 0,
      "outputs": []
    },
    {
      "metadata": {
        "id": "b8Q-nWnHD8u2",
        "colab_type": "text"
      },
      "cell_type": "markdown",
      "source": [
        "Создаем сеть:\n",
        "\n",
        "*  Слой для векторного представления слов\n",
        "*  Слой долго-краткосрочной памяти\n",
        "*  Полносвязный слой"
      ]
    },
    {
      "metadata": {
        "id": "u9GwkpZyD7wv",
        "colab_type": "code",
        "colab": {}
      },
      "cell_type": "code",
      "source": [
        "model = Sequential()\n",
        "model.add(Embedding(max_features, 32))\n",
        "model.add(SpatialDropout1D(0.2))\n",
        "model.add(LSTM(100, dropout=0.2, recurrent_dropout=0.2)) \n",
        "model.add(Dense(1, activation=\"sigmoid\"))"
      ],
      "execution_count": 0,
      "outputs": []
    },
    {
      "metadata": {
        "id": "ORuzqBWfEQni",
        "colab_type": "text"
      },
      "cell_type": "markdown",
      "source": [
        "Копмилируем модель"
      ]
    },
    {
      "metadata": {
        "id": "Qi_ahcEPDbJy",
        "colab_type": "code",
        "colab": {}
      },
      "cell_type": "code",
      "source": [
        "model.compile(loss='binary_crossentropy',\n",
        "              optimizer='adam',\n",
        "metrics=['accuracy'])"
      ],
      "execution_count": 0,
      "outputs": []
    },
    {
      "metadata": {
        "id": "k_Gdh4IDETX4",
        "colab_type": "text"
      },
      "cell_type": "markdown",
      "source": [
        "Обучаем модель"
      ]
    },
    {
      "metadata": {
        "id": "1S_BdACsDgHZ",
        "colab_type": "code",
        "colab": {
          "base_uri": "https://localhost:8080/",
          "height": 311
        },
        "outputId": "c6fb93a2-2c13-4bea-b32d-0920a1224c8f"
      },
      "cell_type": "code",
      "source": [
        "model.fit(X_train, y_train, batch_size=64, epochs=7, validation_data=(X_test, y_test), verbose=2)"
      ],
      "execution_count": 12,
      "outputs": [
        {
          "output_type": "stream",
          "text": [
            "Train on 25000 samples, validate on 25000 samples\n",
            "Epoch 1/7\n",
            " - 59s - loss: 0.5130 - acc: 0.7453 - val_loss: 0.3926 - val_acc: 0.8272\n",
            "Epoch 2/7\n",
            " - 56s - loss: 0.3760 - acc: 0.8416 - val_loss: 0.3913 - val_acc: 0.8276\n",
            "Epoch 3/7\n",
            " - 56s - loss: 0.3405 - acc: 0.8605 - val_loss: 0.3846 - val_acc: 0.8263\n",
            "Epoch 4/7\n",
            " - 56s - loss: 0.3190 - acc: 0.8696 - val_loss: 0.3953 - val_acc: 0.8244\n",
            "Epoch 5/7\n",
            " - 56s - loss: 0.3010 - acc: 0.8770 - val_loss: 0.3998 - val_acc: 0.8327\n",
            "Epoch 6/7\n",
            " - 56s - loss: 0.2845 - acc: 0.8855 - val_loss: 0.3858 - val_acc: 0.8329\n",
            "Epoch 7/7\n",
            " - 57s - loss: 0.2662 - acc: 0.8947 - val_loss: 0.3894 - val_acc: 0.8342\n"
          ],
          "name": "stdout"
        },
        {
          "output_type": "execute_result",
          "data": {
            "text/plain": [
              "<keras.callbacks.History at 0x7f874fb8d6a0>"
            ]
          },
          "metadata": {
            "tags": []
          },
          "execution_count": 12
        }
      ]
    },
    {
      "metadata": {
        "id": "0ctyADGhEYh2",
        "colab_type": "text"
      },
      "cell_type": "markdown",
      "source": [
        "Проверяем качество обучения на тестовых данных"
      ]
    },
    {
      "metadata": {
        "id": "ttBaYhzXEXX2",
        "colab_type": "code",
        "colab": {
          "base_uri": "https://localhost:8080/",
          "height": 54
        },
        "outputId": "1119eabb-8828-40d7-e4bb-e20e20f1df88"
      },
      "cell_type": "code",
      "source": [
        "scores = model.evaluate(X_test, y_test, batch_size=64)\n",
        "print(\"Точность на тестовых данных: %.2f%%\" % (scores[1] * 100))"
      ],
      "execution_count": 13,
      "outputs": [
        {
          "output_type": "stream",
          "text": [
            "25000/25000 [==============================] - 11s 451us/step\n",
            "Точность на тестовых данных: 83.42%\n"
          ],
          "name": "stdout"
        }
      ]
    }
  ]
}