{
 "cells": [
  {
   "cell_type": "markdown",
   "metadata": {},
   "source": [
    "## Сохранение обученной нейронной сети"
   ]
  },
  {
   "cell_type": "code",
   "execution_count": 1,
   "metadata": {},
   "outputs": [
    {
     "name": "stderr",
     "output_type": "stream",
     "text": [
      "Using TensorFlow backend.\n"
     ]
    }
   ],
   "source": [
    "import numpy\n",
    "from keras.datasets import mnist\n",
    "from keras.models import Sequential\n",
    "from keras.layers import Dense\n",
    "from keras.utils import np_utils"
   ]
  },
  {
   "cell_type": "code",
   "execution_count": 2,
   "metadata": {
    "collapsed": true
   },
   "outputs": [],
   "source": [
    "numpy.random.seed(42)"
   ]
  },
  {
   "cell_type": "code",
   "execution_count": 3,
   "metadata": {
    "collapsed": true
   },
   "outputs": [],
   "source": [
    "(X_train, y_train), (X_test, y_test) = mnist.load_data()"
   ]
  },
  {
   "cell_type": "code",
   "execution_count": 4,
   "metadata": {
    "collapsed": true
   },
   "outputs": [],
   "source": [
    "X_train = X_train.reshape(60000, 784)\n",
    "X_test = X_test.reshape(10000, 784)"
   ]
  },
  {
   "cell_type": "code",
   "execution_count": 5,
   "metadata": {
    "collapsed": true
   },
   "outputs": [],
   "source": [
    "X_train = X_train.astype('float32')\n",
    "X_test = X_test.astype('float32')\n",
    "X_train /= 255\n",
    "X_test /= 255"
   ]
  },
  {
   "cell_type": "code",
   "execution_count": 6,
   "metadata": {
    "collapsed": true
   },
   "outputs": [],
   "source": [
    "Y_train = np_utils.to_categorical(y_train, 10)\n",
    "Y_test = np_utils.to_categorical(y_test, 10)"
   ]
  },
  {
   "cell_type": "code",
   "execution_count": 7,
   "metadata": {
    "collapsed": true
   },
   "outputs": [],
   "source": [
    "model = Sequential()"
   ]
  },
  {
   "cell_type": "code",
   "execution_count": 8,
   "metadata": {},
   "outputs": [
    {
     "name": "stderr",
     "output_type": "stream",
     "text": [
      "C:\\Anaconda3\\lib\\site-packages\\ipykernel_launcher.py:1: UserWarning: Update your `Dense` call to the Keras 2 API: `Dense(800, input_dim=784, activation=\"relu\", kernel_initializer=\"normal\")`\n",
      "  \"\"\"Entry point for launching an IPython kernel.\n",
      "C:\\Anaconda3\\lib\\site-packages\\ipykernel_launcher.py:2: UserWarning: Update your `Dense` call to the Keras 2 API: `Dense(10, activation=\"softmax\", kernel_initializer=\"normal\")`\n",
      "  \n"
     ]
    }
   ],
   "source": [
    "model.add(Dense(800, input_dim=784, init=\"normal\", activation=\"relu\"))\n",
    "model.add(Dense(10, init=\"normal\", activation=\"softmax\"))"
   ]
  },
  {
   "cell_type": "code",
   "execution_count": 9,
   "metadata": {
    "collapsed": true
   },
   "outputs": [],
   "source": [
    "model.compile(loss=\"categorical_crossentropy\", optimizer=\"SGD\", metrics=[\"accuracy\"])"
   ]
  },
  {
   "cell_type": "code",
   "execution_count": 10,
   "metadata": {},
   "outputs": [
    {
     "name": "stdout",
     "output_type": "stream",
     "text": [
      "_________________________________________________________________\n",
      "Layer (type)                 Output Shape              Param #   \n",
      "=================================================================\n",
      "dense_1 (Dense)              (None, 800)               628000    \n",
      "_________________________________________________________________\n",
      "dense_2 (Dense)              (None, 10)                8010      \n",
      "=================================================================\n",
      "Total params: 636,010\n",
      "Trainable params: 636,010\n",
      "Non-trainable params: 0\n",
      "_________________________________________________________________\n"
     ]
    }
   ],
   "source": [
    "model.summary()"
   ]
  },
  {
   "cell_type": "code",
   "execution_count": 11,
   "metadata": {},
   "outputs": [
    {
     "name": "stderr",
     "output_type": "stream",
     "text": [
      "C:\\Anaconda3\\lib\\site-packages\\ipykernel_launcher.py:1: UserWarning: The `nb_epoch` argument in `fit` has been renamed `epochs`.\n",
      "  \"\"\"Entry point for launching an IPython kernel.\n"
     ]
    },
    {
     "name": "stdout",
     "output_type": "stream",
     "text": [
      "Train on 48000 samples, validate on 12000 samples\n",
      "Epoch 1/25\n",
      "48000/48000 [==============================] - 26s 542us/step - loss: 1.3220 - acc: 0.6916 - val_loss: 0.7795 - val_acc: 0.8502\n",
      "Epoch 2/25\n",
      "48000/48000 [==============================] - 23s 473us/step - loss: 0.6730 - acc: 0.8522 - val_loss: 0.5376 - val_acc: 0.8732\n",
      "Epoch 3/25\n",
      "48000/48000 [==============================] - 26s 536us/step - loss: 0.5239 - acc: 0.8726 - val_loss: 0.4494 - val_acc: 0.8883\n",
      "Epoch 4/25\n",
      "48000/48000 [==============================] - 17s 352us/step - loss: 0.4561 - acc: 0.8836 - val_loss: 0.4033 - val_acc: 0.8976\n",
      "Epoch 5/25\n",
      "48000/48000 [==============================] - 20s 409us/step - loss: 0.4161 - acc: 0.8912 - val_loss: 0.3734 - val_acc: 0.9034\n",
      "Epoch 6/25\n",
      "48000/48000 [==============================] - 21s 440us/step - loss: 0.3889 - acc: 0.8961 - val_loss: 0.3530 - val_acc: 0.9062\n",
      "Epoch 7/25\n",
      "48000/48000 [==============================] - 21s 438us/step - loss: 0.3686 - acc: 0.9008 - val_loss: 0.3370 - val_acc: 0.9103\n",
      "Epoch 8/25\n",
      "48000/48000 [==============================] - 21s 435us/step - loss: 0.3528 - acc: 0.9039 - val_loss: 0.3249 - val_acc: 0.9113\n",
      "Epoch 9/25\n",
      "48000/48000 [==============================] - 21s 442us/step - loss: 0.3399 - acc: 0.9068 - val_loss: 0.3145 - val_acc: 0.9141\n",
      "Epoch 10/25\n",
      "48000/48000 [==============================] - 19s 405us/step - loss: 0.3289 - acc: 0.9095 - val_loss: 0.3061 - val_acc: 0.9164\n",
      "Epoch 11/25\n",
      "48000/48000 [==============================] - 20s 415us/step - loss: 0.3194 - acc: 0.9123 - val_loss: 0.2985 - val_acc: 0.9169\n",
      "Epoch 12/25\n",
      "48000/48000 [==============================] - 20s 420us/step - loss: 0.3110 - acc: 0.9143 - val_loss: 0.2916 - val_acc: 0.9202\n",
      "Epoch 13/25\n",
      "48000/48000 [==============================] - 25s 512us/step - loss: 0.3035 - acc: 0.9163 - val_loss: 0.2855 - val_acc: 0.9214\n",
      "Epoch 14/25\n",
      "48000/48000 [==============================] - 19s 404us/step - loss: 0.2967 - acc: 0.9180 - val_loss: 0.2795 - val_acc: 0.9235\n",
      "Epoch 15/25\n",
      "48000/48000 [==============================] - 23s 472us/step - loss: 0.2904 - acc: 0.9197 - val_loss: 0.2747 - val_acc: 0.9241\n",
      "Epoch 16/25\n",
      "48000/48000 [==============================] - 24s 500us/step - loss: 0.2844 - acc: 0.9214 - val_loss: 0.2702 - val_acc: 0.9264\n",
      "Epoch 17/25\n",
      "48000/48000 [==============================] - 23s 482us/step - loss: 0.2792 - acc: 0.9231 - val_loss: 0.2655 - val_acc: 0.9273\n",
      "Epoch 18/25\n",
      "48000/48000 [==============================] - 20s 423us/step - loss: 0.2741 - acc: 0.9242 - val_loss: 0.2611 - val_acc: 0.9291\n",
      "Epoch 19/25\n",
      "48000/48000 [==============================] - 25s 518us/step - loss: 0.2692 - acc: 0.9258 - val_loss: 0.2572 - val_acc: 0.9300\n",
      "Epoch 20/25\n",
      "48000/48000 [==============================] - 26s 535us/step - loss: 0.2646 - acc: 0.9271 - val_loss: 0.2533 - val_acc: 0.9307\n",
      "Epoch 21/25\n",
      "48000/48000 [==============================] - 20s 414us/step - loss: 0.2603 - acc: 0.9283 - val_loss: 0.2497 - val_acc: 0.9311\n",
      "Epoch 22/25\n",
      "48000/48000 [==============================] - 26s 543us/step - loss: 0.2560 - acc: 0.9296 - val_loss: 0.2464 - val_acc: 0.9319s - loss: 0.2556 - acc: 0.\n",
      "Epoch 23/25\n",
      "48000/48000 [==============================] - 22s 464us/step - loss: 0.2521 - acc: 0.9305 - val_loss: 0.2432 - val_acc: 0.9326\n",
      "Epoch 24/25\n",
      "48000/48000 [==============================] - 20s 412us/step - loss: 0.2482 - acc: 0.9311 - val_loss: 0.2406 - val_acc: 0.9338\n",
      "Epoch 25/25\n",
      "48000/48000 [==============================] - 11s 228us/step - loss: 0.2446 - acc: 0.9324 - val_loss: 0.2366 - val_acc: 0.9342\n"
     ]
    },
    {
     "data": {
      "text/plain": [
       "<keras.callbacks.History at 0x1b36cc02320>"
      ]
     },
     "execution_count": 11,
     "metadata": {},
     "output_type": "execute_result"
    }
   ],
   "source": [
    "model.fit(X_train, Y_train, batch_size=200, nb_epoch=25, validation_split=0.2, verbose=1)"
   ]
  },
  {
   "cell_type": "code",
   "execution_count": 12,
   "metadata": {},
   "outputs": [
    {
     "name": "stdout",
     "output_type": "stream",
     "text": [
      "Точность работы на тестовых данных: 93.48%\n"
     ]
    }
   ],
   "source": [
    "scores = model.evaluate(X_test, Y_test, verbose=0)\n",
    "print(\"Точность работы на тестовых данных: %.2f%%\" % (scores[1]*100))"
   ]
  },
  {
   "cell_type": "markdown",
   "metadata": {},
   "source": [
    "## Сохраняем сеть"
   ]
  },
  {
   "cell_type": "markdown",
   "metadata": {},
   "source": [
    "Сохраняем сеть для последующего использования\n",
    "\n",
    "Генерируем описание модели в формате json"
   ]
  },
  {
   "cell_type": "code",
   "execution_count": 13,
   "metadata": {
    "collapsed": true
   },
   "outputs": [],
   "source": [
    "model_json = model.to_json()\n",
    "json_file = open(\"mnist_model.json\", \"w\")"
   ]
  },
  {
   "cell_type": "markdown",
   "metadata": {},
   "source": [
    "Записываем архитектуру сети в файл"
   ]
  },
  {
   "cell_type": "code",
   "execution_count": 14,
   "metadata": {
    "collapsed": true
   },
   "outputs": [],
   "source": [
    "json_file.write(model_json)\n",
    "json_file.close()"
   ]
  },
  {
   "cell_type": "markdown",
   "metadata": {},
   "source": [
    "Записываем данные о весах в файл"
   ]
  },
  {
   "cell_type": "code",
   "execution_count": 15,
   "metadata": {
    "collapsed": true
   },
   "outputs": [],
   "source": [
    "model.save_weights(\"mnist_model.h5\")"
   ]
  },
  {
   "cell_type": "code",
   "execution_count": null,
   "metadata": {
    "collapsed": true
   },
   "outputs": [],
   "source": []
  }
 ],
 "metadata": {
  "kernelspec": {
   "display_name": "Python 3",
   "language": "python",
   "name": "python3"
  },
  "language_info": {
   "codemirror_mode": {
    "name": "ipython",
    "version": 3
   },
   "file_extension": ".py",
   "mimetype": "text/x-python",
   "name": "python",
   "nbconvert_exporter": "python",
   "pygments_lexer": "ipython3",
   "version": "3.6.2"
  }
 },
 "nbformat": 4,
 "nbformat_minor": 2
}
