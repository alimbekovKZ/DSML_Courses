{
 "cells": [
  {
   "cell_type": "markdown",
   "metadata": {},
   "source": [
    "## Пример решения задачи регрессии"
   ]
  },
  {
   "cell_type": "markdown",
   "metadata": {},
   "source": [
    "Предсказания стоимости жилья на наборе Boston Housing"
   ]
  },
  {
   "cell_type": "code",
   "execution_count": 1,
   "metadata": {},
   "outputs": [
    {
     "name": "stderr",
     "output_type": "stream",
     "text": [
      "Using TensorFlow backend.\n"
     ]
    }
   ],
   "source": [
    "from keras.datasets import boston_housing\n",
    "from keras.models import Sequential\n",
    "from keras.layers import Dense"
   ]
  },
  {
   "cell_type": "markdown",
   "metadata": {},
   "source": [
    "## Загрузка набора данных"
   ]
  },
  {
   "cell_type": "code",
   "execution_count": 2,
   "metadata": {},
   "outputs": [
    {
     "name": "stdout",
     "output_type": "stream",
     "text": [
      "Downloading data from https://s3.amazonaws.com/keras-datasets/boston_housing.npz\n",
      "57344/57026 [==============================] - 1s 10us/step\n"
     ]
    }
   ],
   "source": [
    "(x_train, y_train), (x_test, y_test) = boston_housing.load_data()"
   ]
  },
  {
   "cell_type": "markdown",
   "metadata": {},
   "source": [
    "## Нормализация данных"
   ]
  },
  {
   "cell_type": "markdown",
   "metadata": {},
   "source": [
    "Вычитаем среднее значение и делим на стандартное отклонение"
   ]
  },
  {
   "cell_type": "code",
   "execution_count": 3,
   "metadata": {
    "collapsed": true
   },
   "outputs": [],
   "source": [
    "# Среднее значение\n",
    "mean = x_train.mean(axis=0)\n",
    "# Стандартное отклонение\n",
    "std = x_train.std(axis=0)\n",
    "x_train -= mean\n",
    "x_train /= std\n",
    "x_test -= mean\n",
    "x_test /= std"
   ]
  },
  {
   "cell_type": "markdown",
   "metadata": {},
   "source": [
    "## Создаем сеть"
   ]
  },
  {
   "cell_type": "markdown",
   "metadata": {},
   "source": [
    "Выходной слой с одним линейным нейроном - для задачи регрессии функция активации не используется.\n",
    "\n",
    "Функция ошибки - среднеквадратичное отклонение. Метрика - среднее абсолютное отклонение."
   ]
  },
  {
   "cell_type": "code",
   "execution_count": 4,
   "metadata": {
    "collapsed": true
   },
   "outputs": [],
   "source": [
    "model = Sequential()\n",
    "model.add(Dense(128, activation='relu', input_shape=(x_train.shape[1],)))\n",
    "model.add(Dense(1))\n",
    "model.compile(optimizer='adam', loss='mse', metrics=['mae'])"
   ]
  },
  {
   "cell_type": "markdown",
   "metadata": {},
   "source": [
    "## Обучение сети"
   ]
  },
  {
   "cell_type": "code",
   "execution_count": 5,
   "metadata": {},
   "outputs": [
    {
     "name": "stdout",
     "output_type": "stream",
     "text": [
      "Epoch 1/100\n",
      " - 6s - loss: 328.7909 - mean_absolute_error: 15.3631\n",
      "Epoch 2/100\n",
      " - 1s - loss: 42.3785 - mean_absolute_error: 4.3129\n",
      "Epoch 3/100\n",
      " - 1s - loss: 26.9920 - mean_absolute_error: 3.5308\n",
      "Epoch 4/100\n",
      " - 1s - loss: 22.3493 - mean_absolute_error: 3.2828\n",
      "Epoch 5/100\n",
      " - 1s - loss: 19.3871 - mean_absolute_error: 3.1122\n",
      "Epoch 6/100\n",
      " - 3s - loss: 16.8284 - mean_absolute_error: 2.9219\n",
      "Epoch 7/100\n",
      " - 1s - loss: 15.1703 - mean_absolute_error: 2.7436\n",
      "Epoch 8/100\n",
      " - 1s - loss: 13.4133 - mean_absolute_error: 2.5621\n",
      "Epoch 9/100\n",
      " - 1s - loss: 11.7540 - mean_absolute_error: 2.4095\n",
      "Epoch 10/100\n",
      " - 1s - loss: 11.3612 - mean_absolute_error: 2.3855\n",
      "Epoch 11/100\n",
      " - 1s - loss: 10.8196 - mean_absolute_error: 2.2912\n",
      "Epoch 12/100\n",
      " - 1s - loss: 10.1647 - mean_absolute_error: 2.2142\n",
      "Epoch 13/100\n",
      " - 1s - loss: 9.6788 - mean_absolute_error: 2.1976\n",
      "Epoch 14/100\n",
      " - 1s - loss: 9.6296 - mean_absolute_error: 2.1653\n",
      "Epoch 15/100\n",
      " - 1s - loss: 9.3324 - mean_absolute_error: 2.1380\n",
      "Epoch 16/100\n",
      " - 1s - loss: 9.3824 - mean_absolute_error: 2.1478\n",
      "Epoch 17/100\n",
      " - 1s - loss: 8.9349 - mean_absolute_error: 2.1613\n",
      "Epoch 18/100\n",
      " - 1s - loss: 8.6067 - mean_absolute_error: 2.0255\n",
      "Epoch 19/100\n",
      " - 1s - loss: 8.5325 - mean_absolute_error: 2.0517\n",
      "Epoch 20/100\n",
      " - 1s - loss: 8.1796 - mean_absolute_error: 2.0224\n",
      "Epoch 21/100\n",
      " - 1s - loss: 8.1113 - mean_absolute_error: 2.0060\n",
      "Epoch 22/100\n",
      " - 1s - loss: 8.1530 - mean_absolute_error: 1.9917\n",
      "Epoch 23/100\n",
      " - 1s - loss: 7.9909 - mean_absolute_error: 2.0046\n",
      "Epoch 24/100\n",
      " - 1s - loss: 7.7701 - mean_absolute_error: 1.9460\n",
      "Epoch 25/100\n",
      " - 1s - loss: 7.7709 - mean_absolute_error: 1.9626\n",
      "Epoch 26/100\n",
      " - 1s - loss: 7.4085 - mean_absolute_error: 1.9079\n",
      "Epoch 27/100\n",
      " - 1s - loss: 7.4566 - mean_absolute_error: 1.9382\n",
      "Epoch 28/100\n",
      " - 1s - loss: 7.6123 - mean_absolute_error: 1.9336\n",
      "Epoch 29/100\n",
      " - 1s - loss: 7.2931 - mean_absolute_error: 1.9068\n",
      "Epoch 30/100\n",
      " - 1s - loss: 7.1050 - mean_absolute_error: 1.8706\n",
      "Epoch 31/100\n",
      " - 1s - loss: 7.4033 - mean_absolute_error: 1.9087\n",
      "Epoch 32/100\n",
      " - 1s - loss: 7.0687 - mean_absolute_error: 1.8733\n",
      "Epoch 33/100\n",
      " - 1s - loss: 6.8392 - mean_absolute_error: 1.8677\n",
      "Epoch 34/100\n",
      " - 1s - loss: 6.8939 - mean_absolute_error: 1.8436\n",
      "Epoch 35/100\n",
      " - 1s - loss: 6.8224 - mean_absolute_error: 1.8639\n",
      "Epoch 36/100\n",
      " - 1s - loss: 6.7955 - mean_absolute_error: 1.8505\n",
      "Epoch 37/100\n",
      " - 1s - loss: 6.7371 - mean_absolute_error: 1.8337\n",
      "Epoch 38/100\n",
      " - 1s - loss: 6.5681 - mean_absolute_error: 1.8201\n",
      "Epoch 39/100\n",
      " - 1s - loss: 6.5395 - mean_absolute_error: 1.8146\n",
      "Epoch 40/100\n",
      " - 1s - loss: 6.3383 - mean_absolute_error: 1.7824\n",
      "Epoch 41/100\n",
      " - 1s - loss: 6.3893 - mean_absolute_error: 1.7799\n",
      "Epoch 42/100\n",
      " - 1s - loss: 6.2741 - mean_absolute_error: 1.7753\n",
      "Epoch 43/100\n",
      " - 1s - loss: 6.5022 - mean_absolute_error: 1.8221\n",
      "Epoch 44/100\n",
      " - 1s - loss: 6.2345 - mean_absolute_error: 1.7392\n",
      "Epoch 45/100\n",
      " - 1s - loss: 6.0588 - mean_absolute_error: 1.7513\n",
      "Epoch 46/100\n",
      " - 1s - loss: 6.1172 - mean_absolute_error: 1.7543\n",
      "Epoch 47/100\n",
      " - 1s - loss: 6.1845 - mean_absolute_error: 1.7604\n",
      "Epoch 48/100\n",
      " - 1s - loss: 6.0708 - mean_absolute_error: 1.7440\n",
      "Epoch 49/100\n",
      " - 1s - loss: 6.0180 - mean_absolute_error: 1.7243\n",
      "Epoch 50/100\n",
      " - 1s - loss: 6.0040 - mean_absolute_error: 1.7369\n",
      "Epoch 51/100\n",
      " - 1s - loss: 5.7519 - mean_absolute_error: 1.6941\n",
      "Epoch 52/100\n",
      " - 1s - loss: 5.7785 - mean_absolute_error: 1.6954\n",
      "Epoch 53/100\n",
      " - 1s - loss: 5.6603 - mean_absolute_error: 1.6717\n",
      "Epoch 54/100\n",
      " - 1s - loss: 5.5378 - mean_absolute_error: 1.6841\n",
      "Epoch 55/100\n",
      " - 1s - loss: 5.7311 - mean_absolute_error: 1.6970\n",
      "Epoch 56/100\n",
      " - 1s - loss: 5.5388 - mean_absolute_error: 1.6661\n",
      "Epoch 57/100\n",
      " - 1s - loss: 5.6461 - mean_absolute_error: 1.6438\n",
      "Epoch 58/100\n",
      " - 1s - loss: 5.4601 - mean_absolute_error: 1.6496\n",
      "Epoch 59/100\n",
      " - 1s - loss: 5.4881 - mean_absolute_error: 1.6437\n",
      "Epoch 60/100\n",
      " - 1s - loss: 5.5412 - mean_absolute_error: 1.6388\n",
      "Epoch 61/100\n",
      " - 1s - loss: 5.4676 - mean_absolute_error: 1.6574\n",
      "Epoch 62/100\n",
      " - 1s - loss: 5.3860 - mean_absolute_error: 1.6369\n",
      "Epoch 63/100\n",
      " - 2s - loss: 5.2773 - mean_absolute_error: 1.6357\n",
      "Epoch 64/100\n",
      " - 1s - loss: 5.2889 - mean_absolute_error: 1.6460\n",
      "Epoch 65/100\n",
      " - 0s - loss: 5.1925 - mean_absolute_error: 1.5965\n",
      "Epoch 66/100\n",
      " - 0s - loss: 5.3589 - mean_absolute_error: 1.6498\n",
      "Epoch 67/100\n",
      " - 1s - loss: 5.2573 - mean_absolute_error: 1.6408\n",
      "Epoch 68/100\n",
      " - 1s - loss: 5.1811 - mean_absolute_error: 1.5938\n",
      "Epoch 69/100\n",
      " - 1s - loss: 5.0833 - mean_absolute_error: 1.6202\n",
      "Epoch 70/100\n",
      " - 1s - loss: 4.9206 - mean_absolute_error: 1.5721\n",
      "Epoch 71/100\n",
      " - 1s - loss: 4.9156 - mean_absolute_error: 1.5425\n",
      "Epoch 72/100\n",
      " - 1s - loss: 4.8422 - mean_absolute_error: 1.5570\n",
      "Epoch 73/100\n",
      " - 1s - loss: 4.8841 - mean_absolute_error: 1.6045\n",
      "Epoch 74/100\n",
      " - 1s - loss: 4.7044 - mean_absolute_error: 1.5417\n",
      "Epoch 75/100\n",
      " - 1s - loss: 4.8849 - mean_absolute_error: 1.5637\n",
      "Epoch 76/100\n",
      " - 1s - loss: 4.9333 - mean_absolute_error: 1.6207\n",
      "Epoch 77/100\n",
      " - 2s - loss: 4.6973 - mean_absolute_error: 1.5000\n",
      "Epoch 78/100\n",
      " - 1s - loss: 4.6543 - mean_absolute_error: 1.5591\n",
      "Epoch 79/100\n",
      " - 1s - loss: 4.7799 - mean_absolute_error: 1.5898\n",
      "Epoch 80/100\n",
      " - 1s - loss: 4.5648 - mean_absolute_error: 1.4882\n",
      "Epoch 81/100\n",
      " - 1s - loss: 4.7648 - mean_absolute_error: 1.5471\n",
      "Epoch 82/100\n",
      " - 1s - loss: 4.5880 - mean_absolute_error: 1.5296\n",
      "Epoch 83/100\n",
      " - 2s - loss: 4.6313 - mean_absolute_error: 1.5220\n",
      "Epoch 84/100\n",
      " - 1s - loss: 4.6367 - mean_absolute_error: 1.5307\n",
      "Epoch 85/100\n",
      " - 1s - loss: 4.3514 - mean_absolute_error: 1.4709\n",
      "Epoch 86/100\n",
      " - 1s - loss: 4.6118 - mean_absolute_error: 1.5320\n",
      "Epoch 87/100\n",
      " - 1s - loss: 4.6261 - mean_absolute_error: 1.5219\n",
      "Epoch 88/100\n",
      " - 2s - loss: 4.5550 - mean_absolute_error: 1.4913\n",
      "Epoch 89/100\n",
      " - 1s - loss: 4.2682 - mean_absolute_error: 1.4532\n",
      "Epoch 90/100\n",
      " - 0s - loss: 4.4879 - mean_absolute_error: 1.4876\n",
      "Epoch 91/100\n",
      " - 1s - loss: 4.3952 - mean_absolute_error: 1.4806\n",
      "Epoch 92/100\n",
      " - 2s - loss: 4.3891 - mean_absolute_error: 1.4836\n",
      "Epoch 93/100\n",
      " - 1s - loss: 4.3276 - mean_absolute_error: 1.4650\n",
      "Epoch 94/100\n",
      " - 1s - loss: 4.2248 - mean_absolute_error: 1.4996\n",
      "Epoch 95/100\n",
      " - 1s - loss: 4.3945 - mean_absolute_error: 1.4775\n",
      "Epoch 96/100\n",
      " - 2s - loss: 4.1775 - mean_absolute_error: 1.4725\n",
      "Epoch 97/100\n",
      " - 1s - loss: 4.3099 - mean_absolute_error: 1.5063\n",
      "Epoch 98/100\n",
      " - 2s - loss: 4.2003 - mean_absolute_error: 1.4862\n",
      "Epoch 99/100\n",
      " - 1s - loss: 4.0586 - mean_absolute_error: 1.4308\n",
      "Epoch 100/100\n",
      " - 2s - loss: 4.0236 - mean_absolute_error: 1.3941\n"
     ]
    },
    {
     "data": {
      "text/plain": [
       "<keras.callbacks.History at 0x2b79d95e9b0>"
      ]
     },
     "execution_count": 5,
     "metadata": {},
     "output_type": "execute_result"
    }
   ],
   "source": [
    "model.fit(x_train, y_train, epochs=100, batch_size=1, verbose=2)"
   ]
  },
  {
   "cell_type": "markdown",
   "metadata": {},
   "source": [
    "## Оценка точности работы сети"
   ]
  },
  {
   "cell_type": "code",
   "execution_count": 6,
   "metadata": {
    "collapsed": true
   },
   "outputs": [],
   "source": [
    "mse, mae = model.evaluate(x_test, y_test, verbose=0)"
   ]
  },
  {
   "cell_type": "code",
   "execution_count": 7,
   "metadata": {},
   "outputs": [
    {
     "name": "stdout",
     "output_type": "stream",
     "text": [
      "Средняя абсолютная ошибка (тысяч долларов): 2.25616474713\n"
     ]
    }
   ],
   "source": [
    "print(\"Средняя абсолютная ошибка (тысяч долларов):\", mae)"
   ]
  },
  {
   "cell_type": "markdown",
   "metadata": {},
   "source": [
    "## Использование сети для предсказания цен недвижимости"
   ]
  },
  {
   "cell_type": "code",
   "execution_count": 8,
   "metadata": {
    "collapsed": true
   },
   "outputs": [],
   "source": [
    "pred = model.predict(x_test)"
   ]
  },
  {
   "cell_type": "code",
   "execution_count": 9,
   "metadata": {},
   "outputs": [
    {
     "name": "stdout",
     "output_type": "stream",
     "text": [
      "Предсказанная стоимость: 17.9712 , правильная стоимость: 18.8\n"
     ]
    }
   ],
   "source": [
    "print(\"Предсказанная стоимость:\", pred[1][0], \", правильная стоимость:\", y_test[1])"
   ]
  },
  {
   "cell_type": "code",
   "execution_count": null,
   "metadata": {
    "collapsed": true
   },
   "outputs": [],
   "source": []
  }
 ],
 "metadata": {
  "kernelspec": {
   "display_name": "Python 3",
   "language": "python",
   "name": "python3"
  },
  "language_info": {
   "codemirror_mode": {
    "name": "ipython",
    "version": 3
   },
   "file_extension": ".py",
   "mimetype": "text/x-python",
   "name": "python",
   "nbconvert_exporter": "python",
   "pygments_lexer": "ipython3",
   "version": "3.6.2"
  }
 },
 "nbformat": 4,
 "nbformat_minor": 2
}
