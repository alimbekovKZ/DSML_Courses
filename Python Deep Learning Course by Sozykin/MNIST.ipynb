{
 "cells": [
  {
   "cell_type": "markdown",
   "metadata": {},
   "source": [
    "# Практика: Распознавание рукописных цифр из набора данных MNIST на Keras"
   ]
  },
  {
   "cell_type": "markdown",
   "metadata": {},
   "source": [
    "**Задача**: Распознование рукописных цифр из набора данных MNIST\n",
    "\n",
    "<img src=\"http://img1.imagilive.com/0717/mnist-sample.png\">"
   ]
  },
  {
   "cell_type": "markdown",
   "metadata": {},
   "source": [
    "## Подключаем библиотеки"
   ]
  },
  {
   "cell_type": "code",
   "execution_count": 21,
   "metadata": {},
   "outputs": [],
   "source": [
    "import numpy\n",
    "from keras.datasets import mnist\n",
    "from keras.models import Sequential\n",
    "from keras.layers import Dense, Dropout, Flatten\n",
    "from keras.layers import Conv2D, MaxPooling2D\n",
    "from keras.utils import np_utils"
   ]
  },
  {
   "cell_type": "markdown",
   "metadata": {},
   "source": [
    "Устанавливаем seed для повторяемости результатов"
   ]
  },
  {
   "cell_type": "code",
   "execution_count": 2,
   "metadata": {
    "collapsed": true
   },
   "outputs": [],
   "source": [
    "numpy.random.seed(42)"
   ]
  },
  {
   "cell_type": "markdown",
   "metadata": {},
   "source": [
    "Загружаем данные"
   ]
  },
  {
   "cell_type": "code",
   "execution_count": 3,
   "metadata": {
    "collapsed": true
   },
   "outputs": [],
   "source": [
    "(X_train, y_train), (X_test, y_test) = mnist.load_data()"
   ]
  },
  {
   "cell_type": "markdown",
   "metadata": {},
   "source": [
    "Преобразование размерности изображений и нормализация данных"
   ]
  },
  {
   "cell_type": "code",
   "execution_count": 4,
   "metadata": {
    "collapsed": true
   },
   "outputs": [],
   "source": [
    "X_train = X_train.reshape(60000, 784)\n",
    "X_test = X_test.reshape(10000, 784)"
   ]
  },
  {
   "cell_type": "code",
   "execution_count": 5,
   "metadata": {
    "collapsed": true
   },
   "outputs": [],
   "source": [
    "X_train = X_train.astype('float32')\n",
    "X_test = X_test.astype('float32')\n",
    "X_train /= 255\n",
    "X_test /= 255"
   ]
  },
  {
   "cell_type": "markdown",
   "metadata": {},
   "source": [
    "Преобразуем метки в категории"
   ]
  },
  {
   "cell_type": "code",
   "execution_count": 6,
   "metadata": {
    "collapsed": true
   },
   "outputs": [],
   "source": [
    "Y_train = np_utils.to_categorical(y_train, 10)\n",
    "Y_test = np_utils.to_categorical(y_test, 10)"
   ]
  },
  {
   "cell_type": "markdown",
   "metadata": {},
   "source": [
    "Создаем последовательную модель"
   ]
  },
  {
   "cell_type": "code",
   "execution_count": 7,
   "metadata": {
    "collapsed": true
   },
   "outputs": [],
   "source": [
    "model = Sequential()"
   ]
  },
  {
   "cell_type": "markdown",
   "metadata": {},
   "source": [
    "Добавляем уровни сети"
   ]
  },
  {
   "cell_type": "code",
   "execution_count": 8,
   "metadata": {
    "collapsed": true
   },
   "outputs": [],
   "source": [
    "model.add(Dense(800, input_dim=784, activation=\"relu\", kernel_initializer=\"normal\"))\n",
    "model.add(Dense(10, activation=\"softmax\", kernel_initializer=\"normal\"))"
   ]
  },
  {
   "cell_type": "markdown",
   "metadata": {
    "collapsed": true
   },
   "source": [
    "Компилируем модель"
   ]
  },
  {
   "cell_type": "code",
   "execution_count": 9,
   "metadata": {
    "collapsed": true
   },
   "outputs": [],
   "source": [
    "model.compile(loss=\"categorical_crossentropy\", optimizer=\"SGD\", metrics=[\"accuracy\"])"
   ]
  },
  {
   "cell_type": "code",
   "execution_count": 10,
   "metadata": {},
   "outputs": [
    {
     "name": "stdout",
     "output_type": "stream",
     "text": [
      "_________________________________________________________________\n",
      "Layer (type)                 Output Shape              Param #   \n",
      "=================================================================\n",
      "dense_1 (Dense)              (None, 800)               628000    \n",
      "_________________________________________________________________\n",
      "dense_2 (Dense)              (None, 10)                8010      \n",
      "=================================================================\n",
      "Total params: 636,010\n",
      "Trainable params: 636,010\n",
      "Non-trainable params: 0\n",
      "_________________________________________________________________\n",
      "None\n"
     ]
    }
   ],
   "source": [
    "print(model.summary())"
   ]
  },
  {
   "cell_type": "markdown",
   "metadata": {},
   "source": [
    "Обучаем модель"
   ]
  },
  {
   "cell_type": "code",
   "execution_count": 11,
   "metadata": {},
   "outputs": [
    {
     "name": "stdout",
     "output_type": "stream",
     "text": [
      "Train on 48000 samples, validate on 12000 samples\n",
      "Epoch 1/100\n",
      " - 20s - loss: 1.3220 - acc: 0.6916 - val_loss: 0.7795 - val_acc: 0.8502\n",
      "Epoch 2/100\n",
      " - 11s - loss: 0.6730 - acc: 0.8522 - val_loss: 0.5376 - val_acc: 0.8732\n",
      "Epoch 3/100\n",
      " - 10s - loss: 0.5239 - acc: 0.8726 - val_loss: 0.4494 - val_acc: 0.8883\n",
      "Epoch 4/100\n",
      " - 10s - loss: 0.4561 - acc: 0.8836 - val_loss: 0.4033 - val_acc: 0.8976\n",
      "Epoch 5/100\n",
      " - 10s - loss: 0.4161 - acc: 0.8912 - val_loss: 0.3734 - val_acc: 0.9034\n",
      "Epoch 6/100\n",
      " - 12s - loss: 0.3889 - acc: 0.8961 - val_loss: 0.3530 - val_acc: 0.9062\n",
      "Epoch 7/100\n",
      " - 14s - loss: 0.3686 - acc: 0.9008 - val_loss: 0.3370 - val_acc: 0.9103\n",
      "Epoch 8/100\n",
      " - 12s - loss: 0.3528 - acc: 0.9039 - val_loss: 0.3249 - val_acc: 0.9113\n",
      "Epoch 9/100\n",
      " - 13s - loss: 0.3399 - acc: 0.9068 - val_loss: 0.3145 - val_acc: 0.9141\n",
      "Epoch 10/100\n",
      " - 16s - loss: 0.3289 - acc: 0.9095 - val_loss: 0.3061 - val_acc: 0.9165\n",
      "Epoch 11/100\n",
      " - 15s - loss: 0.3194 - acc: 0.9123 - val_loss: 0.2985 - val_acc: 0.9170\n",
      "Epoch 12/100\n",
      " - 14s - loss: 0.3110 - acc: 0.9143 - val_loss: 0.2916 - val_acc: 0.9202\n",
      "Epoch 13/100\n",
      " - 15s - loss: 0.3035 - acc: 0.9163 - val_loss: 0.2855 - val_acc: 0.9214\n",
      "Epoch 14/100\n",
      " - 16s - loss: 0.2967 - acc: 0.9180 - val_loss: 0.2795 - val_acc: 0.9235\n",
      "Epoch 15/100\n",
      " - 12s - loss: 0.2904 - acc: 0.9197 - val_loss: 0.2747 - val_acc: 0.9241\n",
      "Epoch 16/100\n",
      " - 15s - loss: 0.2844 - acc: 0.9214 - val_loss: 0.2702 - val_acc: 0.9264\n",
      "Epoch 17/100\n",
      " - 17s - loss: 0.2792 - acc: 0.9231 - val_loss: 0.2655 - val_acc: 0.9273\n",
      "Epoch 18/100\n",
      " - 15s - loss: 0.2741 - acc: 0.9242 - val_loss: 0.2611 - val_acc: 0.9291\n",
      "Epoch 19/100\n",
      " - 16s - loss: 0.2692 - acc: 0.9258 - val_loss: 0.2572 - val_acc: 0.9300\n",
      "Epoch 20/100\n",
      " - 14s - loss: 0.2646 - acc: 0.9271 - val_loss: 0.2533 - val_acc: 0.9307\n",
      "Epoch 21/100\n",
      " - 16s - loss: 0.2603 - acc: 0.9283 - val_loss: 0.2497 - val_acc: 0.9310\n",
      "Epoch 22/100\n",
      " - 15s - loss: 0.2560 - acc: 0.9296 - val_loss: 0.2464 - val_acc: 0.9319\n",
      "Epoch 23/100\n",
      " - 12s - loss: 0.2521 - acc: 0.9305 - val_loss: 0.2432 - val_acc: 0.9326\n",
      "Epoch 24/100\n",
      " - 12s - loss: 0.2482 - acc: 0.9311 - val_loss: 0.2406 - val_acc: 0.9338\n",
      "Epoch 25/100\n",
      " - 12s - loss: 0.2446 - acc: 0.9324 - val_loss: 0.2366 - val_acc: 0.9342\n",
      "Epoch 26/100\n",
      " - 12s - loss: 0.2410 - acc: 0.9335 - val_loss: 0.2345 - val_acc: 0.9349\n",
      "Epoch 27/100\n",
      " - 12s - loss: 0.2376 - acc: 0.9339 - val_loss: 0.2311 - val_acc: 0.9367\n",
      "Epoch 28/100\n",
      " - 14s - loss: 0.2343 - acc: 0.9350 - val_loss: 0.2282 - val_acc: 0.9366\n",
      "Epoch 29/100\n",
      " - 15s - loss: 0.2310 - acc: 0.9359 - val_loss: 0.2258 - val_acc: 0.9382\n",
      "Epoch 30/100\n",
      " - 13s - loss: 0.2279 - acc: 0.9371 - val_loss: 0.2232 - val_acc: 0.9384\n",
      "Epoch 31/100\n",
      " - 15s - loss: 0.2248 - acc: 0.9378 - val_loss: 0.2211 - val_acc: 0.9385\n",
      "Epoch 32/100\n",
      " - 14s - loss: 0.2219 - acc: 0.9383 - val_loss: 0.2187 - val_acc: 0.9391\n",
      "Epoch 33/100\n",
      " - 15s - loss: 0.2191 - acc: 0.9391 - val_loss: 0.2159 - val_acc: 0.9407\n",
      "Epoch 34/100\n",
      " - 16s - loss: 0.2164 - acc: 0.9398 - val_loss: 0.2136 - val_acc: 0.9420\n",
      "Epoch 35/100\n",
      " - 13s - loss: 0.2136 - acc: 0.9408 - val_loss: 0.2112 - val_acc: 0.9426\n",
      "Epoch 36/100\n",
      " - 15s - loss: 0.2110 - acc: 0.9415 - val_loss: 0.2090 - val_acc: 0.9434\n",
      "Epoch 37/100\n",
      " - 13s - loss: 0.2084 - acc: 0.9422 - val_loss: 0.2069 - val_acc: 0.9439\n",
      "Epoch 38/100\n",
      " - 14s - loss: 0.2060 - acc: 0.9428 - val_loss: 0.2049 - val_acc: 0.9450\n",
      "Epoch 39/100\n",
      " - 13s - loss: 0.2035 - acc: 0.9435 - val_loss: 0.2029 - val_acc: 0.9447\n",
      "Epoch 40/100\n",
      " - 13s - loss: 0.2011 - acc: 0.9440 - val_loss: 0.2007 - val_acc: 0.9454\n",
      "Epoch 41/100\n",
      " - 17s - loss: 0.1987 - acc: 0.9450 - val_loss: 0.1990 - val_acc: 0.9459\n",
      "Epoch 42/100\n",
      " - 14s - loss: 0.1964 - acc: 0.9456 - val_loss: 0.1970 - val_acc: 0.9467\n",
      "Epoch 43/100\n",
      " - 15s - loss: 0.1941 - acc: 0.9459 - val_loss: 0.1951 - val_acc: 0.9467\n",
      "Epoch 44/100\n",
      " - 16s - loss: 0.1920 - acc: 0.9466 - val_loss: 0.1938 - val_acc: 0.9477\n",
      "Epoch 45/100\n",
      " - 14s - loss: 0.1899 - acc: 0.9473 - val_loss: 0.1917 - val_acc: 0.9489\n",
      "Epoch 46/100\n",
      " - 17s - loss: 0.1878 - acc: 0.9482 - val_loss: 0.1901 - val_acc: 0.9489\n",
      "Epoch 47/100\n",
      " - 15s - loss: 0.1857 - acc: 0.9489 - val_loss: 0.1883 - val_acc: 0.9497\n",
      "Epoch 48/100\n",
      " - 12s - loss: 0.1838 - acc: 0.9491 - val_loss: 0.1867 - val_acc: 0.9497\n",
      "Epoch 49/100\n",
      " - 14s - loss: 0.1817 - acc: 0.9498 - val_loss: 0.1851 - val_acc: 0.9502\n",
      "Epoch 50/100\n",
      " - 16s - loss: 0.1799 - acc: 0.9500 - val_loss: 0.1837 - val_acc: 0.9508\n",
      "Epoch 51/100\n",
      " - 15s - loss: 0.1780 - acc: 0.9508 - val_loss: 0.1821 - val_acc: 0.9508\n",
      "Epoch 52/100\n",
      " - 15s - loss: 0.1761 - acc: 0.9515 - val_loss: 0.1806 - val_acc: 0.9512\n",
      "Epoch 53/100\n",
      " - 14s - loss: 0.1744 - acc: 0.9515 - val_loss: 0.1791 - val_acc: 0.9517\n",
      "Epoch 54/100\n",
      " - 16s - loss: 0.1726 - acc: 0.9520 - val_loss: 0.1778 - val_acc: 0.9524\n",
      "Epoch 55/100\n",
      " - 16s - loss: 0.1708 - acc: 0.9525 - val_loss: 0.1763 - val_acc: 0.9532\n",
      "Epoch 56/100\n",
      " - 15s - loss: 0.1692 - acc: 0.9531 - val_loss: 0.1749 - val_acc: 0.9536\n",
      "Epoch 57/100\n",
      " - 16s - loss: 0.1674 - acc: 0.9532 - val_loss: 0.1737 - val_acc: 0.9537\n",
      "Epoch 58/100\n",
      " - 16s - loss: 0.1659 - acc: 0.9537 - val_loss: 0.1722 - val_acc: 0.9532\n",
      "Epoch 59/100\n",
      " - 16s - loss: 0.1643 - acc: 0.9539 - val_loss: 0.1711 - val_acc: 0.9537\n",
      "Epoch 60/100\n",
      " - 14s - loss: 0.1627 - acc: 0.9544 - val_loss: 0.1698 - val_acc: 0.9541\n",
      "Epoch 61/100\n",
      " - 16s - loss: 0.1611 - acc: 0.9548 - val_loss: 0.1685 - val_acc: 0.9543\n",
      "Epoch 62/100\n",
      " - 13s - loss: 0.1595 - acc: 0.9557 - val_loss: 0.1676 - val_acc: 0.9552\n",
      "Epoch 63/100\n",
      " - 14s - loss: 0.1580 - acc: 0.9558 - val_loss: 0.1666 - val_acc: 0.9542\n",
      "Epoch 64/100\n",
      " - 13s - loss: 0.1566 - acc: 0.9560 - val_loss: 0.1654 - val_acc: 0.9553\n",
      "Epoch 65/100\n",
      " - 16s - loss: 0.1552 - acc: 0.9567 - val_loss: 0.1640 - val_acc: 0.9557\n",
      "Epoch 66/100\n",
      " - 17s - loss: 0.1538 - acc: 0.9573 - val_loss: 0.1627 - val_acc: 0.9557\n",
      "Epoch 67/100\n",
      " - 14s - loss: 0.1524 - acc: 0.9576 - val_loss: 0.1616 - val_acc: 0.9558\n",
      "Epoch 68/100\n",
      " - 14s - loss: 0.1510 - acc: 0.9581 - val_loss: 0.1609 - val_acc: 0.9567\n",
      "Epoch 69/100\n",
      " - 14s - loss: 0.1495 - acc: 0.9589 - val_loss: 0.1598 - val_acc: 0.9568\n",
      "Epoch 70/100\n",
      " - 15s - loss: 0.1483 - acc: 0.9590 - val_loss: 0.1584 - val_acc: 0.9563\n",
      "Epoch 71/100\n",
      " - 16s - loss: 0.1470 - acc: 0.9594 - val_loss: 0.1573 - val_acc: 0.9568\n",
      "Epoch 72/100\n",
      " - 15s - loss: 0.1457 - acc: 0.9598 - val_loss: 0.1566 - val_acc: 0.9578\n",
      "Epoch 73/100\n",
      " - 17s - loss: 0.1444 - acc: 0.9602 - val_loss: 0.1556 - val_acc: 0.9582\n",
      "Epoch 74/100\n",
      " - 15s - loss: 0.1431 - acc: 0.9606 - val_loss: 0.1549 - val_acc: 0.9583\n",
      "Epoch 75/100\n",
      " - 18s - loss: 0.1420 - acc: 0.9612 - val_loss: 0.1533 - val_acc: 0.9582\n",
      "Epoch 76/100\n",
      " - 16s - loss: 0.1408 - acc: 0.9615 - val_loss: 0.1525 - val_acc: 0.9581\n",
      "Epoch 77/100\n",
      " - 14s - loss: 0.1395 - acc: 0.9617 - val_loss: 0.1517 - val_acc: 0.9587\n",
      "Epoch 78/100\n",
      " - 14s - loss: 0.1384 - acc: 0.9621 - val_loss: 0.1509 - val_acc: 0.9587\n",
      "Epoch 79/100\n",
      " - 12s - loss: 0.1372 - acc: 0.9628 - val_loss: 0.1498 - val_acc: 0.9593\n",
      "Epoch 80/100\n",
      " - 15s - loss: 0.1361 - acc: 0.9629 - val_loss: 0.1489 - val_acc: 0.9598\n",
      "Epoch 81/100\n",
      " - 19s - loss: 0.1349 - acc: 0.9635 - val_loss: 0.1482 - val_acc: 0.9597\n",
      "Epoch 82/100\n",
      " - 18s - loss: 0.1339 - acc: 0.9635 - val_loss: 0.1472 - val_acc: 0.9599\n",
      "Epoch 83/100\n",
      " - 21s - loss: 0.1328 - acc: 0.9641 - val_loss: 0.1464 - val_acc: 0.9600\n",
      "Epoch 84/100\n",
      " - 16s - loss: 0.1317 - acc: 0.9644 - val_loss: 0.1457 - val_acc: 0.9599\n",
      "Epoch 85/100\n",
      " - 17s - loss: 0.1307 - acc: 0.9643 - val_loss: 0.1445 - val_acc: 0.9607\n",
      "Epoch 86/100\n",
      " - 15s - loss: 0.1297 - acc: 0.9650 - val_loss: 0.1442 - val_acc: 0.9605\n",
      "Epoch 87/100\n",
      " - 13s - loss: 0.1285 - acc: 0.9652 - val_loss: 0.1435 - val_acc: 0.9609\n",
      "Epoch 88/100\n",
      " - 14s - loss: 0.1276 - acc: 0.9655 - val_loss: 0.1428 - val_acc: 0.9608\n",
      "Epoch 89/100\n",
      " - 15s - loss: 0.1266 - acc: 0.9659 - val_loss: 0.1418 - val_acc: 0.9616\n",
      "Epoch 90/100\n",
      " - 15s - loss: 0.1256 - acc: 0.9658 - val_loss: 0.1411 - val_acc: 0.9619\n",
      "Epoch 91/100\n",
      " - 15s - loss: 0.1247 - acc: 0.9663 - val_loss: 0.1404 - val_acc: 0.9618\n",
      "Epoch 92/100\n",
      " - 14s - loss: 0.1237 - acc: 0.9667 - val_loss: 0.1395 - val_acc: 0.9619\n",
      "Epoch 93/100\n",
      " - 15s - loss: 0.1228 - acc: 0.9668 - val_loss: 0.1390 - val_acc: 0.9619\n",
      "Epoch 94/100\n",
      " - 12s - loss: 0.1219 - acc: 0.9671 - val_loss: 0.1384 - val_acc: 0.9623\n",
      "Epoch 95/100\n",
      " - 15s - loss: 0.1210 - acc: 0.9674 - val_loss: 0.1375 - val_acc: 0.9625\n"
     ]
    },
    {
     "name": "stdout",
     "output_type": "stream",
     "text": [
      "Epoch 96/100\n",
      " - 16s - loss: 0.1201 - acc: 0.9675 - val_loss: 0.1369 - val_acc: 0.9628\n",
      "Epoch 97/100\n",
      " - 14s - loss: 0.1191 - acc: 0.9682 - val_loss: 0.1361 - val_acc: 0.9628\n",
      "Epoch 98/100\n",
      " - 17s - loss: 0.1183 - acc: 0.9682 - val_loss: 0.1355 - val_acc: 0.9628\n",
      "Epoch 99/100\n",
      " - 15s - loss: 0.1174 - acc: 0.9682 - val_loss: 0.1350 - val_acc: 0.9629\n",
      "Epoch 100/100\n",
      " - 15s - loss: 0.1165 - acc: 0.9686 - val_loss: 0.1345 - val_acc: 0.9633\n"
     ]
    },
    {
     "data": {
      "text/plain": [
       "<keras.callbacks.History at 0x20fb854e668>"
      ]
     },
     "execution_count": 11,
     "metadata": {},
     "output_type": "execute_result"
    }
   ],
   "source": [
    "model.fit(X_train, Y_train, batch_size=200, epochs=100, validation_split=0.2, verbose=2)"
   ]
  },
  {
   "cell_type": "markdown",
   "metadata": {},
   "source": [
    "Оцениваем качество обучения сети на тестовых данных"
   ]
  },
  {
   "cell_type": "code",
   "execution_count": 12,
   "metadata": {},
   "outputs": [
    {
     "name": "stdout",
     "output_type": "stream",
     "text": [
      "Точность работы на тестовых данных: 96.20%\n"
     ]
    }
   ],
   "source": [
    "scores = model.evaluate(X_test, Y_test, verbose=0)\n",
    "print(\"Точность работы на тестовых данных: %.2f%%\" % (scores[1]*100))"
   ]
  },
  {
   "cell_type": "markdown",
   "metadata": {},
   "source": [
    "Попробуем улучшить модель"
   ]
  },
  {
   "cell_type": "markdown",
   "metadata": {},
   "source": [
    "Мы будем использовать сверточную нейронную сеть, которая состоит из 6 слоев:\n",
    "\n",
    "    Слой свертки, 75 карт признаков, размер ядра свертки: 5х5.\n",
    "    Слой подвыборки, размер пула 2х2.\n",
    "    Слой свертки, 100 карт признаков, размер ядра свертки 5х5.\n",
    "    Слой подвыборки, размер пула 2х2.\n",
    "    Полносвязный слой, 500 нейронов.\n",
    "    Полносвязный выходной слой, 10 нейронов, которые соответствуют классам рукописных цифр от 0 до 9.\n"
   ]
  },
  {
   "cell_type": "markdown",
   "metadata": {},
   "source": [
    "Размер изображения"
   ]
  },
  {
   "cell_type": "code",
   "execution_count": 13,
   "metadata": {
    "collapsed": true
   },
   "outputs": [],
   "source": [
    "img_rows, img_cols = 28, 28"
   ]
  },
  {
   "cell_type": "markdown",
   "metadata": {},
   "source": [
    "Загрузим данные"
   ]
  },
  {
   "cell_type": "code",
   "execution_count": 14,
   "metadata": {
    "collapsed": true
   },
   "outputs": [],
   "source": [
    "(X_train, y_train), (X_test, y_test) = mnist.load_data()"
   ]
  },
  {
   "cell_type": "markdown",
   "metadata": {},
   "source": [
    "Преобразование размерности изображений"
   ]
  },
  {
   "cell_type": "code",
   "execution_count": 15,
   "metadata": {
    "collapsed": true
   },
   "outputs": [],
   "source": [
    "X_train = X_train.reshape(X_train.shape[0], img_rows, img_cols, 1)\n",
    "X_test = X_test.reshape(X_test.shape[0], img_rows, img_cols, 1)\n",
    "input_shape = (img_rows, img_cols, 1)"
   ]
  },
  {
   "cell_type": "markdown",
   "metadata": {},
   "source": [
    "Нормализация данных"
   ]
  },
  {
   "cell_type": "code",
   "execution_count": 16,
   "metadata": {
    "collapsed": true
   },
   "outputs": [],
   "source": [
    "X_train = X_train.astype('float32')\n",
    "X_test = X_test.astype('float32')\n",
    "X_train /= 255\n",
    "X_test /= 255"
   ]
  },
  {
   "cell_type": "markdown",
   "metadata": {},
   "source": [
    "Преобразуем метки в категории"
   ]
  },
  {
   "cell_type": "code",
   "execution_count": 17,
   "metadata": {
    "collapsed": true
   },
   "outputs": [],
   "source": [
    "Y_train = np_utils.to_categorical(y_train, 10)\n",
    "Y_test = np_utils.to_categorical(y_test, 10)"
   ]
  },
  {
   "cell_type": "markdown",
   "metadata": {},
   "source": [
    "Создаем последовательную модель"
   ]
  },
  {
   "cell_type": "code",
   "execution_count": 18,
   "metadata": {
    "collapsed": true
   },
   "outputs": [],
   "source": [
    "model = Sequential()"
   ]
  },
  {
   "cell_type": "code",
   "execution_count": 22,
   "metadata": {},
   "outputs": [],
   "source": [
    "model.add(Conv2D(75, kernel_size=(5, 5),\n",
    "                 activation='relu',\n",
    "                 input_shape=input_shape))\n",
    "model.add(MaxPooling2D(pool_size=(2, 2)))\n",
    "model.add(Dropout(0.2))\n",
    "model.add(Conv2D(100, (5, 5), activation='relu'))\n",
    "model.add(MaxPooling2D(pool_size=(2, 2)))\n",
    "model.add(Dropout(0.2))\n",
    "model.add(Flatten())\n",
    "model.add(Dense(500, activation='relu'))\n",
    "model.add(Dropout(0.5))\n",
    "model.add(Dense(10, activation='softmax'))"
   ]
  },
  {
   "cell_type": "markdown",
   "metadata": {},
   "source": [
    "Компилируем модель"
   ]
  },
  {
   "cell_type": "code",
   "execution_count": 23,
   "metadata": {},
   "outputs": [
    {
     "name": "stdout",
     "output_type": "stream",
     "text": [
      "_________________________________________________________________\n",
      "Layer (type)                 Output Shape              Param #   \n",
      "=================================================================\n",
      "conv2d_1 (Conv2D)            (None, 24, 24, 75)        1950      \n",
      "_________________________________________________________________\n",
      "max_pooling2d_1 (MaxPooling2 (None, 12, 12, 75)        0         \n",
      "_________________________________________________________________\n",
      "dropout_1 (Dropout)          (None, 12, 12, 75)        0         \n",
      "_________________________________________________________________\n",
      "conv2d_2 (Conv2D)            (None, 8, 8, 100)         187600    \n",
      "_________________________________________________________________\n",
      "max_pooling2d_2 (MaxPooling2 (None, 4, 4, 100)         0         \n",
      "_________________________________________________________________\n",
      "dropout_2 (Dropout)          (None, 4, 4, 100)         0         \n",
      "_________________________________________________________________\n",
      "flatten_1 (Flatten)          (None, 1600)              0         \n",
      "_________________________________________________________________\n",
      "dense_3 (Dense)              (None, 500)               800500    \n",
      "_________________________________________________________________\n",
      "dropout_3 (Dropout)          (None, 500)               0         \n",
      "_________________________________________________________________\n",
      "dense_4 (Dense)              (None, 10)                5010      \n",
      "=================================================================\n",
      "Total params: 995,060\n",
      "Trainable params: 995,060\n",
      "Non-trainable params: 0\n",
      "_________________________________________________________________\n",
      "None\n"
     ]
    }
   ],
   "source": [
    "model.compile(loss=\"categorical_crossentropy\", optimizer=\"adam\", metrics=[\"accuracy\"])\n",
    "\n",
    "print(model.summary())"
   ]
  },
  {
   "cell_type": "markdown",
   "metadata": {},
   "source": [
    "Обучаем сеть"
   ]
  },
  {
   "cell_type": "code",
   "execution_count": 24,
   "metadata": {},
   "outputs": [
    {
     "name": "stdout",
     "output_type": "stream",
     "text": [
      "Train on 48000 samples, validate on 12000 samples\n",
      "Epoch 1/10\n",
      " - 556s - loss: 0.2510 - acc: 0.9216 - val_loss: 0.0594 - val_acc: 0.9817\n",
      "Epoch 2/10\n",
      " - 564s - loss: 0.0671 - acc: 0.9793 - val_loss: 0.0513 - val_acc: 0.9845\n",
      "Epoch 3/10\n",
      " - 557s - loss: 0.0475 - acc: 0.9852 - val_loss: 0.0369 - val_acc: 0.9897\n",
      "Epoch 4/10\n",
      " - 602s - loss: 0.0380 - acc: 0.9881 - val_loss: 0.0369 - val_acc: 0.9888\n",
      "Epoch 5/10\n",
      " - 488s - loss: 0.0306 - acc: 0.9897 - val_loss: 0.0366 - val_acc: 0.9897\n",
      "Epoch 6/10\n",
      " - 518s - loss: 0.0266 - acc: 0.9915 - val_loss: 0.0288 - val_acc: 0.9920\n",
      "Epoch 7/10\n",
      " - 564s - loss: 0.0225 - acc: 0.9928 - val_loss: 0.0273 - val_acc: 0.9929\n",
      "Epoch 8/10\n",
      " - 452s - loss: 0.0201 - acc: 0.9933 - val_loss: 0.0299 - val_acc: 0.9918\n",
      "Epoch 9/10\n",
      " - 526s - loss: 0.0182 - acc: 0.9941 - val_loss: 0.0301 - val_acc: 0.9923\n",
      "Epoch 10/10\n",
      " - 612s - loss: 0.0189 - acc: 0.9939 - val_loss: 0.0273 - val_acc: 0.9931\n"
     ]
    },
    {
     "data": {
      "text/plain": [
       "<keras.callbacks.History at 0x20fc7e46eb8>"
      ]
     },
     "execution_count": 24,
     "metadata": {},
     "output_type": "execute_result"
    }
   ],
   "source": [
    "model.fit(X_train, Y_train, batch_size=200, epochs=10, validation_split=0.2, verbose=2)"
   ]
  },
  {
   "cell_type": "markdown",
   "metadata": {},
   "source": [
    "Оцениваем качество обучения сети на тестовых данных"
   ]
  },
  {
   "cell_type": "code",
   "execution_count": 25,
   "metadata": {},
   "outputs": [
    {
     "name": "stdout",
     "output_type": "stream",
     "text": [
      "Точность работы на тестовых данных: 99.42%\n"
     ]
    }
   ],
   "source": [
    "scores = model.evaluate(X_test, Y_test, verbose=0)\n",
    "print(\"Точность работы на тестовых данных: %.2f%%\" % (scores[1]*100))"
   ]
  }
 ],
 "metadata": {
  "kernelspec": {
   "display_name": "Python 3",
   "language": "python",
   "name": "python3"
  },
  "language_info": {
   "codemirror_mode": {
    "name": "ipython",
    "version": 3
   },
   "file_extension": ".py",
   "mimetype": "text/x-python",
   "name": "python",
   "nbconvert_exporter": "python",
   "pygments_lexer": "ipython3",
   "version": "3.6.2"
  }
 },
 "nbformat": 4,
 "nbformat_minor": 2
}
