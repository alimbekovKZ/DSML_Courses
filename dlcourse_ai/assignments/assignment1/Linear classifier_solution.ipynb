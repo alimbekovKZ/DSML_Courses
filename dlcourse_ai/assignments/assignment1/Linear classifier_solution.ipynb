{
 "cells": [
  {
   "cell_type": "markdown",
   "metadata": {},
   "source": [
    "# Задание 1.2 - Линейный классификатор (Linear classifier)\n",
    "\n",
    "В этом задании мы реализуем другую модель машинного обучения - линейный классификатор. Линейный классификатор подбирает для каждого класса веса, на которые нужно умножить значение каждого признака и потом сложить вместе.\n",
    "Тот класс, у которого эта сумма больше, и является предсказанием модели.\n",
    "\n",
    "В этом задании вы:\n",
    "- потренируетесь считать градиенты различных многомерных функций\n",
    "- реализуете подсчет градиентов через линейную модель и функцию потерь softmax\n",
    "- реализуете процесс тренировки линейного классификатора\n",
    "- подберете параметры тренировки на практике\n",
    "\n",
    "На всякий случай, еще раз ссылка на туториал по numpy:  \n",
    "http://cs231n.github.io/python-numpy-tutorial/"
   ]
  },
  {
   "cell_type": "code",
   "execution_count": 1,
   "metadata": {
    "collapsed": true
   },
   "outputs": [],
   "source": [
    "import numpy as np\n",
    "import matplotlib.pyplot as plt\n",
    "\n",
    "%matplotlib inline\n",
    "\n",
    "%load_ext autoreload\n",
    "%autoreload 2"
   ]
  },
  {
   "cell_type": "code",
   "execution_count": 8,
   "metadata": {},
   "outputs": [],
   "source": [
    "from dataset import load_svhn, random_split_train_val\n",
    "from gradient_check import check_gradient\n",
    "from metrics import multiclass_accuracy \n",
    "import linear_classifer"
   ]
  },
  {
   "cell_type": "markdown",
   "metadata": {},
   "source": [
    "# Как всегда, первым делом загружаем данные\n",
    "\n",
    "Мы будем использовать все тот же SVHN."
   ]
  },
  {
   "cell_type": "code",
   "execution_count": 3,
   "metadata": {
    "collapsed": true
   },
   "outputs": [],
   "source": [
    "def prepare_for_linear_classifier(train_X, test_X):\n",
    "    train_flat = train_X.reshape(train_X.shape[0], -1).astype(np.float) / 255.0\n",
    "    test_flat = test_X.reshape(test_X.shape[0], -1).astype(np.float) / 255.0\n",
    "    \n",
    "    # Subtract mean\n",
    "    mean_image = np.mean(train_flat, axis = 0)\n",
    "    train_flat -= mean_image\n",
    "    test_flat -= mean_image\n",
    "    \n",
    "    # Add another channel with ones as a bias term\n",
    "    train_flat_with_ones = np.hstack([train_flat, np.ones((train_X.shape[0], 1))])\n",
    "    test_flat_with_ones = np.hstack([test_flat, np.ones((test_X.shape[0], 1))])    \n",
    "    return train_flat_with_ones, test_flat_with_ones\n",
    "    \n",
    "train_X, train_y, test_X, test_y = load_svhn(\"data\", max_train=10000, max_test=1000)    \n",
    "train_X, test_X = prepare_for_linear_classifier(train_X, test_X)\n",
    "# Split train into train and val\n",
    "train_X, train_y, val_X, val_y = random_split_train_val(train_X, train_y, num_val = 1000)"
   ]
  },
  {
   "cell_type": "markdown",
   "metadata": {},
   "source": [
    "# Играемся с градиентами!\n",
    "\n",
    "В этом курсе мы будем писать много функций, которые вычисляют градиенты аналитическим методом.\n",
    "\n",
    "Все функции, в которых мы будем вычислять градиенты будут написаны по одной и той же схеме.  \n",
    "Они будут получать на вход точку, где нужно вычислить значение и градиент функции, а на выходе будут выдавать кортеж (tuple) из двух значений - собственно значения функции в этой точке (всегда одно число) и аналитического значения градиента в той же точке (той же размерности, что и вход).\n",
    "```\n",
    "def f(x):\n",
    "    \"\"\"\n",
    "    Computes function and analytic gradient at x\n",
    "    \n",
    "    x: np array of float, input to the function\n",
    "    \n",
    "    Returns:\n",
    "    value: float, value of the function \n",
    "    grad: np array of float, same shape as x\n",
    "    \"\"\"\n",
    "    ...\n",
    "    \n",
    "    return value, grad\n",
    "```\n",
    "\n",
    "Необходимым инструментом во время реализации кода, вычисляющего градиенты, является функция его проверки. Эта функция вычисляет градиент численным методом и сверяет результат с градиентом, вычисленным аналитическим методом.\n",
    "\n",
    "Мы начнем с того, чтобы реализовать вычисление численного градиента (numeric gradient) в функции `check_gradient` в `gradient_check.py`. Эта функция будет принимать на вход функции формата, заданного выше, использовать значение `value` для вычисления численного градиента и сравнит его с аналитическим - они должны сходиться.\n",
    "\n",
    "Напишите часть функции, которая вычисляет градиент с помощью численной производной для каждой координаты. Для вычисления производной используйте так называемую two-point formula (https://en.wikipedia.org/wiki/Numerical_differentiation):\n",
    "\n",
    "![image](https://wikimedia.org/api/rest_v1/media/math/render/svg/22fc2c0a66c63560a349604f8b6b39221566236d)\n",
    "\n",
    "Все функции приведенные в следующей клетке должны проходить gradient check."
   ]
  },
  {
   "cell_type": "code",
   "execution_count": 6,
   "metadata": {
    "scrolled": true
   },
   "outputs": [
    {
     "name": "stdout",
     "output_type": "stream",
     "text": [
      "Gradient check passed!\n",
      "Gradient check passed!\n",
      "Gradient check passed!\n"
     ]
    },
    {
     "data": {
      "text/plain": [
       "True"
      ]
     },
     "execution_count": 6,
     "metadata": {},
     "output_type": "execute_result"
    }
   ],
   "source": [
    "# TODO: Implement check_gradient function in gradient_check.py\n",
    "# All the functions below should pass the gradient check\n",
    "\n",
    "def square(x):\n",
    "    return float(x*x), 2*x\n",
    "\n",
    "check_gradient(square, np.array([3.0]))\n",
    "\n",
    "def array_sum(x):\n",
    "    assert x.shape == (2,), x.shape\n",
    "    return np.sum(x), np.ones_like(x)\n",
    "\n",
    "check_gradient(array_sum, np.array([3.0, 2.0]))\n",
    "\n",
    "def array_2d_sum(x):\n",
    "    assert x.shape == (2,2)\n",
    "    return np.sum(x), np.ones_like(x)\n",
    "\n",
    "check_gradient(array_2d_sum, np.array([[3.0, 2.0], [1.0, 0.0]]))"
   ]
  },
  {
   "cell_type": "markdown",
   "metadata": {},
   "source": [
    "## Начинаем писать свои функции, считающие аналитический градиент\n",
    "\n",
    "Теперь реализуем функцию softmax, которая получает на вход оценки для каждого класса и преобразует их в вероятности от 0 до 1:\n",
    "![image](https://wikimedia.org/api/rest_v1/media/math/render/svg/e348290cf48ddbb6e9a6ef4e39363568b67c09d3)\n",
    "\n",
    "**Важно:** Практический аспект вычисления этой функции заключается в том, что в ней учавствует вычисление экспоненты от потенциально очень больших чисел - это может привести к очень большим значениям в числителе и знаменателе за пределами диапазона float.\n",
    "\n",
    "К счастью, у этой проблемы есть простое решение -- перед вычислением softmax вычесть из всех оценок максимальное значение среди всех оценок:\n",
    "```\n",
    "predictions -= np.max(predictions)\n",
    "```\n",
    "(подробнее здесь - http://cs231n.github.io/linear-classify/#softmax, секция `Practical issues: Numeric stability`)"
   ]
  },
  {
   "cell_type": "code",
   "execution_count": 9,
   "metadata": {},
   "outputs": [],
   "source": [
    "# TODO Implement softmax and cross-entropy for single sample\n",
    "probs = linear_classifer.softmax(np.array([-10, 0, 10]))\n",
    "\n",
    "# Make sure it works for big numbers too!\n",
    "probs = linear_classifer.softmax(np.array([1000, 0, 0]))\n",
    "assert np.isclose(probs[0], 1.0)"
   ]
  },
  {
   "cell_type": "markdown",
   "metadata": {},
   "source": [
    "Кроме этого, мы реализуем cross-entropy loss, которую мы будем использовать как функцию ошибки (error function).\n",
    "В общем виде cross-entropy определена следующим образом:\n",
    "![image](https://wikimedia.org/api/rest_v1/media/math/render/svg/0cb6da032ab424eefdca0884cd4113fe578f4293)\n",
    "\n",
    "где x - все классы, p(x) - истинная вероятность принадлежности сэмпла классу x, а q(x) - вероятность принадлежности классу x, предсказанная моделью.  \n",
    "В нашем случае сэмпл принадлежит только одному классу, индекс которого передается функции. Для него p(x) равна 1, а для остальных классов - 0. \n",
    "\n",
    "Это позволяет реализовать функцию проще!"
   ]
  },
  {
   "cell_type": "code",
   "execution_count": 10,
   "metadata": {},
   "outputs": [
    {
     "data": {
      "text/plain": [
       "5.0067604435471216"
      ]
     },
     "execution_count": 10,
     "metadata": {},
     "output_type": "execute_result"
    }
   ],
   "source": [
    "probs = linear_classifer.softmax(np.array([-5, 0, 5]))\n",
    "linear_classifer.cross_entropy_loss(probs, 1)"
   ]
  },
  {
   "cell_type": "markdown",
   "metadata": {},
   "source": [
    "После того как мы реализовали сами функции, мы можем реализовать градиент.\n",
    "\n",
    "Оказывается, что вычисление градиента становится гораздо проще, если объединить эти функции в одну, которая сначала вычисляет вероятности через softmax, а потом использует их для вычисления функции ошибки через cross-entropy loss.\n",
    "\n",
    "Эта функция `softmax_with_cross_entropy` будет возвращает и значение ошибки, и градиент по входным параметрам. Мы проверим корректность реализации с помощью `check_gradient`."
   ]
  },
  {
   "cell_type": "code",
   "execution_count": 11,
   "metadata": {},
   "outputs": [
    {
     "name": "stdout",
     "output_type": "stream",
     "text": [
      "Gradient check passed!\n"
     ]
    },
    {
     "data": {
      "text/plain": [
       "True"
      ]
     },
     "execution_count": 11,
     "metadata": {},
     "output_type": "execute_result"
    }
   ],
   "source": [
    "# TODO Implement combined function or softmax and cross entropy and produces gradient\n",
    "loss, grad = linear_classifer.softmax_with_cross_entropy(np.array([1, 0, 0]), 1)\n",
    "check_gradient(lambda x: linear_classifer.softmax_with_cross_entropy(x, 1), np.array([1, 0, 0], np.float))"
   ]
  },
  {
   "cell_type": "markdown",
   "metadata": {},
   "source": [
    "В качестве метода тренировки мы будем использовать стохастический градиентный спуск (stochastic gradient descent или SGD), который работает с батчами сэмплов. \n",
    "\n",
    "Поэтому все наши фукнции будут получать не один пример, а батч, то есть входом будет не вектор из `num_classes` оценок, а матрица размерности `batch_size, num_classes`. Индекс примера в батче всегда будет первым измерением.\n",
    "\n",
    "Следующий шаг - переписать наши функции так, чтобы они поддерживали батчи.\n",
    "\n",
    "Финальное значение функции ошибки должно остаться числом, и оно равно среднему значению ошибки среди всех примеров в батче."
   ]
  },
  {
   "cell_type": "code",
   "execution_count": 13,
   "metadata": {
    "scrolled": false
   },
   "outputs": [
    {
     "name": "stdout",
     "output_type": "stream",
     "text": [
      "Gradient check passed!\n",
      "Gradient check passed!\n"
     ]
    },
    {
     "data": {
      "text/plain": [
       "True"
      ]
     },
     "execution_count": 13,
     "metadata": {},
     "output_type": "execute_result"
    }
   ],
   "source": [
    "# TODO Extend combined function so it can receive a 2d array with batch of samples\n",
    "np.random.seed(42)\n",
    "# Test batch_size = 1\n",
    "num_classes = 4\n",
    "batch_size = 1\n",
    "predictions = np.random.randint(-1, 3, size=(batch_size, num_classes)).astype(np.float)\n",
    "target_index = np.random.randint(0, num_classes, size=(batch_size, 1)).astype(np.int)\n",
    "check_gradient(lambda x: linear_classifer.softmax_with_cross_entropy(x, target_index), predictions)\n",
    "\n",
    "# Test batch_size = 3\n",
    "batch_size = 3\n",
    "predictions = np.zeros((batch_size, 3))\n",
    "target_index = np.ones(batch_size, np.int)\n",
    "check_gradient(lambda x: linear_classifer.softmax_with_cross_entropy(x, target_index), predictions)"
   ]
  },
  {
   "cell_type": "markdown",
   "metadata": {},
   "source": [
    "### Наконец, реализуем сам линейный классификатор!\n",
    "\n",
    "softmax и cross-entropy получают на вход оценки, которые выдает линейный классификатор.\n",
    "\n",
    "Он делает это очень просто: для каждого класса есть набор весов, на которые надо умножить пиксели картинки и сложить. Получившееся число и является оценкой класса, идущей на вход softmax.\n",
    "\n",
    "Таким образом, линейный классификатор можно представить как умножение вектора с пикселями на матрицу W размера `num_features, num_classes`. Такой подход легко расширяется на случай батча векторов с пикселями X размера `batch_size, num_features`:\n",
    "\n",
    "`predictions = X * W`, где `*` - матричное умножение.\n",
    "\n",
    "Реализуйте функцию подсчета линейного классификатора и градиентов по весам `linear_softmax` в файле `linear_classifer.py`"
   ]
  },
  {
   "cell_type": "code",
   "execution_count": 14,
   "metadata": {},
   "outputs": [
    {
     "name": "stdout",
     "output_type": "stream",
     "text": [
      "Gradient check passed!\n"
     ]
    },
    {
     "data": {
      "text/plain": [
       "True"
      ]
     },
     "execution_count": 14,
     "metadata": {},
     "output_type": "execute_result"
    }
   ],
   "source": [
    "# TODO Implement linear_softmax function that uses softmax with cross-entropy for linear classifier\n",
    "batch_size = 2\n",
    "num_classes = 2\n",
    "num_features = 3\n",
    "np.random.seed(42)\n",
    "W = np.random.randint(-1, 3, size=(num_features, num_classes)).astype(np.float)\n",
    "X = np.random.randint(-1, 3, size=(batch_size, num_features)).astype(np.float)\n",
    "target_index = np.ones(batch_size, dtype=np.int)\n",
    "\n",
    "loss, dW = linear_classifer.linear_softmax(X, W, target_index)\n",
    "check_gradient(lambda w: linear_classifer.linear_softmax(X, w, target_index), W)"
   ]
  },
  {
   "cell_type": "markdown",
   "metadata": {},
   "source": [
    "### И теперь регуляризация\n",
    "\n",
    "Мы будем использовать L2 regularization для весов как часть общей функции ошибки.\n",
    "\n",
    "Напомним, L2 regularization определяется как\n",
    "\n",
    "l2_reg_loss = regularization_strength * sum<sub>ij</sub> W[i, j]<sup>2</sup>\n",
    "\n",
    "Реализуйте функцию для его вычисления и вычисления соотвествующих градиентов."
   ]
  },
  {
   "cell_type": "code",
   "execution_count": 15,
   "metadata": {},
   "outputs": [
    {
     "name": "stdout",
     "output_type": "stream",
     "text": [
      "Gradient check passed!\n"
     ]
    },
    {
     "data": {
      "text/plain": [
       "True"
      ]
     },
     "execution_count": 15,
     "metadata": {},
     "output_type": "execute_result"
    }
   ],
   "source": [
    "# TODO Implement l2_regularization function that implements loss for L2 regularization\n",
    "linear_classifer.l2_regularization(W, 0.01)\n",
    "check_gradient(lambda w: linear_classifer.l2_regularization(w, 0.01), W)"
   ]
  },
  {
   "cell_type": "markdown",
   "metadata": {},
   "source": [
    "# Тренировка!"
   ]
  },
  {
   "cell_type": "markdown",
   "metadata": {},
   "source": [
    "Градиенты в порядке, реализуем процесс тренировки!"
   ]
  },
  {
   "cell_type": "code",
   "execution_count": 16,
   "metadata": {
    "scrolled": false
   },
   "outputs": [
    {
     "name": "stdout",
     "output_type": "stream",
     "text": [
      "Epoch 0, loss: 2.397363\n",
      "Epoch 1, loss: 2.330354\n",
      "Epoch 2, loss: 2.311002\n",
      "Epoch 3, loss: 2.303897\n",
      "Epoch 4, loss: 2.303257\n",
      "Epoch 5, loss: 2.302898\n",
      "Epoch 6, loss: 2.302564\n",
      "Epoch 7, loss: 2.301815\n",
      "Epoch 8, loss: 2.301252\n",
      "Epoch 9, loss: 2.301256\n"
     ]
    }
   ],
   "source": [
    "# TODO: Implement LinearSoftmaxClassifier.fit function\n",
    "classifier = linear_classifer.LinearSoftmaxClassifier()\n",
    "loss_history = classifier.fit(train_X, train_y, epochs=10, learning_rate=1e-3, batch_size=300, reg=1e1)"
   ]
  },
  {
   "cell_type": "code",
   "execution_count": 17,
   "metadata": {},
   "outputs": [
    {
     "data": {
      "text/plain": [
       "[<matplotlib.lines.Line2D at 0x26c8197a898>]"
      ]
     },
     "execution_count": 17,
     "metadata": {},
     "output_type": "execute_result"
    },
    {
     "data": {
      "image/png": "[encoded data removed]",
      "text/plain": [
       "<matplotlib.figure.Figure at 0x26cede15d68>"
      ]
     },
     "metadata": {
      "needs_background": "light"
     },
     "output_type": "display_data"
    }
   ],
   "source": [
    "# let's look at the loss history!\n",
    "plt.plot(loss_history)"
   ]
  },
  {
   "cell_type": "code",
   "execution_count": 18,
   "metadata": {},
   "outputs": [
    {
     "name": "stdout",
     "output_type": "stream",
     "text": [
      "127\n",
      "Accuracy:  0.127\n",
      "Epoch 0, loss: 2.301800\n",
      "Epoch 1, loss: 2.302558\n",
      "Epoch 2, loss: 2.302208\n",
      "Epoch 3, loss: 2.303309\n",
      "Epoch 4, loss: 2.302126\n",
      "Epoch 5, loss: 2.301524\n",
      "Epoch 6, loss: 2.301150\n",
      "Epoch 7, loss: 2.301359\n",
      "Epoch 8, loss: 2.302305\n",
      "Epoch 9, loss: 2.302205\n",
      "Epoch 10, loss: 2.301595\n",
      "Epoch 11, loss: 2.302039\n",
      "Epoch 12, loss: 2.301247\n",
      "Epoch 13, loss: 2.301836\n",
      "Epoch 14, loss: 2.302396\n",
      "Epoch 15, loss: 2.302299\n",
      "Epoch 16, loss: 2.301161\n",
      "Epoch 17, loss: 2.302058\n",
      "Epoch 18, loss: 2.302180\n",
      "Epoch 19, loss: 2.302339\n",
      "Epoch 20, loss: 2.302694\n",
      "Epoch 21, loss: 2.301872\n",
      "Epoch 22, loss: 2.302261\n",
      "Epoch 23, loss: 2.302209\n",
      "Epoch 24, loss: 2.302215\n",
      "Epoch 25, loss: 2.301591\n",
      "Epoch 26, loss: 2.301535\n",
      "Epoch 27, loss: 2.302557\n",
      "Epoch 28, loss: 2.301689\n",
      "Epoch 29, loss: 2.301815\n",
      "Epoch 30, loss: 2.301483\n",
      "Epoch 31, loss: 2.301553\n",
      "Epoch 32, loss: 2.301640\n",
      "Epoch 33, loss: 2.301991\n",
      "Epoch 34, loss: 2.302104\n",
      "Epoch 35, loss: 2.301741\n",
      "Epoch 36, loss: 2.302652\n",
      "Epoch 37, loss: 2.303017\n",
      "Epoch 38, loss: 2.301521\n",
      "Epoch 39, loss: 2.301504\n",
      "Epoch 40, loss: 2.301565\n",
      "Epoch 41, loss: 2.302361\n",
      "Epoch 42, loss: 2.302223\n",
      "Epoch 43, loss: 2.302385\n",
      "Epoch 44, loss: 2.302532\n",
      "Epoch 45, loss: 2.301950\n",
      "Epoch 46, loss: 2.301686\n",
      "Epoch 47, loss: 2.301881\n",
      "Epoch 48, loss: 2.302291\n",
      "Epoch 49, loss: 2.302069\n",
      "Epoch 50, loss: 2.301971\n",
      "Epoch 51, loss: 2.302533\n",
      "Epoch 52, loss: 2.302043\n",
      "Epoch 53, loss: 2.302003\n",
      "Epoch 54, loss: 2.301729\n",
      "Epoch 55, loss: 2.301272\n",
      "Epoch 56, loss: 2.302220\n",
      "Epoch 57, loss: 2.301765\n",
      "Epoch 58, loss: 2.301959\n",
      "Epoch 59, loss: 2.302229\n",
      "Epoch 60, loss: 2.301372\n",
      "Epoch 61, loss: 2.302540\n",
      "Epoch 62, loss: 2.301929\n",
      "Epoch 63, loss: 2.301502\n",
      "Epoch 64, loss: 2.302201\n",
      "Epoch 65, loss: 2.302674\n",
      "Epoch 66, loss: 2.302191\n",
      "Epoch 67, loss: 2.302989\n",
      "Epoch 68, loss: 2.301388\n",
      "Epoch 69, loss: 2.301621\n",
      "Epoch 70, loss: 2.301533\n",
      "Epoch 71, loss: 2.302804\n",
      "Epoch 72, loss: 2.301514\n",
      "Epoch 73, loss: 2.300962\n",
      "Epoch 74, loss: 2.302366\n",
      "Epoch 75, loss: 2.301895\n",
      "Epoch 76, loss: 2.301768\n",
      "Epoch 77, loss: 2.302649\n",
      "Epoch 78, loss: 2.302394\n",
      "Epoch 79, loss: 2.301415\n",
      "Epoch 80, loss: 2.302148\n",
      "Epoch 81, loss: 2.302263\n",
      "Epoch 82, loss: 2.301172\n",
      "Epoch 83, loss: 2.302803\n",
      "Epoch 84, loss: 2.301892\n",
      "Epoch 85, loss: 2.302788\n",
      "Epoch 86, loss: 2.302016\n",
      "Epoch 87, loss: 2.302450\n",
      "Epoch 88, loss: 2.302002\n",
      "Epoch 89, loss: 2.302363\n",
      "Epoch 90, loss: 2.301257\n",
      "Epoch 91, loss: 2.302553\n",
      "Epoch 92, loss: 2.301951\n",
      "Epoch 93, loss: 2.300910\n",
      "Epoch 94, loss: 2.302318\n",
      "Epoch 95, loss: 2.301563\n",
      "Epoch 96, loss: 2.302494\n",
      "Epoch 97, loss: 2.301579\n",
      "Epoch 98, loss: 2.302468\n",
      "Epoch 99, loss: 2.302352\n",
      "121\n",
      "Accuracy after training for 100 epochs:  0.121\n"
     ]
    }
   ],
   "source": [
    "# Let's check how it performs on validation set\n",
    "pred = classifier.predict(val_X)\n",
    "accuracy = multiclass_accuracy(pred, val_y)\n",
    "print(\"Accuracy: \", accuracy)\n",
    "\n",
    "# Now, let's train more and see if it performs better\n",
    "classifier.fit(train_X, train_y, epochs=100, learning_rate=1e-3, batch_size=300, reg=1e1)\n",
    "pred = classifier.predict(val_X)\n",
    "accuracy = multiclass_accuracy(pred, val_y)\n",
    "print(\"Accuracy after training for 100 epochs: \", accuracy)"
   ]
  },
  {
   "cell_type": "markdown",
   "metadata": {},
   "source": [
    "### Как и раньше, используем кросс-валидацию для подбора гиперпараметтов.\n",
    "\n",
    "В этот раз, чтобы тренировка занимала разумное время, мы будем использовать только одно разделение на тренировочные (training) и проверочные (validation) данные.\n",
    "\n",
    "Теперь нам нужно подобрать не один, а два гиперпараметра! Не ограничивайте себя изначальными значениями в коде.  \n",
    "Добейтесь точности более чем **20%** на проверочных данных (validation data)."
   ]
  },
  {
   "cell_type": "code",
   "execution_count": 19,
   "metadata": {},
   "outputs": [
    {
     "name": "stdout",
     "output_type": "stream",
     "text": [
      "Epoch 0, loss: 2.250441\n",
      "Epoch 1, loss: 2.245397\n",
      "Epoch 2, loss: 2.181864\n",
      "Epoch 3, loss: 2.197874\n",
      "Epoch 4, loss: 2.139694\n",
      "Epoch 5, loss: 2.189683\n",
      "Epoch 6, loss: 2.144197\n",
      "Epoch 7, loss: 2.152679\n",
      "Epoch 8, loss: 2.160164\n",
      "Epoch 9, loss: 2.145262\n",
      "408\n",
      "Epoch 0, loss: 2.191741\n",
      "Epoch 1, loss: 2.146930\n",
      "Epoch 2, loss: 2.132830\n",
      "Epoch 3, loss: 2.151723\n",
      "Epoch 4, loss: 2.142709\n",
      "Epoch 5, loss: 2.149898\n",
      "Epoch 6, loss: 2.185024\n",
      "Epoch 7, loss: 2.176460\n",
      "Epoch 8, loss: 2.116264\n",
      "Epoch 9, loss: 2.129254\n",
      "471\n",
      "Epoch 0, loss: 2.140876\n",
      "Epoch 1, loss: 2.113172\n",
      "Epoch 2, loss: 2.112853\n",
      "Epoch 3, loss: 2.176328\n",
      "Epoch 4, loss: 2.056850\n",
      "Epoch 5, loss: 2.152109\n",
      "Epoch 6, loss: 2.090862\n",
      "Epoch 7, loss: 2.122512\n",
      "Epoch 8, loss: 2.068808\n",
      "Epoch 9, loss: 2.141933\n",
      "501\n",
      "Epoch 0, loss: 2.137080\n",
      "Epoch 1, loss: 2.151301\n",
      "Epoch 2, loss: 2.093354\n",
      "Epoch 3, loss: 2.055206\n",
      "Epoch 4, loss: 2.082079\n",
      "Epoch 5, loss: 2.093049\n",
      "Epoch 6, loss: 2.081869\n",
      "Epoch 7, loss: 2.060775\n",
      "Epoch 8, loss: 2.149427\n",
      "Epoch 9, loss: 2.123738\n",
      "498\n",
      "Epoch 0, loss: 2.101052\n",
      "Epoch 1, loss: 2.122201\n",
      "Epoch 2, loss: 2.162378\n",
      "Epoch 3, loss: 2.082634\n",
      "Epoch 4, loss: 2.122406\n",
      "Epoch 5, loss: 2.034413\n",
      "Epoch 6, loss: 2.126594\n",
      "Epoch 7, loss: 2.107447\n",
      "Epoch 8, loss: 2.084213\n",
      "Epoch 9, loss: 2.085779\n",
      "436\n",
      "Linear classifier with l = 1.000000e-01 and r = 1.000000e-04\n",
      "Accuracy: 0.26\n",
      "Epoch 0, loss: 2.263563\n",
      "Epoch 1, loss: 2.230969\n",
      "Epoch 2, loss: 2.261460\n",
      "Epoch 3, loss: 2.163625\n",
      "Epoch 4, loss: 2.164161\n",
      "Epoch 5, loss: 2.162474\n",
      "Epoch 6, loss: 2.112304\n",
      "Epoch 7, loss: 2.204758\n",
      "Epoch 8, loss: 2.125669\n",
      "Epoch 9, loss: 2.111600\n",
      "389\n",
      "Epoch 0, loss: 2.151150\n",
      "Epoch 1, loss: 2.222094\n",
      "Epoch 2, loss: 2.187677\n",
      "Epoch 3, loss: 2.143969\n",
      "Epoch 4, loss: 2.107000\n",
      "Epoch 5, loss: 2.129972\n",
      "Epoch 6, loss: 2.074708\n",
      "Epoch 7, loss: 2.167531\n",
      "Epoch 8, loss: 2.151739\n",
      "Epoch 9, loss: 2.097828\n",
      "478\n",
      "Epoch 0, loss: 2.088387\n",
      "Epoch 1, loss: 2.159866\n",
      "Epoch 2, loss: 2.163085\n",
      "Epoch 3, loss: 2.105374\n",
      "Epoch 4, loss: 2.126987\n",
      "Epoch 5, loss: 2.133154\n",
      "Epoch 6, loss: 2.103412\n",
      "Epoch 7, loss: 2.142215\n",
      "Epoch 8, loss: 2.086322\n",
      "Epoch 9, loss: 2.167763\n",
      "524\n",
      "Epoch 0, loss: 2.133548\n",
      "Epoch 1, loss: 2.092886\n",
      "Epoch 2, loss: 2.105685\n",
      "Epoch 3, loss: 2.096564\n",
      "Epoch 4, loss: 2.095345\n",
      "Epoch 5, loss: 2.074977\n",
      "Epoch 6, loss: 2.131482\n",
      "Epoch 7, loss: 2.094090\n",
      "Epoch 8, loss: 2.096049\n",
      "Epoch 9, loss: 2.075307\n",
      "513\n",
      "Epoch 0, loss: 2.107331\n",
      "Epoch 1, loss: 2.095586\n",
      "Epoch 2, loss: 2.111729\n",
      "Epoch 3, loss: 2.119532\n",
      "Epoch 4, loss: 2.054445\n",
      "Epoch 5, loss: 2.072012\n",
      "Epoch 6, loss: 2.090440\n",
      "Epoch 7, loss: 2.078158\n",
      "Epoch 8, loss: 2.121522\n",
      "Epoch 9, loss: 2.120688\n",
      "480\n",
      "Linear classifier with l = 1.000000e-01 and r = 1.000000e-05\n",
      "Accuracy: 0.26\n",
      "Epoch 0, loss: 2.301043\n",
      "Epoch 1, loss: 2.282131\n",
      "Epoch 2, loss: 2.286040\n",
      "Epoch 3, loss: 2.281082\n",
      "Epoch 4, loss: 2.274093\n",
      "Epoch 5, loss: 2.261410\n",
      "Epoch 6, loss: 2.251806\n",
      "Epoch 7, loss: 2.254170\n",
      "Epoch 8, loss: 2.238639\n",
      "Epoch 9, loss: 2.243301\n",
      "394\n",
      "Epoch 0, loss: 2.236642\n",
      "Epoch 1, loss: 2.259850\n",
      "Epoch 2, loss: 2.230507\n",
      "Epoch 3, loss: 2.248562\n",
      "Epoch 4, loss: 2.235961\n",
      "Epoch 5, loss: 2.228377\n",
      "Epoch 6, loss: 2.227050\n",
      "Epoch 7, loss: 2.203312\n",
      "Epoch 8, loss: 2.220581\n",
      "Epoch 9, loss: 2.229827\n",
      "452\n",
      "Epoch 0, loss: 2.253820\n",
      "Epoch 1, loss: 2.203524\n",
      "Epoch 2, loss: 2.208443\n",
      "Epoch 3, loss: 2.189059\n",
      "Epoch 4, loss: 2.179750\n",
      "Epoch 5, loss: 2.202551\n",
      "Epoch 6, loss: 2.215537\n",
      "Epoch 7, loss: 2.202038\n",
      "Epoch 8, loss: 2.210374\n",
      "Epoch 9, loss: 2.192699\n",
      "443\n",
      "Epoch 0, loss: 2.204766\n",
      "Epoch 1, loss: 2.196033\n",
      "Epoch 2, loss: 2.168362\n",
      "Epoch 3, loss: 2.183213\n",
      "Epoch 4, loss: 2.157509\n",
      "Epoch 5, loss: 2.186283\n",
      "Epoch 6, loss: 2.182341\n",
      "Epoch 7, loss: 2.194622\n",
      "Epoch 8, loss: 2.144924\n",
      "Epoch 9, loss: 2.134219\n",
      "410\n",
      "Epoch 0, loss: 2.190023\n",
      "Epoch 1, loss: 2.185411\n",
      "Epoch 2, loss: 2.209249\n",
      "Epoch 3, loss: 2.185756\n",
      "Epoch 4, loss: 2.162800\n",
      "Epoch 5, loss: 2.178822\n",
      "Epoch 6, loss: 2.183004\n",
      "Epoch 7, loss: 2.173071\n",
      "Epoch 8, loss: 2.158320\n",
      "Epoch 9, loss: 2.137953\n",
      "416\n",
      "Linear classifier with l = 1.000000e-02 and r = 1.000000e-04\n",
      "Accuracy: 0.24\n",
      "Epoch 0, loss: 2.296947\n",
      "Epoch 1, loss: 2.294248\n",
      "Epoch 2, loss: 2.289704\n",
      "Epoch 3, loss: 2.282063\n",
      "Epoch 4, loss: 2.270624\n",
      "Epoch 5, loss: 2.267134\n",
      "Epoch 6, loss: 2.260108\n",
      "Epoch 7, loss: 2.250960\n",
      "Epoch 8, loss: 2.232981\n",
      "Epoch 9, loss: 2.233762\n",
      "378\n",
      "Epoch 0, loss: 2.260952\n",
      "Epoch 1, loss: 2.258678\n",
      "Epoch 2, loss: 2.234930\n",
      "Epoch 3, loss: 2.219176\n",
      "Epoch 4, loss: 2.233133\n",
      "Epoch 5, loss: 2.234351\n",
      "Epoch 6, loss: 2.212195\n",
      "Epoch 7, loss: 2.236120\n",
      "Epoch 8, loss: 2.211664\n",
      "Epoch 9, loss: 2.247686\n",
      "449\n",
      "Epoch 0, loss: 2.235368\n",
      "Epoch 1, loss: 2.231854\n",
      "Epoch 2, loss: 2.208151\n",
      "Epoch 3, loss: 2.182795\n",
      "Epoch 4, loss: 2.209244\n",
      "Epoch 5, loss: 2.201408\n",
      "Epoch 6, loss: 2.229271\n",
      "Epoch 7, loss: 2.196126\n",
      "Epoch 8, loss: 2.189550\n",
      "Epoch 9, loss: 2.208227\n",
      "441\n",
      "Epoch 0, loss: 2.221648\n",
      "Epoch 1, loss: 2.170797\n",
      "Epoch 2, loss: 2.197794\n",
      "Epoch 3, loss: 2.167810\n",
      "Epoch 4, loss: 2.192311\n",
      "Epoch 5, loss: 2.168819\n",
      "Epoch 6, loss: 2.190909\n",
      "Epoch 7, loss: 2.170377\n",
      "Epoch 8, loss: 2.201755\n",
      "Epoch 9, loss: 2.203875\n",
      "421\n",
      "Epoch 0, loss: 2.203190\n",
      "Epoch 1, loss: 2.168636\n",
      "Epoch 2, loss: 2.175487\n",
      "Epoch 3, loss: 2.156721\n",
      "Epoch 4, loss: 2.217088\n",
      "Epoch 5, loss: 2.137587\n",
      "Epoch 6, loss: 2.162278\n",
      "Epoch 7, loss: 2.188976\n",
      "Epoch 8, loss: 2.155525\n",
      "Epoch 9, loss: 2.162455\n",
      "425\n",
      "Linear classifier with l = 1.000000e-02 and r = 1.000000e-05\n",
      "Accuracy: 0.23\n",
      "Epoch 0, loss: 2.302142\n",
      "Epoch 1, loss: 2.299786\n",
      "Epoch 2, loss: 2.299562\n",
      "Epoch 3, loss: 2.300256\n",
      "Epoch 4, loss: 2.296354\n",
      "Epoch 5, loss: 2.299808\n",
      "Epoch 6, loss: 2.297214\n",
      "Epoch 7, loss: 2.294798\n",
      "Epoch 8, loss: 2.294730\n",
      "Epoch 9, loss: 2.295803\n",
      "258\n",
      "Epoch 0, loss: 2.294603\n",
      "Epoch 1, loss: 2.295168\n",
      "Epoch 2, loss: 2.294329\n",
      "Epoch 3, loss: 2.293988\n",
      "Epoch 4, loss: 2.292523\n",
      "Epoch 5, loss: 2.291792\n",
      "Epoch 6, loss: 2.291746\n",
      "Epoch 7, loss: 2.289237\n",
      "Epoch 8, loss: 2.291389\n",
      "Epoch 9, loss: 2.289950\n",
      "368\n",
      "Epoch 0, loss: 2.284306\n",
      "Epoch 1, loss: 2.291014\n",
      "Epoch 2, loss: 2.285119\n",
      "Epoch 3, loss: 2.288627\n",
      "Epoch 4, loss: 2.290692\n",
      "Epoch 5, loss: 2.291343\n",
      "Epoch 6, loss: 2.283546\n",
      "Epoch 7, loss: 2.282943\n",
      "Epoch 8, loss: 2.278688\n",
      "Epoch 9, loss: 2.289303\n",
      "383\n",
      "Epoch 0, loss: 2.278649\n",
      "Epoch 1, loss: 2.283040\n",
      "Epoch 2, loss: 2.277569\n",
      "Epoch 3, loss: 2.277961\n",
      "Epoch 4, loss: 2.285232\n",
      "Epoch 5, loss: 2.279240\n",
      "Epoch 6, loss: 2.276846\n",
      "Epoch 7, loss: 2.273502\n",
      "Epoch 8, loss: 2.268036\n",
      "Epoch 9, loss: 2.271175\n",
      "378\n",
      "Epoch 0, loss: 2.275727\n",
      "Epoch 1, loss: 2.273194\n",
      "Epoch 2, loss: 2.281783\n",
      "Epoch 3, loss: 2.269726\n",
      "Epoch 4, loss: 2.283305\n",
      "Epoch 5, loss: 2.265661\n",
      "Epoch 6, loss: 2.281410\n",
      "Epoch 7, loss: 2.285175\n",
      "Epoch 8, loss: 2.276525\n",
      "Epoch 9, loss: 2.277057\n",
      "386\n",
      "Linear classifier with l = 1.000000e-03 and r = 1.000000e-04\n",
      "Accuracy: 0.20\n",
      "Epoch 0, loss: 2.302041\n",
      "Epoch 1, loss: 2.301619\n",
      "Epoch 2, loss: 2.301191\n",
      "Epoch 3, loss: 2.298436\n",
      "Epoch 4, loss: 2.298254\n",
      "Epoch 5, loss: 2.298245\n",
      "Epoch 6, loss: 2.297695\n",
      "Epoch 7, loss: 2.297524\n",
      "Epoch 8, loss: 2.295975\n",
      "Epoch 9, loss: 2.297494\n",
      "258\n",
      "Epoch 0, loss: 2.296020\n",
      "Epoch 1, loss: 2.293404\n",
      "Epoch 2, loss: 2.290685\n",
      "Epoch 3, loss: 2.288157\n",
      "Epoch 4, loss: 2.294180\n",
      "Epoch 5, loss: 2.294700\n",
      "Epoch 6, loss: 2.291303\n",
      "Epoch 7, loss: 2.289924\n",
      "Epoch 8, loss: 2.290248\n",
      "Epoch 9, loss: 2.287771\n",
      "374\n",
      "Epoch 0, loss: 2.296478\n",
      "Epoch 1, loss: 2.287713\n",
      "Epoch 2, loss: 2.287355\n",
      "Epoch 3, loss: 2.293635\n",
      "Epoch 4, loss: 2.284258\n",
      "Epoch 5, loss: 2.284904\n",
      "Epoch 6, loss: 2.286362\n",
      "Epoch 7, loss: 2.282047\n",
      "Epoch 8, loss: 2.290384\n",
      "Epoch 9, loss: 2.281969\n",
      "386\n",
      "Epoch 0, loss: 2.282201\n",
      "Epoch 1, loss: 2.284864\n",
      "Epoch 2, loss: 2.279623\n",
      "Epoch 3, loss: 2.282167\n",
      "Epoch 4, loss: 2.281866\n",
      "Epoch 5, loss: 2.278471\n",
      "Epoch 6, loss: 2.280559\n",
      "Epoch 7, loss: 2.281290\n",
      "Epoch 8, loss: 2.281366\n",
      "Epoch 9, loss: 2.278148\n",
      "370\n",
      "Epoch 0, loss: 2.272218\n",
      "Epoch 1, loss: 2.273135\n",
      "Epoch 2, loss: 2.276652\n",
      "Epoch 3, loss: 2.268704\n",
      "Epoch 4, loss: 2.274515\n",
      "Epoch 5, loss: 2.268124\n",
      "Epoch 6, loss: 2.276437\n",
      "Epoch 7, loss: 2.269822\n",
      "Epoch 8, loss: 2.273104\n",
      "Epoch 9, loss: 2.275564\n",
      "388\n",
      "Linear classifier with l = 1.000000e-03 and r = 1.000000e-05\n",
      "Accuracy: 0.20\n",
      "l, r = 0.001, 0.0001, accuracy = 0.197000\n",
      "l, r = 0.001, 1e-05, accuracy = 0.197333\n",
      "l, r = 0.01, 0.0001, accuracy = 0.235000\n",
      "l, r = 0.01, 1e-05, accuracy = 0.234889\n",
      "l, r = 0.1, 0.0001, accuracy = 0.257111\n",
      "l, r = 0.1, 1e-05, accuracy = 0.264889\n"
     ]
    }
   ],
   "source": [
    "from sklearn.model_selection import KFold\n",
    "\n",
    "num_epochs = 10\n",
    "batch_size = 300\n",
    "\n",
    "#learning_rates = [1e-3, 1e-4, 1e-5]\n",
    "#reg_strengths = [1e-4, 1e-5, 1e-6]\n",
    "learning_rates = [1e-1, 1e-2, 1e-3]\n",
    "reg_strengths = [1e-4, 1e-5]\n",
    "\n",
    "best_classifier = None\n",
    "best_val_accuracy = None\n",
    "\n",
    "# TODO use validation set to find the best hyperparameters\n",
    "# hint: for best results, you might need to try more values for learning rate and regularization strength \n",
    "# than provided initially\n",
    "\n",
    "# Find the best k using cross-validation based on accuracy\n",
    "num_folds = 5\n",
    "train_folds_X = []\n",
    "test_folds_X = []\n",
    "l_r_to_accuracy = {}\n",
    "\n",
    "# TODO: split the training data in 5 folds and store them in train_folds_X/train_folds_y\n",
    "\n",
    "kfold = KFold(num_folds, True, 1)\n",
    "\n",
    "for train, test in kfold.split(train_X):\n",
    "    train_folds_X.append(train)\n",
    "    test_folds_X.append(test)  \n",
    "\n",
    "for l in learning_rates:\n",
    "    for r in reg_strengths:\n",
    "        # TODO: perform cross-validation\n",
    "        # Go through every fold and use it for testing and all other folds for validation\n",
    "        # Perform training and produce accuracy metric on the validation dataset\n",
    "        # Average accuracy from all the folds and write it into k_to_accuracy\n",
    "        accuracy_all = []\n",
    "        classifier = linear_classifer.LinearSoftmaxClassifier()\n",
    "        for i, train in enumerate(train_folds_X):\n",
    "            loss_history = classifier.fit(train_X[train], train_y[train], epochs=num_epochs, learning_rate=l, batch_size=batch_size, reg=r)\n",
    "            pred = classifier.predict(train_X[test_folds_X[i]])\n",
    "            accuracy = multiclass_accuracy(pred, train_y[test_folds_X[i]])\n",
    "            accuracy_all.append(accuracy)\n",
    "\n",
    "        l_r_to_accuracy[str(l) + ', ' + str(r)] = np.average(accuracy_all)\n",
    "        print(\"Linear classifier with l = %e and r = %e\" % (l, r))\n",
    "        print(\"Accuracy: %4.2f\" % (l_r_to_accuracy[str(l) + ', ' + str(r)])) \n",
    "\n",
    "for lr in sorted(l_r_to_accuracy):\n",
    "    print('l, r = %s, accuracy = %f' % (lr, l_r_to_accuracy[lr]))"
   ]
  },
  {
   "cell_type": "markdown",
   "metadata": {},
   "source": [
    "# Какой же точности мы добились на тестовых данных?"
   ]
  },
  {
   "cell_type": "code",
   "execution_count": 20,
   "metadata": {},
   "outputs": [
    {
     "ename": "AttributeError",
     "evalue": "'NoneType' object has no attribute 'predict'",
     "output_type": "error",
     "traceback": [
      "\u001b[1;31m---------------------------------------------------------------------------\u001b[0m",
      "\u001b[1;31mAttributeError\u001b[0m                            Traceback (most recent call last)",
      "\u001b[1;32m<ipython-input-20-a2a9c55e5e8b>\u001b[0m in \u001b[0;36m<module>\u001b[1;34m()\u001b[0m\n\u001b[1;32m----> 1\u001b[1;33m \u001b[0mtest_pred\u001b[0m \u001b[1;33m=\u001b[0m \u001b[0mbest_classifier\u001b[0m\u001b[1;33m.\u001b[0m\u001b[0mpredict\u001b[0m\u001b[1;33m(\u001b[0m\u001b[0mtest_X\u001b[0m\u001b[1;33m)\u001b[0m\u001b[1;33m\u001b[0m\u001b[0m\n\u001b[0m\u001b[0;32m      2\u001b[0m \u001b[0mtest_accuracy\u001b[0m \u001b[1;33m=\u001b[0m \u001b[0mmulticlass_accuracy\u001b[0m\u001b[1;33m(\u001b[0m\u001b[0mtest_pred\u001b[0m\u001b[1;33m,\u001b[0m \u001b[0mtest_y\u001b[0m\u001b[1;33m)\u001b[0m\u001b[1;33m\u001b[0m\u001b[0m\n\u001b[0;32m      3\u001b[0m \u001b[0mprint\u001b[0m\u001b[1;33m(\u001b[0m\u001b[1;34m'Linear softmax classifier test set accuracy: %f'\u001b[0m \u001b[1;33m%\u001b[0m \u001b[1;33m(\u001b[0m\u001b[0mtest_accuracy\u001b[0m\u001b[1;33m,\u001b[0m \u001b[1;33m)\u001b[0m\u001b[1;33m)\u001b[0m\u001b[1;33m\u001b[0m\u001b[0m\n",
      "\u001b[1;31mAttributeError\u001b[0m: 'NoneType' object has no attribute 'predict'"
     ]
    }
   ],
   "source": [
    "test_pred = best_classifier.predict(test_X)\n",
    "test_accuracy = multiclass_accuracy(test_pred, test_y)\n",
    "print('Linear softmax classifier test set accuracy: %f' % (test_accuracy, ))"
   ]
  },
  {
   "cell_type": "code",
   "execution_count": null,
   "metadata": {
    "collapsed": true
   },
   "outputs": [],
   "source": []
  }
 ],
 "metadata": {
  "kernelspec": {
   "display_name": "Python 3",
   "language": "python",
   "name": "python3"
  },
  "language_info": {
   "codemirror_mode": {
    "name": "ipython",
    "version": 3
   },
   "file_extension": ".py",
   "mimetype": "text/x-python",
   "name": "python",
   "nbconvert_exporter": "python",
   "pygments_lexer": "ipython3",
   "version": "3.6.2"
  }
 },
 "nbformat": 4,
 "nbformat_minor": 2
}
